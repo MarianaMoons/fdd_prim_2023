{
 "cells": [
  {
   "attachments": {},
   "cell_type": "markdown",
   "metadata": {},
   "source": [
    "Javier Nieto Merodio"
   ]
  },
  {
   "attachments": {},
   "cell_type": "markdown",
   "metadata": {},
   "source": [
    "# **Prediccion de Default en Prestamos**\n"
   ]
  },
  {
   "cell_type": "markdown",
   "metadata": {},
   "source": [
    "Para este proyecto utilizaremos un sample de los datos de Lending Club. La idea es predecir si cierto usuario cometera Default basado en informacion que la plataforma recolecta. Esto nos ayudara a mejorar la metodologia/pipeline de prestamo.\n"
   ]
  },
  {
   "attachments": {},
   "cell_type": "markdown",
   "metadata": {},
   "source": [
    "# **Descripcion**"
   ]
  },
  {
   "attachments": {},
   "cell_type": "markdown",
   "metadata": {},
   "source": [
    "\n",
    "\n",
    "Contiene los prestamos de esta plataforma:\n",
    "\n",
    "    periodo 2007-2017Q3.\n",
    "    887mil observaciones, sample de 100mil\n",
    "    150 variables\n",
    "    Target: loan status\n",
    "\n"
   ]
  },
  {
   "attachments": {},
   "cell_type": "markdown",
   "metadata": {},
   "source": [
    "# **Objetivo**"
   ]
  },
  {
   "cell_type": "markdown",
   "metadata": {},
   "source": [
    "Realizar un ETL y un EDA"
   ]
  },
  {
   "attachments": {},
   "cell_type": "markdown",
   "metadata": {},
   "source": [
    "## ETL"
   ]
  },
  {
   "attachments": {},
   "cell_type": "markdown",
   "metadata": {},
   "source": [
    "0. Limpia los datos de tal manera que al final del ETL queden en formato `tidy`.\n",
    "1. Asegurate de cargar y leer los datos\n",
    "2. Crea una tabla donde se guarde el nombre de la columna y el tipo de dato: (`column_name`,   `type`).\n",
    "3. Asegurate de pensar cual es el tipo de dato correcto. Porque elejiste strig/object o float o int?. No hay respuestas incorrectas como tal, pero tienes que justificar tu decision.\n",
    "4. Maneja missings o nans de la manera adecuada. Justifica cada decision\n",
    "\n",
    "\n",
    "\n",
    "\n",
    "\n"
   ]
  },
  {
   "attachments": {},
   "cell_type": "markdown",
   "metadata": {},
   "source": [
    "## EDA"
   ]
  },
  {
   "attachments": {},
   "cell_type": "markdown",
   "metadata": {},
   "source": [
    "0. Preparar lo datos para un pipeline de datos\n",
    "1. Quitar columnas inservibles \n",
    "2. Imputar valores\n",
    "3. Mantener replicabildiad y reproducibilidad"
   ]
  },
  {
   "attachments": {},
   "cell_type": "markdown",
   "metadata": {},
   "source": [
    "**No olvides anotar tus justificaciones en celdas para recordar cuando te toque explicarlo.** Puedes agregar el numero de celdas que necesites para poner tu explicacion y el codigo, solo manten la estructura."
   ]
  },
  {
   "attachments": {},
   "cell_type": "markdown",
   "metadata": {},
   "source": [
    "# **ETL**"
   ]
  },
  {
   "cell_type": "code",
   "execution_count": 1,
   "metadata": {},
   "outputs": [],
   "source": [
    "import pandas as pd\n",
    "import numpy as np"
   ]
  },
  {
   "attachments": {},
   "cell_type": "markdown",
   "metadata": {},
   "source": [
    "Vas a obtener 2 errores, solucionalo con los visto en clase.  \n",
    "Tip: Se arreglan con argumentos adicionales de la funcion `read_csv`  \n",
    "Documentacion: https://pandas.pydata.org/docs/reference/api/pandas.read_csv.html "
   ]
  },
  {
   "cell_type": "code",
   "execution_count": 2,
   "metadata": {},
   "outputs": [
    {
     "name": "stdout",
     "output_type": "stream",
     "text": [
      "Error\n"
     ]
    }
   ],
   "source": [
    "try:\n",
    "     pd.read_csv('https://github.com/sonder-art/fdd_prim_2023/blob/main/codigo/pandas/LoansData_sample.csv.gz?raw=true')\n",
    "except:\n",
    "    print (\"Error\")\n",
    "\n"
   ]
  },
  {
   "attachments": {},
   "cell_type": "markdown",
   "metadata": {},
   "source": [
    "> Primer problema: tenemos un archivo de terminación .csv.gz. Quiere decir que primero tenemos que descromprimirlo. \n",
    "\n",
    "Usamos el argumento <code>comprenssion</code> para decirle que tenemos un archivo comprimido de tipo .gz"
   ]
  },
  {
   "cell_type": "code",
   "execution_count": 3,
   "metadata": {},
   "outputs": [
    {
     "name": "stderr",
     "output_type": "stream",
     "text": [
      "/var/folders/t_/fh0l2j4n2rz0fskmrkd8ltvm0000gn/T/ipykernel_21807/1384986908.py:1: DtypeWarning: Columns (19) have mixed types. Specify dtype option on import or set low_memory=False.\n",
      "  pd.read_csv('https://github.com/sonder-art/fdd_prim_2023/blob/main/codigo/pandas/LoansData_sample.csv.gz?raw=true', compression='gzip')\n"
     ]
    },
    {
     "data": {
      "text/html": [
       "<div>\n",
       "<style scoped>\n",
       "    .dataframe tbody tr th:only-of-type {\n",
       "        vertical-align: middle;\n",
       "    }\n",
       "\n",
       "    .dataframe tbody tr th {\n",
       "        vertical-align: top;\n",
       "    }\n",
       "\n",
       "    .dataframe thead th {\n",
       "        text-align: right;\n",
       "    }\n",
       "</style>\n",
       "<table border=\"1\" class=\"dataframe\">\n",
       "  <thead>\n",
       "    <tr style=\"text-align: right;\">\n",
       "      <th></th>\n",
       "      <th>Unnamed: 0</th>\n",
       "      <th>id</th>\n",
       "      <th>member_id</th>\n",
       "      <th>loan_amnt</th>\n",
       "      <th>funded_amnt</th>\n",
       "      <th>funded_amnt_inv</th>\n",
       "      <th>term</th>\n",
       "      <th>int_rate</th>\n",
       "      <th>installment</th>\n",
       "      <th>grade</th>\n",
       "      <th>...</th>\n",
       "      <th>hardship_payoff_balance_amount</th>\n",
       "      <th>hardship_last_payment_amount</th>\n",
       "      <th>disbursement_method</th>\n",
       "      <th>debt_settlement_flag</th>\n",
       "      <th>debt_settlement_flag_date</th>\n",
       "      <th>settlement_status</th>\n",
       "      <th>settlement_date</th>\n",
       "      <th>settlement_amount</th>\n",
       "      <th>settlement_percentage</th>\n",
       "      <th>settlement_term</th>\n",
       "    </tr>\n",
       "  </thead>\n",
       "  <tbody>\n",
       "    <tr>\n",
       "      <th>0</th>\n",
       "      <td>0</td>\n",
       "      <td>38098114</td>\n",
       "      <td>NaN</td>\n",
       "      <td>15000.0</td>\n",
       "      <td>15000.0</td>\n",
       "      <td>15000.0</td>\n",
       "      <td>60 months</td>\n",
       "      <td>12.39</td>\n",
       "      <td>336.64</td>\n",
       "      <td>C</td>\n",
       "      <td>...</td>\n",
       "      <td>NaN</td>\n",
       "      <td>NaN</td>\n",
       "      <td>Cash</td>\n",
       "      <td>N</td>\n",
       "      <td>NaN</td>\n",
       "      <td>NaN</td>\n",
       "      <td>NaN</td>\n",
       "      <td>NaN</td>\n",
       "      <td>NaN</td>\n",
       "      <td>NaN</td>\n",
       "    </tr>\n",
       "    <tr>\n",
       "      <th>1</th>\n",
       "      <td>1</td>\n",
       "      <td>36805548</td>\n",
       "      <td>NaN</td>\n",
       "      <td>10400.0</td>\n",
       "      <td>10400.0</td>\n",
       "      <td>10400.0</td>\n",
       "      <td>36 months</td>\n",
       "      <td>6.99</td>\n",
       "      <td>321.08</td>\n",
       "      <td>A</td>\n",
       "      <td>...</td>\n",
       "      <td>NaN</td>\n",
       "      <td>NaN</td>\n",
       "      <td>Cash</td>\n",
       "      <td>N</td>\n",
       "      <td>NaN</td>\n",
       "      <td>NaN</td>\n",
       "      <td>NaN</td>\n",
       "      <td>NaN</td>\n",
       "      <td>NaN</td>\n",
       "      <td>NaN</td>\n",
       "    </tr>\n",
       "    <tr>\n",
       "      <th>2</th>\n",
       "      <td>2</td>\n",
       "      <td>37842129</td>\n",
       "      <td>NaN</td>\n",
       "      <td>21425.0</td>\n",
       "      <td>21425.0</td>\n",
       "      <td>21425.0</td>\n",
       "      <td>60 months</td>\n",
       "      <td>15.59</td>\n",
       "      <td>516.36</td>\n",
       "      <td>D</td>\n",
       "      <td>...</td>\n",
       "      <td>NaN</td>\n",
       "      <td>NaN</td>\n",
       "      <td>Cash</td>\n",
       "      <td>N</td>\n",
       "      <td>NaN</td>\n",
       "      <td>NaN</td>\n",
       "      <td>NaN</td>\n",
       "      <td>NaN</td>\n",
       "      <td>NaN</td>\n",
       "      <td>NaN</td>\n",
       "    </tr>\n",
       "    <tr>\n",
       "      <th>3</th>\n",
       "      <td>3</td>\n",
       "      <td>37612354</td>\n",
       "      <td>NaN</td>\n",
       "      <td>12800.0</td>\n",
       "      <td>12800.0</td>\n",
       "      <td>12800.0</td>\n",
       "      <td>60 months</td>\n",
       "      <td>17.14</td>\n",
       "      <td>319.08</td>\n",
       "      <td>D</td>\n",
       "      <td>...</td>\n",
       "      <td>NaN</td>\n",
       "      <td>NaN</td>\n",
       "      <td>Cash</td>\n",
       "      <td>N</td>\n",
       "      <td>NaN</td>\n",
       "      <td>NaN</td>\n",
       "      <td>NaN</td>\n",
       "      <td>NaN</td>\n",
       "      <td>NaN</td>\n",
       "      <td>NaN</td>\n",
       "    </tr>\n",
       "    <tr>\n",
       "      <th>4</th>\n",
       "      <td>4</td>\n",
       "      <td>37662224</td>\n",
       "      <td>NaN</td>\n",
       "      <td>7650.0</td>\n",
       "      <td>7650.0</td>\n",
       "      <td>7650.0</td>\n",
       "      <td>36 months</td>\n",
       "      <td>13.66</td>\n",
       "      <td>260.20</td>\n",
       "      <td>C</td>\n",
       "      <td>...</td>\n",
       "      <td>NaN</td>\n",
       "      <td>NaN</td>\n",
       "      <td>Cash</td>\n",
       "      <td>N</td>\n",
       "      <td>NaN</td>\n",
       "      <td>NaN</td>\n",
       "      <td>NaN</td>\n",
       "      <td>NaN</td>\n",
       "      <td>NaN</td>\n",
       "      <td>NaN</td>\n",
       "    </tr>\n",
       "    <tr>\n",
       "      <th>...</th>\n",
       "      <td>...</td>\n",
       "      <td>...</td>\n",
       "      <td>...</td>\n",
       "      <td>...</td>\n",
       "      <td>...</td>\n",
       "      <td>...</td>\n",
       "      <td>...</td>\n",
       "      <td>...</td>\n",
       "      <td>...</td>\n",
       "      <td>...</td>\n",
       "      <td>...</td>\n",
       "      <td>...</td>\n",
       "      <td>...</td>\n",
       "      <td>...</td>\n",
       "      <td>...</td>\n",
       "      <td>...</td>\n",
       "      <td>...</td>\n",
       "      <td>...</td>\n",
       "      <td>...</td>\n",
       "      <td>...</td>\n",
       "      <td>...</td>\n",
       "    </tr>\n",
       "    <tr>\n",
       "      <th>99995</th>\n",
       "      <td>99995</td>\n",
       "      <td>22454240</td>\n",
       "      <td>NaN</td>\n",
       "      <td>8400.0</td>\n",
       "      <td>8400.0</td>\n",
       "      <td>8400.0</td>\n",
       "      <td>36 months</td>\n",
       "      <td>9.17</td>\n",
       "      <td>267.79</td>\n",
       "      <td>B</td>\n",
       "      <td>...</td>\n",
       "      <td>NaN</td>\n",
       "      <td>NaN</td>\n",
       "      <td>Cash</td>\n",
       "      <td>N</td>\n",
       "      <td>NaN</td>\n",
       "      <td>NaN</td>\n",
       "      <td>NaN</td>\n",
       "      <td>NaN</td>\n",
       "      <td>NaN</td>\n",
       "      <td>NaN</td>\n",
       "    </tr>\n",
       "    <tr>\n",
       "      <th>99996</th>\n",
       "      <td>99996</td>\n",
       "      <td>11396920</td>\n",
       "      <td>NaN</td>\n",
       "      <td>10000.0</td>\n",
       "      <td>10000.0</td>\n",
       "      <td>10000.0</td>\n",
       "      <td>36 months</td>\n",
       "      <td>12.99</td>\n",
       "      <td>336.90</td>\n",
       "      <td>C</td>\n",
       "      <td>...</td>\n",
       "      <td>NaN</td>\n",
       "      <td>NaN</td>\n",
       "      <td>Cash</td>\n",
       "      <td>N</td>\n",
       "      <td>NaN</td>\n",
       "      <td>NaN</td>\n",
       "      <td>NaN</td>\n",
       "      <td>NaN</td>\n",
       "      <td>NaN</td>\n",
       "      <td>NaN</td>\n",
       "    </tr>\n",
       "    <tr>\n",
       "      <th>99997</th>\n",
       "      <td>99997</td>\n",
       "      <td>8556176</td>\n",
       "      <td>NaN</td>\n",
       "      <td>30000.0</td>\n",
       "      <td>30000.0</td>\n",
       "      <td>30000.0</td>\n",
       "      <td>60 months</td>\n",
       "      <td>20.99</td>\n",
       "      <td>811.44</td>\n",
       "      <td>E</td>\n",
       "      <td>...</td>\n",
       "      <td>NaN</td>\n",
       "      <td>NaN</td>\n",
       "      <td>Cash</td>\n",
       "      <td>N</td>\n",
       "      <td>NaN</td>\n",
       "      <td>NaN</td>\n",
       "      <td>NaN</td>\n",
       "      <td>NaN</td>\n",
       "      <td>NaN</td>\n",
       "      <td>NaN</td>\n",
       "    </tr>\n",
       "    <tr>\n",
       "      <th>99998</th>\n",
       "      <td>99998</td>\n",
       "      <td>24023408</td>\n",
       "      <td>NaN</td>\n",
       "      <td>8475.0</td>\n",
       "      <td>8475.0</td>\n",
       "      <td>8475.0</td>\n",
       "      <td>36 months</td>\n",
       "      <td>24.99</td>\n",
       "      <td>336.92</td>\n",
       "      <td>F</td>\n",
       "      <td>...</td>\n",
       "      <td>NaN</td>\n",
       "      <td>NaN</td>\n",
       "      <td>Cash</td>\n",
       "      <td>N</td>\n",
       "      <td>NaN</td>\n",
       "      <td>NaN</td>\n",
       "      <td>NaN</td>\n",
       "      <td>NaN</td>\n",
       "      <td>NaN</td>\n",
       "      <td>NaN</td>\n",
       "    </tr>\n",
       "    <tr>\n",
       "      <th>99999</th>\n",
       "      <td>99999</td>\n",
       "      <td>24023398</td>\n",
       "      <td>NaN</td>\n",
       "      <td>25000.0</td>\n",
       "      <td>25000.0</td>\n",
       "      <td>25000.0</td>\n",
       "      <td>36 months</td>\n",
       "      <td>10.15</td>\n",
       "      <td>808.45</td>\n",
       "      <td>B</td>\n",
       "      <td>...</td>\n",
       "      <td>NaN</td>\n",
       "      <td>NaN</td>\n",
       "      <td>Cash</td>\n",
       "      <td>N</td>\n",
       "      <td>NaN</td>\n",
       "      <td>NaN</td>\n",
       "      <td>NaN</td>\n",
       "      <td>NaN</td>\n",
       "      <td>NaN</td>\n",
       "      <td>NaN</td>\n",
       "    </tr>\n",
       "  </tbody>\n",
       "</table>\n",
       "<p>100000 rows × 151 columns</p>\n",
       "</div>"
      ],
      "text/plain": [
       "       Unnamed: 0        id  member_id  loan_amnt  funded_amnt  \\\n",
       "0               0  38098114        NaN    15000.0      15000.0   \n",
       "1               1  36805548        NaN    10400.0      10400.0   \n",
       "2               2  37842129        NaN    21425.0      21425.0   \n",
       "3               3  37612354        NaN    12800.0      12800.0   \n",
       "4               4  37662224        NaN     7650.0       7650.0   \n",
       "...           ...       ...        ...        ...          ...   \n",
       "99995       99995  22454240        NaN     8400.0       8400.0   \n",
       "99996       99996  11396920        NaN    10000.0      10000.0   \n",
       "99997       99997   8556176        NaN    30000.0      30000.0   \n",
       "99998       99998  24023408        NaN     8475.0       8475.0   \n",
       "99999       99999  24023398        NaN    25000.0      25000.0   \n",
       "\n",
       "       funded_amnt_inv        term  int_rate  installment grade  ...  \\\n",
       "0              15000.0   60 months     12.39       336.64     C  ...   \n",
       "1              10400.0   36 months      6.99       321.08     A  ...   \n",
       "2              21425.0   60 months     15.59       516.36     D  ...   \n",
       "3              12800.0   60 months     17.14       319.08     D  ...   \n",
       "4               7650.0   36 months     13.66       260.20     C  ...   \n",
       "...                ...         ...       ...          ...   ...  ...   \n",
       "99995           8400.0   36 months      9.17       267.79     B  ...   \n",
       "99996          10000.0   36 months     12.99       336.90     C  ...   \n",
       "99997          30000.0   60 months     20.99       811.44     E  ...   \n",
       "99998           8475.0   36 months     24.99       336.92     F  ...   \n",
       "99999          25000.0   36 months     10.15       808.45     B  ...   \n",
       "\n",
       "      hardship_payoff_balance_amount hardship_last_payment_amount  \\\n",
       "0                                NaN                          NaN   \n",
       "1                                NaN                          NaN   \n",
       "2                                NaN                          NaN   \n",
       "3                                NaN                          NaN   \n",
       "4                                NaN                          NaN   \n",
       "...                              ...                          ...   \n",
       "99995                            NaN                          NaN   \n",
       "99996                            NaN                          NaN   \n",
       "99997                            NaN                          NaN   \n",
       "99998                            NaN                          NaN   \n",
       "99999                            NaN                          NaN   \n",
       "\n",
       "      disbursement_method debt_settlement_flag  debt_settlement_flag_date  \\\n",
       "0                    Cash                    N                        NaN   \n",
       "1                    Cash                    N                        NaN   \n",
       "2                    Cash                    N                        NaN   \n",
       "3                    Cash                    N                        NaN   \n",
       "4                    Cash                    N                        NaN   \n",
       "...                   ...                  ...                        ...   \n",
       "99995                Cash                    N                        NaN   \n",
       "99996                Cash                    N                        NaN   \n",
       "99997                Cash                    N                        NaN   \n",
       "99998                Cash                    N                        NaN   \n",
       "99999                Cash                    N                        NaN   \n",
       "\n",
       "      settlement_status settlement_date settlement_amount  \\\n",
       "0                   NaN             NaN               NaN   \n",
       "1                   NaN             NaN               NaN   \n",
       "2                   NaN             NaN               NaN   \n",
       "3                   NaN             NaN               NaN   \n",
       "4                   NaN             NaN               NaN   \n",
       "...                 ...             ...               ...   \n",
       "99995               NaN             NaN               NaN   \n",
       "99996               NaN             NaN               NaN   \n",
       "99997               NaN             NaN               NaN   \n",
       "99998               NaN             NaN               NaN   \n",
       "99999               NaN             NaN               NaN   \n",
       "\n",
       "      settlement_percentage settlement_term  \n",
       "0                       NaN             NaN  \n",
       "1                       NaN             NaN  \n",
       "2                       NaN             NaN  \n",
       "3                       NaN             NaN  \n",
       "4                       NaN             NaN  \n",
       "...                     ...             ...  \n",
       "99995                   NaN             NaN  \n",
       "99996                   NaN             NaN  \n",
       "99997                   NaN             NaN  \n",
       "99998                   NaN             NaN  \n",
       "99999                   NaN             NaN  \n",
       "\n",
       "[100000 rows x 151 columns]"
      ]
     },
     "execution_count": 3,
     "metadata": {},
     "output_type": "execute_result"
    }
   ],
   "source": [
    "#LEER EL ARCHIVO ESTA BIEN -ian\n",
    "pd.read_csv('https://github.com/sonder-art/fdd_prim_2023/blob/main/codigo/pandas/LoansData_sample.csv.gz?raw=true', compression='gzip')"
   ]
  },
  {
   "attachments": {},
   "cell_type": "markdown",
   "metadata": {},
   "source": [
    "> Segundo problema: vemos que se carga de forma correcta, pero tiene dos índices.\n",
    "\n",
    "Usamos el argumento de pd.read_csv llamado <code>index_col</code> para decirle que la primera columna es el índice."
   ]
  },
  {
   "cell_type": "code",
   "execution_count": 4,
   "metadata": {},
   "outputs": [
    {
     "name": "stderr",
     "output_type": "stream",
     "text": [
      "/var/folders/t_/fh0l2j4n2rz0fskmrkd8ltvm0000gn/T/ipykernel_21807/3204416089.py:3: DtypeWarning: Columns (19) have mixed types. Specify dtype option on import or set low_memory=False.\n",
      "  loans = pd.read_csv('https://github.com/sonder-art/fdd_prim_2023/blob/main/codigo/pandas/LoansData_sample.csv.gz?raw=true', compression='gzip', index_col = 0)\n"
     ]
    },
    {
     "data": {
      "text/html": [
       "<div>\n",
       "<style scoped>\n",
       "    .dataframe tbody tr th:only-of-type {\n",
       "        vertical-align: middle;\n",
       "    }\n",
       "\n",
       "    .dataframe tbody tr th {\n",
       "        vertical-align: top;\n",
       "    }\n",
       "\n",
       "    .dataframe thead th {\n",
       "        text-align: right;\n",
       "    }\n",
       "</style>\n",
       "<table border=\"1\" class=\"dataframe\">\n",
       "  <thead>\n",
       "    <tr style=\"text-align: right;\">\n",
       "      <th></th>\n",
       "      <th>id</th>\n",
       "      <th>member_id</th>\n",
       "      <th>loan_amnt</th>\n",
       "      <th>funded_amnt</th>\n",
       "      <th>funded_amnt_inv</th>\n",
       "      <th>term</th>\n",
       "      <th>int_rate</th>\n",
       "      <th>installment</th>\n",
       "      <th>grade</th>\n",
       "      <th>sub_grade</th>\n",
       "      <th>...</th>\n",
       "      <th>hardship_payoff_balance_amount</th>\n",
       "      <th>hardship_last_payment_amount</th>\n",
       "      <th>disbursement_method</th>\n",
       "      <th>debt_settlement_flag</th>\n",
       "      <th>debt_settlement_flag_date</th>\n",
       "      <th>settlement_status</th>\n",
       "      <th>settlement_date</th>\n",
       "      <th>settlement_amount</th>\n",
       "      <th>settlement_percentage</th>\n",
       "      <th>settlement_term</th>\n",
       "    </tr>\n",
       "  </thead>\n",
       "  <tbody>\n",
       "    <tr>\n",
       "      <th>0</th>\n",
       "      <td>38098114</td>\n",
       "      <td>NaN</td>\n",
       "      <td>15000.0</td>\n",
       "      <td>15000.0</td>\n",
       "      <td>15000.0</td>\n",
       "      <td>60 months</td>\n",
       "      <td>12.39</td>\n",
       "      <td>336.64</td>\n",
       "      <td>C</td>\n",
       "      <td>C1</td>\n",
       "      <td>...</td>\n",
       "      <td>NaN</td>\n",
       "      <td>NaN</td>\n",
       "      <td>Cash</td>\n",
       "      <td>N</td>\n",
       "      <td>NaN</td>\n",
       "      <td>NaN</td>\n",
       "      <td>NaN</td>\n",
       "      <td>NaN</td>\n",
       "      <td>NaN</td>\n",
       "      <td>NaN</td>\n",
       "    </tr>\n",
       "    <tr>\n",
       "      <th>1</th>\n",
       "      <td>36805548</td>\n",
       "      <td>NaN</td>\n",
       "      <td>10400.0</td>\n",
       "      <td>10400.0</td>\n",
       "      <td>10400.0</td>\n",
       "      <td>36 months</td>\n",
       "      <td>6.99</td>\n",
       "      <td>321.08</td>\n",
       "      <td>A</td>\n",
       "      <td>A3</td>\n",
       "      <td>...</td>\n",
       "      <td>NaN</td>\n",
       "      <td>NaN</td>\n",
       "      <td>Cash</td>\n",
       "      <td>N</td>\n",
       "      <td>NaN</td>\n",
       "      <td>NaN</td>\n",
       "      <td>NaN</td>\n",
       "      <td>NaN</td>\n",
       "      <td>NaN</td>\n",
       "      <td>NaN</td>\n",
       "    </tr>\n",
       "    <tr>\n",
       "      <th>2</th>\n",
       "      <td>37842129</td>\n",
       "      <td>NaN</td>\n",
       "      <td>21425.0</td>\n",
       "      <td>21425.0</td>\n",
       "      <td>21425.0</td>\n",
       "      <td>60 months</td>\n",
       "      <td>15.59</td>\n",
       "      <td>516.36</td>\n",
       "      <td>D</td>\n",
       "      <td>D1</td>\n",
       "      <td>...</td>\n",
       "      <td>NaN</td>\n",
       "      <td>NaN</td>\n",
       "      <td>Cash</td>\n",
       "      <td>N</td>\n",
       "      <td>NaN</td>\n",
       "      <td>NaN</td>\n",
       "      <td>NaN</td>\n",
       "      <td>NaN</td>\n",
       "      <td>NaN</td>\n",
       "      <td>NaN</td>\n",
       "    </tr>\n",
       "    <tr>\n",
       "      <th>3</th>\n",
       "      <td>37612354</td>\n",
       "      <td>NaN</td>\n",
       "      <td>12800.0</td>\n",
       "      <td>12800.0</td>\n",
       "      <td>12800.0</td>\n",
       "      <td>60 months</td>\n",
       "      <td>17.14</td>\n",
       "      <td>319.08</td>\n",
       "      <td>D</td>\n",
       "      <td>D4</td>\n",
       "      <td>...</td>\n",
       "      <td>NaN</td>\n",
       "      <td>NaN</td>\n",
       "      <td>Cash</td>\n",
       "      <td>N</td>\n",
       "      <td>NaN</td>\n",
       "      <td>NaN</td>\n",
       "      <td>NaN</td>\n",
       "      <td>NaN</td>\n",
       "      <td>NaN</td>\n",
       "      <td>NaN</td>\n",
       "    </tr>\n",
       "    <tr>\n",
       "      <th>4</th>\n",
       "      <td>37662224</td>\n",
       "      <td>NaN</td>\n",
       "      <td>7650.0</td>\n",
       "      <td>7650.0</td>\n",
       "      <td>7650.0</td>\n",
       "      <td>36 months</td>\n",
       "      <td>13.66</td>\n",
       "      <td>260.20</td>\n",
       "      <td>C</td>\n",
       "      <td>C3</td>\n",
       "      <td>...</td>\n",
       "      <td>NaN</td>\n",
       "      <td>NaN</td>\n",
       "      <td>Cash</td>\n",
       "      <td>N</td>\n",
       "      <td>NaN</td>\n",
       "      <td>NaN</td>\n",
       "      <td>NaN</td>\n",
       "      <td>NaN</td>\n",
       "      <td>NaN</td>\n",
       "      <td>NaN</td>\n",
       "    </tr>\n",
       "    <tr>\n",
       "      <th>...</th>\n",
       "      <td>...</td>\n",
       "      <td>...</td>\n",
       "      <td>...</td>\n",
       "      <td>...</td>\n",
       "      <td>...</td>\n",
       "      <td>...</td>\n",
       "      <td>...</td>\n",
       "      <td>...</td>\n",
       "      <td>...</td>\n",
       "      <td>...</td>\n",
       "      <td>...</td>\n",
       "      <td>...</td>\n",
       "      <td>...</td>\n",
       "      <td>...</td>\n",
       "      <td>...</td>\n",
       "      <td>...</td>\n",
       "      <td>...</td>\n",
       "      <td>...</td>\n",
       "      <td>...</td>\n",
       "      <td>...</td>\n",
       "      <td>...</td>\n",
       "    </tr>\n",
       "    <tr>\n",
       "      <th>99995</th>\n",
       "      <td>22454240</td>\n",
       "      <td>NaN</td>\n",
       "      <td>8400.0</td>\n",
       "      <td>8400.0</td>\n",
       "      <td>8400.0</td>\n",
       "      <td>36 months</td>\n",
       "      <td>9.17</td>\n",
       "      <td>267.79</td>\n",
       "      <td>B</td>\n",
       "      <td>B1</td>\n",
       "      <td>...</td>\n",
       "      <td>NaN</td>\n",
       "      <td>NaN</td>\n",
       "      <td>Cash</td>\n",
       "      <td>N</td>\n",
       "      <td>NaN</td>\n",
       "      <td>NaN</td>\n",
       "      <td>NaN</td>\n",
       "      <td>NaN</td>\n",
       "      <td>NaN</td>\n",
       "      <td>NaN</td>\n",
       "    </tr>\n",
       "    <tr>\n",
       "      <th>99996</th>\n",
       "      <td>11396920</td>\n",
       "      <td>NaN</td>\n",
       "      <td>10000.0</td>\n",
       "      <td>10000.0</td>\n",
       "      <td>10000.0</td>\n",
       "      <td>36 months</td>\n",
       "      <td>12.99</td>\n",
       "      <td>336.90</td>\n",
       "      <td>C</td>\n",
       "      <td>C1</td>\n",
       "      <td>...</td>\n",
       "      <td>NaN</td>\n",
       "      <td>NaN</td>\n",
       "      <td>Cash</td>\n",
       "      <td>N</td>\n",
       "      <td>NaN</td>\n",
       "      <td>NaN</td>\n",
       "      <td>NaN</td>\n",
       "      <td>NaN</td>\n",
       "      <td>NaN</td>\n",
       "      <td>NaN</td>\n",
       "    </tr>\n",
       "    <tr>\n",
       "      <th>99997</th>\n",
       "      <td>8556176</td>\n",
       "      <td>NaN</td>\n",
       "      <td>30000.0</td>\n",
       "      <td>30000.0</td>\n",
       "      <td>30000.0</td>\n",
       "      <td>60 months</td>\n",
       "      <td>20.99</td>\n",
       "      <td>811.44</td>\n",
       "      <td>E</td>\n",
       "      <td>E4</td>\n",
       "      <td>...</td>\n",
       "      <td>NaN</td>\n",
       "      <td>NaN</td>\n",
       "      <td>Cash</td>\n",
       "      <td>N</td>\n",
       "      <td>NaN</td>\n",
       "      <td>NaN</td>\n",
       "      <td>NaN</td>\n",
       "      <td>NaN</td>\n",
       "      <td>NaN</td>\n",
       "      <td>NaN</td>\n",
       "    </tr>\n",
       "    <tr>\n",
       "      <th>99998</th>\n",
       "      <td>24023408</td>\n",
       "      <td>NaN</td>\n",
       "      <td>8475.0</td>\n",
       "      <td>8475.0</td>\n",
       "      <td>8475.0</td>\n",
       "      <td>36 months</td>\n",
       "      <td>24.99</td>\n",
       "      <td>336.92</td>\n",
       "      <td>F</td>\n",
       "      <td>F4</td>\n",
       "      <td>...</td>\n",
       "      <td>NaN</td>\n",
       "      <td>NaN</td>\n",
       "      <td>Cash</td>\n",
       "      <td>N</td>\n",
       "      <td>NaN</td>\n",
       "      <td>NaN</td>\n",
       "      <td>NaN</td>\n",
       "      <td>NaN</td>\n",
       "      <td>NaN</td>\n",
       "      <td>NaN</td>\n",
       "    </tr>\n",
       "    <tr>\n",
       "      <th>99999</th>\n",
       "      <td>24023398</td>\n",
       "      <td>NaN</td>\n",
       "      <td>25000.0</td>\n",
       "      <td>25000.0</td>\n",
       "      <td>25000.0</td>\n",
       "      <td>36 months</td>\n",
       "      <td>10.15</td>\n",
       "      <td>808.45</td>\n",
       "      <td>B</td>\n",
       "      <td>B2</td>\n",
       "      <td>...</td>\n",
       "      <td>NaN</td>\n",
       "      <td>NaN</td>\n",
       "      <td>Cash</td>\n",
       "      <td>N</td>\n",
       "      <td>NaN</td>\n",
       "      <td>NaN</td>\n",
       "      <td>NaN</td>\n",
       "      <td>NaN</td>\n",
       "      <td>NaN</td>\n",
       "      <td>NaN</td>\n",
       "    </tr>\n",
       "  </tbody>\n",
       "</table>\n",
       "<p>100000 rows × 150 columns</p>\n",
       "</div>"
      ],
      "text/plain": [
       "             id  member_id  loan_amnt  funded_amnt  funded_amnt_inv  \\\n",
       "0      38098114        NaN    15000.0      15000.0          15000.0   \n",
       "1      36805548        NaN    10400.0      10400.0          10400.0   \n",
       "2      37842129        NaN    21425.0      21425.0          21425.0   \n",
       "3      37612354        NaN    12800.0      12800.0          12800.0   \n",
       "4      37662224        NaN     7650.0       7650.0           7650.0   \n",
       "...         ...        ...        ...          ...              ...   \n",
       "99995  22454240        NaN     8400.0       8400.0           8400.0   \n",
       "99996  11396920        NaN    10000.0      10000.0          10000.0   \n",
       "99997   8556176        NaN    30000.0      30000.0          30000.0   \n",
       "99998  24023408        NaN     8475.0       8475.0           8475.0   \n",
       "99999  24023398        NaN    25000.0      25000.0          25000.0   \n",
       "\n",
       "             term  int_rate  installment grade sub_grade  ...  \\\n",
       "0       60 months     12.39       336.64     C        C1  ...   \n",
       "1       36 months      6.99       321.08     A        A3  ...   \n",
       "2       60 months     15.59       516.36     D        D1  ...   \n",
       "3       60 months     17.14       319.08     D        D4  ...   \n",
       "4       36 months     13.66       260.20     C        C3  ...   \n",
       "...           ...       ...          ...   ...       ...  ...   \n",
       "99995   36 months      9.17       267.79     B        B1  ...   \n",
       "99996   36 months     12.99       336.90     C        C1  ...   \n",
       "99997   60 months     20.99       811.44     E        E4  ...   \n",
       "99998   36 months     24.99       336.92     F        F4  ...   \n",
       "99999   36 months     10.15       808.45     B        B2  ...   \n",
       "\n",
       "      hardship_payoff_balance_amount hardship_last_payment_amount  \\\n",
       "0                                NaN                          NaN   \n",
       "1                                NaN                          NaN   \n",
       "2                                NaN                          NaN   \n",
       "3                                NaN                          NaN   \n",
       "4                                NaN                          NaN   \n",
       "...                              ...                          ...   \n",
       "99995                            NaN                          NaN   \n",
       "99996                            NaN                          NaN   \n",
       "99997                            NaN                          NaN   \n",
       "99998                            NaN                          NaN   \n",
       "99999                            NaN                          NaN   \n",
       "\n",
       "      disbursement_method  debt_settlement_flag debt_settlement_flag_date  \\\n",
       "0                    Cash                     N                       NaN   \n",
       "1                    Cash                     N                       NaN   \n",
       "2                    Cash                     N                       NaN   \n",
       "3                    Cash                     N                       NaN   \n",
       "4                    Cash                     N                       NaN   \n",
       "...                   ...                   ...                       ...   \n",
       "99995                Cash                     N                       NaN   \n",
       "99996                Cash                     N                       NaN   \n",
       "99997                Cash                     N                       NaN   \n",
       "99998                Cash                     N                       NaN   \n",
       "99999                Cash                     N                       NaN   \n",
       "\n",
       "      settlement_status settlement_date settlement_amount  \\\n",
       "0                   NaN             NaN               NaN   \n",
       "1                   NaN             NaN               NaN   \n",
       "2                   NaN             NaN               NaN   \n",
       "3                   NaN             NaN               NaN   \n",
       "4                   NaN             NaN               NaN   \n",
       "...                 ...             ...               ...   \n",
       "99995               NaN             NaN               NaN   \n",
       "99996               NaN             NaN               NaN   \n",
       "99997               NaN             NaN               NaN   \n",
       "99998               NaN             NaN               NaN   \n",
       "99999               NaN             NaN               NaN   \n",
       "\n",
       "      settlement_percentage settlement_term  \n",
       "0                       NaN             NaN  \n",
       "1                       NaN             NaN  \n",
       "2                       NaN             NaN  \n",
       "3                       NaN             NaN  \n",
       "4                       NaN             NaN  \n",
       "...                     ...             ...  \n",
       "99995                   NaN             NaN  \n",
       "99996                   NaN             NaN  \n",
       "99997                   NaN             NaN  \n",
       "99998                   NaN             NaN  \n",
       "99999                   NaN             NaN  \n",
       "\n",
       "[100000 rows x 150 columns]"
      ]
     },
     "execution_count": 4,
     "metadata": {},
     "output_type": "execute_result"
    }
   ],
   "source": [
    "# Al poner en 0 el index col, toma la primera columna\n",
    "\n",
    "loans = pd.read_csv('https://github.com/sonder-art/fdd_prim_2023/blob/main/codigo/pandas/LoansData_sample.csv.gz?raw=true', compression='gzip', index_col = 0)\n",
    "\n",
    "loans"
   ]
  },
  {
   "attachments": {},
   "cell_type": "markdown",
   "metadata": {},
   "source": [
    "Listo, tenemos nuestros datos descargados correctamente."
   ]
  },
  {
   "attachments": {},
   "cell_type": "markdown",
   "metadata": {},
   "source": [
    "## **Tabla (column_name, type)**"
   ]
  },
  {
   "attachments": {},
   "cell_type": "markdown",
   "metadata": {},
   "source": [
    "Revisa el metodo pd.DataFrame.dtypes. https://pandas.pydata.org/docs/reference/api/pandas.DataFrame.dtypes.html "
   ]
  },
  {
   "attachments": {},
   "cell_type": "markdown",
   "metadata": {},
   "source": [
    "<code>dtypes</code> nos dice el tipo de dato que es cada columna. Esto nos ayuda a saber cómo recibimos los datos y si debemos cambiar algo. Por ejemplo, a veces las fechas vienen como tipo string, lo cual es problemático."
   ]
  },
  {
   "cell_type": "code",
   "execution_count": 5,
   "metadata": {},
   "outputs": [
    {
     "data": {
      "text/plain": [
       "id                         int64\n",
       "member_id                float64\n",
       "loan_amnt                float64\n",
       "funded_amnt              float64\n",
       "funded_amnt_inv          float64\n",
       "                          ...   \n",
       "settlement_status         object\n",
       "settlement_date           object\n",
       "settlement_amount        float64\n",
       "settlement_percentage    float64\n",
       "settlement_term          float64\n",
       "Length: 150, dtype: object"
      ]
     },
     "execution_count": 5,
     "metadata": {},
     "output_type": "execute_result"
    }
   ],
   "source": [
    "#ES CORRECTA LA FORMA EN QUE GUARDA EL TIPO DE DATOS EN UN SOLO OBJETO, AUNQUE GUARDAS EL TIPO DE OBJECTO QUE YA ES. -IAN\n",
    "column_types = loans.dtypes\n",
    "column_types"
   ]
  },
  {
   "cell_type": "code",
   "execution_count": 6,
   "metadata": {},
   "outputs": [],
   "source": [
    "column_name = column_types.index.values"
   ]
  },
  {
   "cell_type": "code",
   "execution_count": 7,
   "metadata": {},
   "outputs": [
    {
     "data": {
      "text/plain": [
       "array(['id', 'member_id', 'loan_amnt', 'funded_amnt', 'funded_amnt_inv',\n",
       "       'term', 'int_rate', 'installment', 'grade', 'sub_grade',\n",
       "       'emp_title', 'emp_length', 'home_ownership', 'annual_inc',\n",
       "       'verification_status', 'issue_d', 'loan_status', 'pymnt_plan',\n",
       "       'desc', 'purpose', 'title', 'zip_code', 'addr_state', 'dti',\n",
       "       'delinq_2yrs', 'earliest_cr_line', 'fico_range_low',\n",
       "       'fico_range_high', 'inq_last_6mths', 'mths_since_last_delinq',\n",
       "       'mths_since_last_record', 'open_acc', 'pub_rec', 'revol_bal',\n",
       "       'revol_util', 'total_acc', 'initial_list_status', 'out_prncp',\n",
       "       'out_prncp_inv', 'total_pymnt', 'total_pymnt_inv',\n",
       "       'total_rec_prncp', 'total_rec_int', 'total_rec_late_fee',\n",
       "       'recoveries', 'collection_recovery_fee', 'last_pymnt_d',\n",
       "       'last_pymnt_amnt', 'next_pymnt_d', 'last_credit_pull_d',\n",
       "       'last_fico_range_high', 'last_fico_range_low',\n",
       "       'collections_12_mths_ex_med', 'mths_since_last_major_derog',\n",
       "       'policy_code', 'application_type', 'annual_inc_joint', 'dti_joint',\n",
       "       'verification_status_joint', 'acc_now_delinq', 'tot_coll_amt',\n",
       "       'tot_cur_bal', 'open_acc_6m', 'open_act_il', 'open_il_12m',\n",
       "       'open_il_24m', 'mths_since_rcnt_il', 'total_bal_il', 'il_util',\n",
       "       'open_rv_12m', 'open_rv_24m', 'max_bal_bc', 'all_util',\n",
       "       'total_rev_hi_lim', 'inq_fi', 'total_cu_tl', 'inq_last_12m',\n",
       "       'acc_open_past_24mths', 'avg_cur_bal', 'bc_open_to_buy', 'bc_util',\n",
       "       'chargeoff_within_12_mths', 'delinq_amnt', 'mo_sin_old_il_acct',\n",
       "       'mo_sin_old_rev_tl_op', 'mo_sin_rcnt_rev_tl_op', 'mo_sin_rcnt_tl',\n",
       "       'mort_acc', 'mths_since_recent_bc', 'mths_since_recent_bc_dlq',\n",
       "       'mths_since_recent_inq', 'mths_since_recent_revol_delinq',\n",
       "       'num_accts_ever_120_pd', 'num_actv_bc_tl', 'num_actv_rev_tl',\n",
       "       'num_bc_sats', 'num_bc_tl', 'num_il_tl', 'num_op_rev_tl',\n",
       "       'num_rev_accts', 'num_rev_tl_bal_gt_0', 'num_sats',\n",
       "       'num_tl_120dpd_2m', 'num_tl_30dpd', 'num_tl_90g_dpd_24m',\n",
       "       'num_tl_op_past_12m', 'pct_tl_nvr_dlq', 'percent_bc_gt_75',\n",
       "       'pub_rec_bankruptcies', 'tax_liens', 'tot_hi_cred_lim',\n",
       "       'total_bal_ex_mort', 'total_bc_limit',\n",
       "       'total_il_high_credit_limit', 'revol_bal_joint',\n",
       "       'sec_app_fico_range_low', 'sec_app_fico_range_high',\n",
       "       'sec_app_earliest_cr_line', 'sec_app_inq_last_6mths',\n",
       "       'sec_app_mort_acc', 'sec_app_open_acc', 'sec_app_revol_util',\n",
       "       'sec_app_open_act_il', 'sec_app_num_rev_accts',\n",
       "       'sec_app_chargeoff_within_12_mths',\n",
       "       'sec_app_collections_12_mths_ex_med',\n",
       "       'sec_app_mths_since_last_major_derog', 'hardship_flag',\n",
       "       'hardship_type', 'hardship_reason', 'hardship_status',\n",
       "       'deferral_term', 'hardship_amount', 'hardship_start_date',\n",
       "       'hardship_end_date', 'payment_plan_start_date', 'hardship_length',\n",
       "       'hardship_dpd', 'hardship_loan_status',\n",
       "       'orig_projected_additional_accrued_interest',\n",
       "       'hardship_payoff_balance_amount', 'hardship_last_payment_amount',\n",
       "       'disbursement_method', 'debt_settlement_flag',\n",
       "       'debt_settlement_flag_date', 'settlement_status',\n",
       "       'settlement_date', 'settlement_amount', 'settlement_percentage',\n",
       "       'settlement_term'], dtype=object)"
      ]
     },
     "execution_count": 7,
     "metadata": {},
     "output_type": "execute_result"
    }
   ],
   "source": [
    "column_name"
   ]
  },
  {
   "cell_type": "code",
   "execution_count": 8,
   "metadata": {},
   "outputs": [],
   "source": [
    "ctype = column_types.values"
   ]
  },
  {
   "cell_type": "code",
   "execution_count": 9,
   "metadata": {},
   "outputs": [
    {
     "data": {
      "text/plain": [
       "array([dtype('int64'), dtype('float64'), dtype('float64'),\n",
       "       dtype('float64'), dtype('float64'), dtype('O'), dtype('float64'),\n",
       "       dtype('float64'), dtype('O'), dtype('O'), dtype('O'), dtype('O'),\n",
       "       dtype('O'), dtype('float64'), dtype('O'), dtype('O'), dtype('O'),\n",
       "       dtype('O'), dtype('O'), dtype('O'), dtype('O'), dtype('O'),\n",
       "       dtype('O'), dtype('float64'), dtype('float64'), dtype('O'),\n",
       "       dtype('float64'), dtype('float64'), dtype('float64'),\n",
       "       dtype('float64'), dtype('float64'), dtype('float64'),\n",
       "       dtype('float64'), dtype('float64'), dtype('float64'),\n",
       "       dtype('float64'), dtype('O'), dtype('float64'), dtype('float64'),\n",
       "       dtype('float64'), dtype('float64'), dtype('float64'),\n",
       "       dtype('float64'), dtype('float64'), dtype('float64'),\n",
       "       dtype('float64'), dtype('O'), dtype('float64'), dtype('O'),\n",
       "       dtype('O'), dtype('float64'), dtype('float64'), dtype('float64'),\n",
       "       dtype('float64'), dtype('float64'), dtype('O'), dtype('float64'),\n",
       "       dtype('float64'), dtype('float64'), dtype('float64'),\n",
       "       dtype('float64'), dtype('float64'), dtype('float64'),\n",
       "       dtype('float64'), dtype('float64'), dtype('float64'),\n",
       "       dtype('float64'), dtype('float64'), dtype('float64'),\n",
       "       dtype('float64'), dtype('float64'), dtype('float64'),\n",
       "       dtype('float64'), dtype('float64'), dtype('float64'),\n",
       "       dtype('float64'), dtype('float64'), dtype('float64'),\n",
       "       dtype('float64'), dtype('float64'), dtype('float64'),\n",
       "       dtype('float64'), dtype('float64'), dtype('float64'),\n",
       "       dtype('float64'), dtype('float64'), dtype('float64'),\n",
       "       dtype('float64'), dtype('float64'), dtype('float64'),\n",
       "       dtype('float64'), dtype('float64'), dtype('float64'),\n",
       "       dtype('float64'), dtype('float64'), dtype('float64'),\n",
       "       dtype('float64'), dtype('float64'), dtype('float64'),\n",
       "       dtype('float64'), dtype('float64'), dtype('float64'),\n",
       "       dtype('float64'), dtype('float64'), dtype('float64'),\n",
       "       dtype('float64'), dtype('float64'), dtype('float64'),\n",
       "       dtype('float64'), dtype('float64'), dtype('float64'),\n",
       "       dtype('float64'), dtype('float64'), dtype('float64'),\n",
       "       dtype('float64'), dtype('float64'), dtype('float64'),\n",
       "       dtype('float64'), dtype('float64'), dtype('float64'),\n",
       "       dtype('float64'), dtype('float64'), dtype('float64'),\n",
       "       dtype('float64'), dtype('float64'), dtype('float64'),\n",
       "       dtype('float64'), dtype('O'), dtype('O'), dtype('O'), dtype('O'),\n",
       "       dtype('float64'), dtype('float64'), dtype('O'), dtype('O'),\n",
       "       dtype('O'), dtype('float64'), dtype('float64'), dtype('O'),\n",
       "       dtype('float64'), dtype('float64'), dtype('float64'), dtype('O'),\n",
       "       dtype('O'), dtype('O'), dtype('O'), dtype('O'), dtype('float64'),\n",
       "       dtype('float64'), dtype('float64')], dtype=object)"
      ]
     },
     "execution_count": 9,
     "metadata": {},
     "output_type": "execute_result"
    }
   ],
   "source": [
    "ctype"
   ]
  },
  {
   "attachments": {},
   "cell_type": "markdown",
   "metadata": {},
   "source": [
    "Finalmente, construir la tabla"
   ]
  },
  {
   "cell_type": "code",
   "execution_count": 10,
   "metadata": {},
   "outputs": [],
   "source": [
    "tabla_tipos_aux = pd.DataFrame({'column_name': column_name, 'type': ctype})"
   ]
  },
  {
   "cell_type": "code",
   "execution_count": 11,
   "metadata": {},
   "outputs": [
    {
     "data": {
      "text/html": [
       "<div>\n",
       "<style scoped>\n",
       "    .dataframe tbody tr th:only-of-type {\n",
       "        vertical-align: middle;\n",
       "    }\n",
       "\n",
       "    .dataframe tbody tr th {\n",
       "        vertical-align: top;\n",
       "    }\n",
       "\n",
       "    .dataframe thead th {\n",
       "        text-align: right;\n",
       "    }\n",
       "</style>\n",
       "<table border=\"1\" class=\"dataframe\">\n",
       "  <thead>\n",
       "    <tr style=\"text-align: right;\">\n",
       "      <th></th>\n",
       "      <th>column_name</th>\n",
       "      <th>type</th>\n",
       "    </tr>\n",
       "  </thead>\n",
       "  <tbody>\n",
       "    <tr>\n",
       "      <th>0</th>\n",
       "      <td>id</td>\n",
       "      <td>int64</td>\n",
       "    </tr>\n",
       "    <tr>\n",
       "      <th>1</th>\n",
       "      <td>member_id</td>\n",
       "      <td>float64</td>\n",
       "    </tr>\n",
       "    <tr>\n",
       "      <th>2</th>\n",
       "      <td>loan_amnt</td>\n",
       "      <td>float64</td>\n",
       "    </tr>\n",
       "    <tr>\n",
       "      <th>3</th>\n",
       "      <td>funded_amnt</td>\n",
       "      <td>float64</td>\n",
       "    </tr>\n",
       "    <tr>\n",
       "      <th>4</th>\n",
       "      <td>funded_amnt_inv</td>\n",
       "      <td>float64</td>\n",
       "    </tr>\n",
       "    <tr>\n",
       "      <th>...</th>\n",
       "      <td>...</td>\n",
       "      <td>...</td>\n",
       "    </tr>\n",
       "    <tr>\n",
       "      <th>145</th>\n",
       "      <td>settlement_status</td>\n",
       "      <td>object</td>\n",
       "    </tr>\n",
       "    <tr>\n",
       "      <th>146</th>\n",
       "      <td>settlement_date</td>\n",
       "      <td>object</td>\n",
       "    </tr>\n",
       "    <tr>\n",
       "      <th>147</th>\n",
       "      <td>settlement_amount</td>\n",
       "      <td>float64</td>\n",
       "    </tr>\n",
       "    <tr>\n",
       "      <th>148</th>\n",
       "      <td>settlement_percentage</td>\n",
       "      <td>float64</td>\n",
       "    </tr>\n",
       "    <tr>\n",
       "      <th>149</th>\n",
       "      <td>settlement_term</td>\n",
       "      <td>float64</td>\n",
       "    </tr>\n",
       "  </tbody>\n",
       "</table>\n",
       "<p>150 rows × 2 columns</p>\n",
       "</div>"
      ],
      "text/plain": [
       "               column_name     type\n",
       "0                       id    int64\n",
       "1                member_id  float64\n",
       "2                loan_amnt  float64\n",
       "3              funded_amnt  float64\n",
       "4          funded_amnt_inv  float64\n",
       "..                     ...      ...\n",
       "145      settlement_status   object\n",
       "146        settlement_date   object\n",
       "147      settlement_amount  float64\n",
       "148  settlement_percentage  float64\n",
       "149        settlement_term  float64\n",
       "\n",
       "[150 rows x 2 columns]"
      ]
     },
     "execution_count": 11,
     "metadata": {},
     "output_type": "execute_result"
    }
   ],
   "source": [
    "#CREAS UNA TABLA CON EL TIPO QUE YA ES, SEGUN YO NO CAMBIO NINGUNO. -IAN\n",
    "tabla_tipos_aux"
   ]
  },
  {
   "attachments": {},
   "cell_type": "markdown",
   "metadata": {},
   "source": [
    "## **Cargar descripcion de columnas**"
   ]
  },
  {
   "attachments": {},
   "cell_type": "markdown",
   "metadata": {},
   "source": [
    "La siguiente tabla tiene una descripcion del significado de cada columna"
   ]
  },
  {
   "cell_type": "code",
   "execution_count": 12,
   "metadata": {},
   "outputs": [],
   "source": [
    "datos_dict = pd.read_excel(\n",
    "    'https://resources.lendingclub.com/LCDataDictionary.xlsx')\n",
    "datos_dict.columns = ['feature', 'description']\n"
   ]
  },
  {
   "cell_type": "code",
   "execution_count": 13,
   "metadata": {},
   "outputs": [],
   "source": [
    "datos_dict.columns = ['column_name', 'description']"
   ]
  },
  {
   "cell_type": "code",
   "execution_count": 14,
   "metadata": {},
   "outputs": [
    {
     "data": {
      "text/html": [
       "<div>\n",
       "<style scoped>\n",
       "    .dataframe tbody tr th:only-of-type {\n",
       "        vertical-align: middle;\n",
       "    }\n",
       "\n",
       "    .dataframe tbody tr th {\n",
       "        vertical-align: top;\n",
       "    }\n",
       "\n",
       "    .dataframe thead th {\n",
       "        text-align: right;\n",
       "    }\n",
       "</style>\n",
       "<table border=\"1\" class=\"dataframe\">\n",
       "  <thead>\n",
       "    <tr style=\"text-align: right;\">\n",
       "      <th></th>\n",
       "      <th>column_name</th>\n",
       "      <th>description</th>\n",
       "    </tr>\n",
       "  </thead>\n",
       "  <tbody>\n",
       "    <tr>\n",
       "      <th>0</th>\n",
       "      <td>acc_now_delinq</td>\n",
       "      <td>The number of accounts on which the borrower i...</td>\n",
       "    </tr>\n",
       "    <tr>\n",
       "      <th>1</th>\n",
       "      <td>acc_open_past_24mths</td>\n",
       "      <td>Number of trades opened in past 24 months.</td>\n",
       "    </tr>\n",
       "    <tr>\n",
       "      <th>2</th>\n",
       "      <td>addr_state</td>\n",
       "      <td>The state provided by the borrower in the loan...</td>\n",
       "    </tr>\n",
       "    <tr>\n",
       "      <th>3</th>\n",
       "      <td>all_util</td>\n",
       "      <td>Balance to credit limit on all trades</td>\n",
       "    </tr>\n",
       "    <tr>\n",
       "      <th>4</th>\n",
       "      <td>annual_inc</td>\n",
       "      <td>The self-reported annual income provided by th...</td>\n",
       "    </tr>\n",
       "    <tr>\n",
       "      <th>...</th>\n",
       "      <td>...</td>\n",
       "      <td>...</td>\n",
       "    </tr>\n",
       "    <tr>\n",
       "      <th>148</th>\n",
       "      <td>settlement_amount</td>\n",
       "      <td>The loan amount that the borrower has agreed t...</td>\n",
       "    </tr>\n",
       "    <tr>\n",
       "      <th>149</th>\n",
       "      <td>settlement_percentage</td>\n",
       "      <td>The settlement amount as a percentage of the p...</td>\n",
       "    </tr>\n",
       "    <tr>\n",
       "      <th>150</th>\n",
       "      <td>settlement_term</td>\n",
       "      <td>The number of months that the borrower will be...</td>\n",
       "    </tr>\n",
       "    <tr>\n",
       "      <th>151</th>\n",
       "      <td>NaN</td>\n",
       "      <td>NaN</td>\n",
       "    </tr>\n",
       "    <tr>\n",
       "      <th>152</th>\n",
       "      <td>NaN</td>\n",
       "      <td>* Employer Title replaces Employer Name for al...</td>\n",
       "    </tr>\n",
       "  </tbody>\n",
       "</table>\n",
       "<p>153 rows × 2 columns</p>\n",
       "</div>"
      ],
      "text/plain": [
       "               column_name                                        description\n",
       "0           acc_now_delinq  The number of accounts on which the borrower i...\n",
       "1     acc_open_past_24mths         Number of trades opened in past 24 months.\n",
       "2               addr_state  The state provided by the borrower in the loan...\n",
       "3                 all_util              Balance to credit limit on all trades\n",
       "4               annual_inc  The self-reported annual income provided by th...\n",
       "..                     ...                                                ...\n",
       "148      settlement_amount  The loan amount that the borrower has agreed t...\n",
       "149  settlement_percentage  The settlement amount as a percentage of the p...\n",
       "150        settlement_term  The number of months that the borrower will be...\n",
       "151                    NaN                                                NaN\n",
       "152                    NaN  * Employer Title replaces Employer Name for al...\n",
       "\n",
       "[153 rows x 2 columns]"
      ]
     },
     "execution_count": 14,
     "metadata": {},
     "output_type": "execute_result"
    }
   ],
   "source": [
    "datos_dict"
   ]
  },
  {
   "attachments": {},
   "cell_type": "markdown",
   "metadata": {},
   "source": [
    "### Pickle"
   ]
  },
  {
   "attachments": {},
   "cell_type": "markdown",
   "metadata": {},
   "source": [
    "Crea codigo para **guardar** y **cargar** el DataFrame de `datos_dict` creada en las celdas anteriores en formato **pickle**"
   ]
  },
  {
   "cell_type": "code",
   "execution_count": 157,
   "metadata": {},
   "outputs": [],
   "source": [
    "#BIEN -IAN\n",
    "# COdigo guardar\n",
    "\n",
    "loans.to_pickle('loans.pickle')"
   ]
  },
  {
   "cell_type": "code",
   "execution_count": 158,
   "metadata": {},
   "outputs": [],
   "source": [
    "# Codigo para cargar\n",
    "\n",
    "aux_loans= pd.read_pickle('loans.pickle')"
   ]
  },
  {
   "cell_type": "code",
   "execution_count": 159,
   "metadata": {},
   "outputs": [
    {
     "data": {
      "text/html": [
       "<div>\n",
       "<style scoped>\n",
       "    .dataframe tbody tr th:only-of-type {\n",
       "        vertical-align: middle;\n",
       "    }\n",
       "\n",
       "    .dataframe tbody tr th {\n",
       "        vertical-align: top;\n",
       "    }\n",
       "\n",
       "    .dataframe thead th {\n",
       "        text-align: right;\n",
       "    }\n",
       "</style>\n",
       "<table border=\"1\" class=\"dataframe\">\n",
       "  <thead>\n",
       "    <tr style=\"text-align: right;\">\n",
       "      <th></th>\n",
       "      <th>id</th>\n",
       "      <th>loan_amnt</th>\n",
       "      <th>funded_amnt</th>\n",
       "      <th>funded_amnt_inv</th>\n",
       "      <th>term</th>\n",
       "      <th>int_rate</th>\n",
       "      <th>installment</th>\n",
       "      <th>grade</th>\n",
       "      <th>sub_grade</th>\n",
       "      <th>emp_title</th>\n",
       "      <th>...</th>\n",
       "      <th>hardship_last_payment_amount</th>\n",
       "      <th>disbursement_method</th>\n",
       "      <th>debt_settlement_flag</th>\n",
       "      <th>debt_settlement_flag_date</th>\n",
       "      <th>settlement_status</th>\n",
       "      <th>settlement_date</th>\n",
       "      <th>settlement_amount</th>\n",
       "      <th>settlement_percentage</th>\n",
       "      <th>settlement_term</th>\n",
       "      <th>inq_last_6ths</th>\n",
       "    </tr>\n",
       "  </thead>\n",
       "  <tbody>\n",
       "    <tr>\n",
       "      <th>0</th>\n",
       "      <td>38098114</td>\n",
       "      <td>15000.0</td>\n",
       "      <td>15000.0</td>\n",
       "      <td>15000.0</td>\n",
       "      <td>60 months</td>\n",
       "      <td>12.39</td>\n",
       "      <td>336.64</td>\n",
       "      <td>C</td>\n",
       "      <td>C1</td>\n",
       "      <td>MANAGEMENT</td>\n",
       "      <td>...</td>\n",
       "      <td>NaN</td>\n",
       "      <td>Cash</td>\n",
       "      <td>False</td>\n",
       "      <td>NaT</td>\n",
       "      <td>NaN</td>\n",
       "      <td>NaT</td>\n",
       "      <td>NaN</td>\n",
       "      <td>NaN</td>\n",
       "      <td>NaN</td>\n",
       "      <td>0</td>\n",
       "    </tr>\n",
       "    <tr>\n",
       "      <th>1</th>\n",
       "      <td>36805548</td>\n",
       "      <td>10400.0</td>\n",
       "      <td>10400.0</td>\n",
       "      <td>10400.0</td>\n",
       "      <td>36 months</td>\n",
       "      <td>6.99</td>\n",
       "      <td>321.08</td>\n",
       "      <td>A</td>\n",
       "      <td>A3</td>\n",
       "      <td>Truck Driver Delivery Personel</td>\n",
       "      <td>...</td>\n",
       "      <td>NaN</td>\n",
       "      <td>Cash</td>\n",
       "      <td>False</td>\n",
       "      <td>NaT</td>\n",
       "      <td>NaN</td>\n",
       "      <td>NaT</td>\n",
       "      <td>NaN</td>\n",
       "      <td>NaN</td>\n",
       "      <td>NaN</td>\n",
       "      <td>0</td>\n",
       "    </tr>\n",
       "    <tr>\n",
       "      <th>2</th>\n",
       "      <td>37842129</td>\n",
       "      <td>21425.0</td>\n",
       "      <td>21425.0</td>\n",
       "      <td>21425.0</td>\n",
       "      <td>60 months</td>\n",
       "      <td>15.59</td>\n",
       "      <td>516.36</td>\n",
       "      <td>D</td>\n",
       "      <td>D1</td>\n",
       "      <td>Programming Analysis Supervisor</td>\n",
       "      <td>...</td>\n",
       "      <td>NaN</td>\n",
       "      <td>Cash</td>\n",
       "      <td>False</td>\n",
       "      <td>NaT</td>\n",
       "      <td>NaN</td>\n",
       "      <td>NaT</td>\n",
       "      <td>NaN</td>\n",
       "      <td>NaN</td>\n",
       "      <td>NaN</td>\n",
       "      <td>0</td>\n",
       "    </tr>\n",
       "    <tr>\n",
       "      <th>3</th>\n",
       "      <td>37612354</td>\n",
       "      <td>12800.0</td>\n",
       "      <td>12800.0</td>\n",
       "      <td>12800.0</td>\n",
       "      <td>60 months</td>\n",
       "      <td>17.14</td>\n",
       "      <td>319.08</td>\n",
       "      <td>D</td>\n",
       "      <td>D4</td>\n",
       "      <td>Senior Sales Professional</td>\n",
       "      <td>...</td>\n",
       "      <td>NaN</td>\n",
       "      <td>Cash</td>\n",
       "      <td>False</td>\n",
       "      <td>NaT</td>\n",
       "      <td>NaN</td>\n",
       "      <td>NaT</td>\n",
       "      <td>NaN</td>\n",
       "      <td>NaN</td>\n",
       "      <td>NaN</td>\n",
       "      <td>0</td>\n",
       "    </tr>\n",
       "    <tr>\n",
       "      <th>4</th>\n",
       "      <td>37662224</td>\n",
       "      <td>7650.0</td>\n",
       "      <td>7650.0</td>\n",
       "      <td>7650.0</td>\n",
       "      <td>36 months</td>\n",
       "      <td>13.66</td>\n",
       "      <td>260.20</td>\n",
       "      <td>C</td>\n",
       "      <td>C3</td>\n",
       "      <td>Technical Specialist</td>\n",
       "      <td>...</td>\n",
       "      <td>NaN</td>\n",
       "      <td>Cash</td>\n",
       "      <td>False</td>\n",
       "      <td>NaT</td>\n",
       "      <td>NaN</td>\n",
       "      <td>NaT</td>\n",
       "      <td>NaN</td>\n",
       "      <td>NaN</td>\n",
       "      <td>NaN</td>\n",
       "      <td>0</td>\n",
       "    </tr>\n",
       "    <tr>\n",
       "      <th>...</th>\n",
       "      <td>...</td>\n",
       "      <td>...</td>\n",
       "      <td>...</td>\n",
       "      <td>...</td>\n",
       "      <td>...</td>\n",
       "      <td>...</td>\n",
       "      <td>...</td>\n",
       "      <td>...</td>\n",
       "      <td>...</td>\n",
       "      <td>...</td>\n",
       "      <td>...</td>\n",
       "      <td>...</td>\n",
       "      <td>...</td>\n",
       "      <td>...</td>\n",
       "      <td>...</td>\n",
       "      <td>...</td>\n",
       "      <td>...</td>\n",
       "      <td>...</td>\n",
       "      <td>...</td>\n",
       "      <td>...</td>\n",
       "      <td>...</td>\n",
       "    </tr>\n",
       "    <tr>\n",
       "      <th>99995</th>\n",
       "      <td>22454240</td>\n",
       "      <td>8400.0</td>\n",
       "      <td>8400.0</td>\n",
       "      <td>8400.0</td>\n",
       "      <td>36 months</td>\n",
       "      <td>9.17</td>\n",
       "      <td>267.79</td>\n",
       "      <td>B</td>\n",
       "      <td>B1</td>\n",
       "      <td>Software Engineer</td>\n",
       "      <td>...</td>\n",
       "      <td>NaN</td>\n",
       "      <td>Cash</td>\n",
       "      <td>False</td>\n",
       "      <td>NaT</td>\n",
       "      <td>NaN</td>\n",
       "      <td>NaT</td>\n",
       "      <td>NaN</td>\n",
       "      <td>NaN</td>\n",
       "      <td>NaN</td>\n",
       "      <td>0</td>\n",
       "    </tr>\n",
       "    <tr>\n",
       "      <th>99996</th>\n",
       "      <td>11396920</td>\n",
       "      <td>10000.0</td>\n",
       "      <td>10000.0</td>\n",
       "      <td>10000.0</td>\n",
       "      <td>36 months</td>\n",
       "      <td>12.99</td>\n",
       "      <td>336.90</td>\n",
       "      <td>C</td>\n",
       "      <td>C1</td>\n",
       "      <td>Assistant Professor of English</td>\n",
       "      <td>...</td>\n",
       "      <td>NaN</td>\n",
       "      <td>Cash</td>\n",
       "      <td>False</td>\n",
       "      <td>NaT</td>\n",
       "      <td>NaN</td>\n",
       "      <td>NaT</td>\n",
       "      <td>NaN</td>\n",
       "      <td>NaN</td>\n",
       "      <td>NaN</td>\n",
       "      <td>0</td>\n",
       "    </tr>\n",
       "    <tr>\n",
       "      <th>99997</th>\n",
       "      <td>8556176</td>\n",
       "      <td>30000.0</td>\n",
       "      <td>30000.0</td>\n",
       "      <td>30000.0</td>\n",
       "      <td>60 months</td>\n",
       "      <td>20.99</td>\n",
       "      <td>811.44</td>\n",
       "      <td>E</td>\n",
       "      <td>E4</td>\n",
       "      <td>Facilities Tech 3</td>\n",
       "      <td>...</td>\n",
       "      <td>NaN</td>\n",
       "      <td>Cash</td>\n",
       "      <td>False</td>\n",
       "      <td>NaT</td>\n",
       "      <td>NaN</td>\n",
       "      <td>NaT</td>\n",
       "      <td>NaN</td>\n",
       "      <td>NaN</td>\n",
       "      <td>NaN</td>\n",
       "      <td>0</td>\n",
       "    </tr>\n",
       "    <tr>\n",
       "      <th>99998</th>\n",
       "      <td>24023408</td>\n",
       "      <td>8475.0</td>\n",
       "      <td>8475.0</td>\n",
       "      <td>8475.0</td>\n",
       "      <td>36 months</td>\n",
       "      <td>24.99</td>\n",
       "      <td>336.92</td>\n",
       "      <td>F</td>\n",
       "      <td>F4</td>\n",
       "      <td>Records Examiner Analyst</td>\n",
       "      <td>...</td>\n",
       "      <td>NaN</td>\n",
       "      <td>Cash</td>\n",
       "      <td>False</td>\n",
       "      <td>NaT</td>\n",
       "      <td>NaN</td>\n",
       "      <td>NaT</td>\n",
       "      <td>NaN</td>\n",
       "      <td>NaN</td>\n",
       "      <td>NaN</td>\n",
       "      <td>0</td>\n",
       "    </tr>\n",
       "    <tr>\n",
       "      <th>99999</th>\n",
       "      <td>24023398</td>\n",
       "      <td>25000.0</td>\n",
       "      <td>25000.0</td>\n",
       "      <td>25000.0</td>\n",
       "      <td>36 months</td>\n",
       "      <td>10.15</td>\n",
       "      <td>808.45</td>\n",
       "      <td>B</td>\n",
       "      <td>B2</td>\n",
       "      <td>Occupational Theapy Assistant</td>\n",
       "      <td>...</td>\n",
       "      <td>NaN</td>\n",
       "      <td>Cash</td>\n",
       "      <td>False</td>\n",
       "      <td>NaT</td>\n",
       "      <td>NaN</td>\n",
       "      <td>NaT</td>\n",
       "      <td>NaN</td>\n",
       "      <td>NaN</td>\n",
       "      <td>NaN</td>\n",
       "      <td>0</td>\n",
       "    </tr>\n",
       "  </tbody>\n",
       "</table>\n",
       "<p>100000 rows × 135 columns</p>\n",
       "</div>"
      ],
      "text/plain": [
       "             id  loan_amnt  funded_amnt  funded_amnt_inv        term  \\\n",
       "0      38098114    15000.0      15000.0          15000.0   60 months   \n",
       "1      36805548    10400.0      10400.0          10400.0   36 months   \n",
       "2      37842129    21425.0      21425.0          21425.0   60 months   \n",
       "3      37612354    12800.0      12800.0          12800.0   60 months   \n",
       "4      37662224     7650.0       7650.0           7650.0   36 months   \n",
       "...         ...        ...          ...              ...         ...   \n",
       "99995  22454240     8400.0       8400.0           8400.0   36 months   \n",
       "99996  11396920    10000.0      10000.0          10000.0   36 months   \n",
       "99997   8556176    30000.0      30000.0          30000.0   60 months   \n",
       "99998  24023408     8475.0       8475.0           8475.0   36 months   \n",
       "99999  24023398    25000.0      25000.0          25000.0   36 months   \n",
       "\n",
       "       int_rate  installment grade sub_grade                        emp_title  \\\n",
       "0         12.39       336.64     C        C1                       MANAGEMENT   \n",
       "1          6.99       321.08     A        A3   Truck Driver Delivery Personel   \n",
       "2         15.59       516.36     D        D1  Programming Analysis Supervisor   \n",
       "3         17.14       319.08     D        D4        Senior Sales Professional   \n",
       "4         13.66       260.20     C        C3             Technical Specialist   \n",
       "...         ...          ...   ...       ...                              ...   \n",
       "99995      9.17       267.79     B        B1                Software Engineer   \n",
       "99996     12.99       336.90     C        C1   Assistant Professor of English   \n",
       "99997     20.99       811.44     E        E4                Facilities Tech 3   \n",
       "99998     24.99       336.92     F        F4         Records Examiner Analyst   \n",
       "99999     10.15       808.45     B        B2    Occupational Theapy Assistant   \n",
       "\n",
       "       ... hardship_last_payment_amount disbursement_method  \\\n",
       "0      ...                          NaN                Cash   \n",
       "1      ...                          NaN                Cash   \n",
       "2      ...                          NaN                Cash   \n",
       "3      ...                          NaN                Cash   \n",
       "4      ...                          NaN                Cash   \n",
       "...    ...                          ...                 ...   \n",
       "99995  ...                          NaN                Cash   \n",
       "99996  ...                          NaN                Cash   \n",
       "99997  ...                          NaN                Cash   \n",
       "99998  ...                          NaN                Cash   \n",
       "99999  ...                          NaN                Cash   \n",
       "\n",
       "       debt_settlement_flag debt_settlement_flag_date settlement_status  \\\n",
       "0                     False                       NaT               NaN   \n",
       "1                     False                       NaT               NaN   \n",
       "2                     False                       NaT               NaN   \n",
       "3                     False                       NaT               NaN   \n",
       "4                     False                       NaT               NaN   \n",
       "...                     ...                       ...               ...   \n",
       "99995                 False                       NaT               NaN   \n",
       "99996                 False                       NaT               NaN   \n",
       "99997                 False                       NaT               NaN   \n",
       "99998                 False                       NaT               NaN   \n",
       "99999                 False                       NaT               NaN   \n",
       "\n",
       "      settlement_date settlement_amount settlement_percentage settlement_term  \\\n",
       "0                 NaT               NaN                   NaN             NaN   \n",
       "1                 NaT               NaN                   NaN             NaN   \n",
       "2                 NaT               NaN                   NaN             NaN   \n",
       "3                 NaT               NaN                   NaN             NaN   \n",
       "4                 NaT               NaN                   NaN             NaN   \n",
       "...               ...               ...                   ...             ...   \n",
       "99995             NaT               NaN                   NaN             NaN   \n",
       "99996             NaT               NaN                   NaN             NaN   \n",
       "99997             NaT               NaN                   NaN             NaN   \n",
       "99998             NaT               NaN                   NaN             NaN   \n",
       "99999             NaT               NaN                   NaN             NaN   \n",
       "\n",
       "      inq_last_6ths  \n",
       "0                 0  \n",
       "1                 0  \n",
       "2                 0  \n",
       "3                 0  \n",
       "4                 0  \n",
       "...             ...  \n",
       "99995             0  \n",
       "99996             0  \n",
       "99997             0  \n",
       "99998             0  \n",
       "99999             0  \n",
       "\n",
       "[100000 rows x 135 columns]"
      ]
     },
     "execution_count": 159,
     "metadata": {},
     "output_type": "execute_result"
    }
   ],
   "source": [
    "aux_loans"
   ]
  },
  {
   "attachments": {},
   "cell_type": "markdown",
   "metadata": {},
   "source": [
    "## **Tipos de Datos**"
   ]
  },
  {
   "cell_type": "markdown",
   "metadata": {},
   "source": [
    "Realiza las transformaciones o casteos (casting) que creas necesarios a tus datos de tal manera que el typo de dato sea adecuado. Al terminar recrea la tabla `column_types` con los nuevos tipos."
   ]
  },
  {
   "attachments": {},
   "cell_type": "markdown",
   "metadata": {},
   "source": [
    "No olvides anotar tus justificaciones para recordar cuando te toque explicarlo."
   ]
  },
  {
   "attachments": {},
   "cell_type": "markdown",
   "metadata": {},
   "source": [
    "### **Análisis de columnas**"
   ]
  },
  {
   "attachments": {},
   "cell_type": "markdown",
   "metadata": {},
   "source": [
    "Hay que juntar las descripciones con los tipos de dato para analizarlos más fácil."
   ]
  },
  {
   "cell_type": "code",
   "execution_count": 17,
   "metadata": {},
   "outputs": [],
   "source": [
    "merge_tipos_aux = pd.merge(tabla_tipos_aux, datos_dict, on='column_name')"
   ]
  },
  {
   "cell_type": "code",
   "execution_count": 18,
   "metadata": {},
   "outputs": [
    {
     "data": {
      "text/html": [
       "<div>\n",
       "<style scoped>\n",
       "    .dataframe tbody tr th:only-of-type {\n",
       "        vertical-align: middle;\n",
       "    }\n",
       "\n",
       "    .dataframe tbody tr th {\n",
       "        vertical-align: top;\n",
       "    }\n",
       "\n",
       "    .dataframe thead th {\n",
       "        text-align: right;\n",
       "    }\n",
       "</style>\n",
       "<table border=\"1\" class=\"dataframe\">\n",
       "  <thead>\n",
       "    <tr style=\"text-align: right;\">\n",
       "      <th></th>\n",
       "      <th>column_name</th>\n",
       "      <th>type</th>\n",
       "      <th>description</th>\n",
       "    </tr>\n",
       "  </thead>\n",
       "  <tbody>\n",
       "    <tr>\n",
       "      <th>0</th>\n",
       "      <td>id</td>\n",
       "      <td>int64</td>\n",
       "      <td>A unique LC assigned ID for the loan listing.</td>\n",
       "    </tr>\n",
       "    <tr>\n",
       "      <th>1</th>\n",
       "      <td>member_id</td>\n",
       "      <td>float64</td>\n",
       "      <td>A unique LC assigned Id for the borrower member.</td>\n",
       "    </tr>\n",
       "    <tr>\n",
       "      <th>2</th>\n",
       "      <td>loan_amnt</td>\n",
       "      <td>float64</td>\n",
       "      <td>The listed amount of the loan applied for by t...</td>\n",
       "    </tr>\n",
       "    <tr>\n",
       "      <th>3</th>\n",
       "      <td>funded_amnt</td>\n",
       "      <td>float64</td>\n",
       "      <td>The total amount committed to that loan at tha...</td>\n",
       "    </tr>\n",
       "    <tr>\n",
       "      <th>4</th>\n",
       "      <td>funded_amnt_inv</td>\n",
       "      <td>float64</td>\n",
       "      <td>The total amount committed by investors for th...</td>\n",
       "    </tr>\n",
       "    <tr>\n",
       "      <th>...</th>\n",
       "      <td>...</td>\n",
       "      <td>...</td>\n",
       "      <td>...</td>\n",
       "    </tr>\n",
       "    <tr>\n",
       "      <th>131</th>\n",
       "      <td>settlement_status</td>\n",
       "      <td>object</td>\n",
       "      <td>The status of the borrower’s settlement plan. ...</td>\n",
       "    </tr>\n",
       "    <tr>\n",
       "      <th>132</th>\n",
       "      <td>settlement_date</td>\n",
       "      <td>object</td>\n",
       "      <td>The date that the borrower agrees to the settl...</td>\n",
       "    </tr>\n",
       "    <tr>\n",
       "      <th>133</th>\n",
       "      <td>settlement_amount</td>\n",
       "      <td>float64</td>\n",
       "      <td>The loan amount that the borrower has agreed t...</td>\n",
       "    </tr>\n",
       "    <tr>\n",
       "      <th>134</th>\n",
       "      <td>settlement_percentage</td>\n",
       "      <td>float64</td>\n",
       "      <td>The settlement amount as a percentage of the p...</td>\n",
       "    </tr>\n",
       "    <tr>\n",
       "      <th>135</th>\n",
       "      <td>settlement_term</td>\n",
       "      <td>float64</td>\n",
       "      <td>The number of months that the borrower will be...</td>\n",
       "    </tr>\n",
       "  </tbody>\n",
       "</table>\n",
       "<p>136 rows × 3 columns</p>\n",
       "</div>"
      ],
      "text/plain": [
       "               column_name     type  \\\n",
       "0                       id    int64   \n",
       "1                member_id  float64   \n",
       "2                loan_amnt  float64   \n",
       "3              funded_amnt  float64   \n",
       "4          funded_amnt_inv  float64   \n",
       "..                     ...      ...   \n",
       "131      settlement_status   object   \n",
       "132        settlement_date   object   \n",
       "133      settlement_amount  float64   \n",
       "134  settlement_percentage  float64   \n",
       "135        settlement_term  float64   \n",
       "\n",
       "                                           description  \n",
       "0        A unique LC assigned ID for the loan listing.  \n",
       "1     A unique LC assigned Id for the borrower member.  \n",
       "2    The listed amount of the loan applied for by t...  \n",
       "3    The total amount committed to that loan at tha...  \n",
       "4    The total amount committed by investors for th...  \n",
       "..                                                 ...  \n",
       "131  The status of the borrower’s settlement plan. ...  \n",
       "132  The date that the borrower agrees to the settl...  \n",
       "133  The loan amount that the borrower has agreed t...  \n",
       "134  The settlement amount as a percentage of the p...  \n",
       "135  The number of months that the borrower will be...  \n",
       "\n",
       "[136 rows x 3 columns]"
      ]
     },
     "execution_count": 18,
     "metadata": {},
     "output_type": "execute_result"
    }
   ],
   "source": [
    "merge_tipos_aux"
   ]
  },
  {
   "attachments": {},
   "cell_type": "markdown",
   "metadata": {},
   "source": [
    "Hay 14 columnas del dataframe que no pasaron el filtro. Veamos cuales fueron"
   ]
  },
  {
   "cell_type": "code",
   "execution_count": 19,
   "metadata": {},
   "outputs": [],
   "source": [
    "main_list = list(set(tabla_tipos_aux.column_name.values) - set(merge_tipos_aux.column_name.values))\n"
   ]
  },
  {
   "cell_type": "code",
   "execution_count": 20,
   "metadata": {},
   "outputs": [
    {
     "data": {
      "text/plain": [
       "['sec_app_fico_range_high',\n",
       " 'total_rev_hi_lim',\n",
       " 'sec_app_collections_12_mths_ex_med',\n",
       " 'revol_bal_joint',\n",
       " 'sec_app_mort_acc',\n",
       " 'sec_app_inq_last_6mths',\n",
       " 'sec_app_revol_util',\n",
       " 'sec_app_earliest_cr_line',\n",
       " 'verification_status_joint',\n",
       " 'sec_app_open_acc',\n",
       " 'sec_app_fico_range_low',\n",
       " 'sec_app_num_rev_accts',\n",
       " 'sec_app_mths_since_last_major_derog',\n",
       " 'sec_app_chargeoff_within_12_mths']"
      ]
     },
     "execution_count": 20,
     "metadata": {},
     "output_type": "execute_result"
    }
   ],
   "source": [
    "# Columnas que no aparecieron\n",
    "\n",
    "main_list"
   ]
  },
  {
   "cell_type": "code",
   "execution_count": 21,
   "metadata": {},
   "outputs": [],
   "source": [
    "difs_datosdict = list(set(datos_dict.column_name.values) - set(merge_tipos_aux.column_name.values))\n"
   ]
  },
  {
   "cell_type": "code",
   "execution_count": 22,
   "metadata": {},
   "outputs": [
    {
     "data": {
      "text/plain": [
       "['sec_app_inq_last_6mths ',\n",
       " 'revol_bal_joint ',\n",
       " 'verified_status_joint',\n",
       " nan,\n",
       " 'sec_app_collections_12_mths_ex_med ',\n",
       " 'total_rev_hi_lim \\xa0',\n",
       " 'sec_app_fico_range_high ',\n",
       " 'sec_app_earliest_cr_line ',\n",
       " 'sec_app_mort_acc ',\n",
       " 'sec_app_chargeoff_within_12_mths ',\n",
       " 'url',\n",
       " 'sec_app_mths_since_last_major_derog ',\n",
       " 'sec_app_num_rev_accts ',\n",
       " 'sec_app_revol_util ',\n",
       " 'sec_app_fico_range_low ',\n",
       " 'sec_app_open_acc ']"
      ]
     },
     "execution_count": 22,
     "metadata": {},
     "output_type": "execute_result"
    }
   ],
   "source": [
    "difs_datosdict"
   ]
  },
  {
   "attachments": {},
   "cell_type": "markdown",
   "metadata": {},
   "source": [
    "Podemos ver que hubo un problema con un espacio al final de las oraciones. Uso em método rstrip para quitar espacios sobrantes al final."
   ]
  },
  {
   "cell_type": "code",
   "execution_count": 23,
   "metadata": {},
   "outputs": [],
   "source": [
    "# Correccion\n",
    "\n",
    "datos_dict['column_name'] = datos_dict['column_name'].str.rstrip()"
   ]
  },
  {
   "attachments": {},
   "cell_type": "markdown",
   "metadata": {},
   "source": [
    "Intentamos de nuevo el merge"
   ]
  },
  {
   "cell_type": "code",
   "execution_count": 24,
   "metadata": {},
   "outputs": [],
   "source": [
    "tipos_descrip = pd.merge(tabla_tipos_aux, datos_dict, on='column_name')"
   ]
  },
  {
   "cell_type": "code",
   "execution_count": 25,
   "metadata": {},
   "outputs": [
    {
     "data": {
      "text/html": [
       "<div>\n",
       "<style scoped>\n",
       "    .dataframe tbody tr th:only-of-type {\n",
       "        vertical-align: middle;\n",
       "    }\n",
       "\n",
       "    .dataframe tbody tr th {\n",
       "        vertical-align: top;\n",
       "    }\n",
       "\n",
       "    .dataframe thead th {\n",
       "        text-align: right;\n",
       "    }\n",
       "</style>\n",
       "<table border=\"1\" class=\"dataframe\">\n",
       "  <thead>\n",
       "    <tr style=\"text-align: right;\">\n",
       "      <th></th>\n",
       "      <th>column_name</th>\n",
       "      <th>type</th>\n",
       "      <th>description</th>\n",
       "    </tr>\n",
       "  </thead>\n",
       "  <tbody>\n",
       "    <tr>\n",
       "      <th>0</th>\n",
       "      <td>id</td>\n",
       "      <td>int64</td>\n",
       "      <td>A unique LC assigned ID for the loan listing.</td>\n",
       "    </tr>\n",
       "    <tr>\n",
       "      <th>1</th>\n",
       "      <td>member_id</td>\n",
       "      <td>float64</td>\n",
       "      <td>A unique LC assigned Id for the borrower member.</td>\n",
       "    </tr>\n",
       "    <tr>\n",
       "      <th>2</th>\n",
       "      <td>loan_amnt</td>\n",
       "      <td>float64</td>\n",
       "      <td>The listed amount of the loan applied for by t...</td>\n",
       "    </tr>\n",
       "    <tr>\n",
       "      <th>3</th>\n",
       "      <td>funded_amnt</td>\n",
       "      <td>float64</td>\n",
       "      <td>The total amount committed to that loan at tha...</td>\n",
       "    </tr>\n",
       "    <tr>\n",
       "      <th>4</th>\n",
       "      <td>funded_amnt_inv</td>\n",
       "      <td>float64</td>\n",
       "      <td>The total amount committed by investors for th...</td>\n",
       "    </tr>\n",
       "    <tr>\n",
       "      <th>...</th>\n",
       "      <td>...</td>\n",
       "      <td>...</td>\n",
       "      <td>...</td>\n",
       "    </tr>\n",
       "    <tr>\n",
       "      <th>144</th>\n",
       "      <td>settlement_status</td>\n",
       "      <td>object</td>\n",
       "      <td>The status of the borrower’s settlement plan. ...</td>\n",
       "    </tr>\n",
       "    <tr>\n",
       "      <th>145</th>\n",
       "      <td>settlement_date</td>\n",
       "      <td>object</td>\n",
       "      <td>The date that the borrower agrees to the settl...</td>\n",
       "    </tr>\n",
       "    <tr>\n",
       "      <th>146</th>\n",
       "      <td>settlement_amount</td>\n",
       "      <td>float64</td>\n",
       "      <td>The loan amount that the borrower has agreed t...</td>\n",
       "    </tr>\n",
       "    <tr>\n",
       "      <th>147</th>\n",
       "      <td>settlement_percentage</td>\n",
       "      <td>float64</td>\n",
       "      <td>The settlement amount as a percentage of the p...</td>\n",
       "    </tr>\n",
       "    <tr>\n",
       "      <th>148</th>\n",
       "      <td>settlement_term</td>\n",
       "      <td>float64</td>\n",
       "      <td>The number of months that the borrower will be...</td>\n",
       "    </tr>\n",
       "  </tbody>\n",
       "</table>\n",
       "<p>149 rows × 3 columns</p>\n",
       "</div>"
      ],
      "text/plain": [
       "               column_name     type  \\\n",
       "0                       id    int64   \n",
       "1                member_id  float64   \n",
       "2                loan_amnt  float64   \n",
       "3              funded_amnt  float64   \n",
       "4          funded_amnt_inv  float64   \n",
       "..                     ...      ...   \n",
       "144      settlement_status   object   \n",
       "145        settlement_date   object   \n",
       "146      settlement_amount  float64   \n",
       "147  settlement_percentage  float64   \n",
       "148        settlement_term  float64   \n",
       "\n",
       "                                           description  \n",
       "0        A unique LC assigned ID for the loan listing.  \n",
       "1     A unique LC assigned Id for the borrower member.  \n",
       "2    The listed amount of the loan applied for by t...  \n",
       "3    The total amount committed to that loan at tha...  \n",
       "4    The total amount committed by investors for th...  \n",
       "..                                                 ...  \n",
       "144  The status of the borrower’s settlement plan. ...  \n",
       "145  The date that the borrower agrees to the settl...  \n",
       "146  The loan amount that the borrower has agreed t...  \n",
       "147  The settlement amount as a percentage of the p...  \n",
       "148  The number of months that the borrower will be...  \n",
       "\n",
       "[149 rows x 3 columns]"
      ]
     },
     "execution_count": 25,
     "metadata": {},
     "output_type": "execute_result"
    }
   ],
   "source": [
    "tipos_descrip"
   ]
  },
  {
   "attachments": {},
   "cell_type": "markdown",
   "metadata": {},
   "source": [
    "Vemos cuales faltaron de incluir"
   ]
  },
  {
   "cell_type": "code",
   "execution_count": 26,
   "metadata": {},
   "outputs": [],
   "source": [
    "dif = list(set(tabla_tipos_aux.column_name.values) - set(tipos_descrip.column_name.values))"
   ]
  },
  {
   "cell_type": "code",
   "execution_count": 27,
   "metadata": {},
   "outputs": [
    {
     "data": {
      "text/plain": [
       "['verification_status_joint']"
      ]
     },
     "execution_count": 27,
     "metadata": {},
     "output_type": "execute_result"
    }
   ],
   "source": [
    "dif"
   ]
  },
  {
   "cell_type": "code",
   "execution_count": 28,
   "metadata": {},
   "outputs": [],
   "source": [
    "dif2 = list(set(datos_dict.column_name.values) - set(tabla_tipos_aux.column_name.values))"
   ]
  },
  {
   "cell_type": "code",
   "execution_count": 29,
   "metadata": {},
   "outputs": [
    {
     "data": {
      "text/plain": [
       "['verified_status_joint', nan, 'url']"
      ]
     },
     "execution_count": 29,
     "metadata": {},
     "output_type": "execute_result"
    }
   ],
   "source": [
    "dif2"
   ]
  },
  {
   "attachments": {},
   "cell_type": "markdown",
   "metadata": {},
   "source": [
    "Falta verified_status_joint, que se puso nombre distinto. Veamos cual tiene en la tabla"
   ]
  },
  {
   "cell_type": "code",
   "execution_count": 30,
   "metadata": {},
   "outputs": [],
   "source": [
    "dif3 = list(set(loans.columns) - set(tipos_descrip.column_name.values))"
   ]
  },
  {
   "cell_type": "code",
   "execution_count": 31,
   "metadata": {},
   "outputs": [
    {
     "data": {
      "text/plain": [
       "['verification_status_joint']"
      ]
     },
     "execution_count": 31,
     "metadata": {},
     "output_type": "execute_result"
    }
   ],
   "source": [
    "dif3"
   ]
  },
  {
   "attachments": {},
   "cell_type": "markdown",
   "metadata": {},
   "source": [
    "Ya solo nos faltaría cambiar el nombre a verification status joint."
   ]
  },
  {
   "cell_type": "code",
   "execution_count": 32,
   "metadata": {},
   "outputs": [],
   "source": [
    "datos_dict['column_name'] = datos_dict['column_name'].replace(['verified_status_joint'], 'verification_status_joint')"
   ]
  },
  {
   "cell_type": "code",
   "execution_count": 33,
   "metadata": {},
   "outputs": [],
   "source": [
    "types_description = pd.merge(tabla_tipos_aux, datos_dict, on='column_name')"
   ]
  },
  {
   "cell_type": "code",
   "execution_count": 34,
   "metadata": {},
   "outputs": [
    {
     "data": {
      "text/html": [
       "<div>\n",
       "<style scoped>\n",
       "    .dataframe tbody tr th:only-of-type {\n",
       "        vertical-align: middle;\n",
       "    }\n",
       "\n",
       "    .dataframe tbody tr th {\n",
       "        vertical-align: top;\n",
       "    }\n",
       "\n",
       "    .dataframe thead th {\n",
       "        text-align: right;\n",
       "    }\n",
       "</style>\n",
       "<table border=\"1\" class=\"dataframe\">\n",
       "  <thead>\n",
       "    <tr style=\"text-align: right;\">\n",
       "      <th></th>\n",
       "      <th>column_name</th>\n",
       "      <th>type</th>\n",
       "      <th>description</th>\n",
       "    </tr>\n",
       "  </thead>\n",
       "  <tbody>\n",
       "    <tr>\n",
       "      <th>0</th>\n",
       "      <td>id</td>\n",
       "      <td>int64</td>\n",
       "      <td>A unique LC assigned ID for the loan listing.</td>\n",
       "    </tr>\n",
       "    <tr>\n",
       "      <th>1</th>\n",
       "      <td>member_id</td>\n",
       "      <td>float64</td>\n",
       "      <td>A unique LC assigned Id for the borrower member.</td>\n",
       "    </tr>\n",
       "    <tr>\n",
       "      <th>2</th>\n",
       "      <td>loan_amnt</td>\n",
       "      <td>float64</td>\n",
       "      <td>The listed amount of the loan applied for by t...</td>\n",
       "    </tr>\n",
       "    <tr>\n",
       "      <th>3</th>\n",
       "      <td>funded_amnt</td>\n",
       "      <td>float64</td>\n",
       "      <td>The total amount committed to that loan at tha...</td>\n",
       "    </tr>\n",
       "    <tr>\n",
       "      <th>4</th>\n",
       "      <td>funded_amnt_inv</td>\n",
       "      <td>float64</td>\n",
       "      <td>The total amount committed by investors for th...</td>\n",
       "    </tr>\n",
       "    <tr>\n",
       "      <th>...</th>\n",
       "      <td>...</td>\n",
       "      <td>...</td>\n",
       "      <td>...</td>\n",
       "    </tr>\n",
       "    <tr>\n",
       "      <th>145</th>\n",
       "      <td>settlement_status</td>\n",
       "      <td>object</td>\n",
       "      <td>The status of the borrower’s settlement plan. ...</td>\n",
       "    </tr>\n",
       "    <tr>\n",
       "      <th>146</th>\n",
       "      <td>settlement_date</td>\n",
       "      <td>object</td>\n",
       "      <td>The date that the borrower agrees to the settl...</td>\n",
       "    </tr>\n",
       "    <tr>\n",
       "      <th>147</th>\n",
       "      <td>settlement_amount</td>\n",
       "      <td>float64</td>\n",
       "      <td>The loan amount that the borrower has agreed t...</td>\n",
       "    </tr>\n",
       "    <tr>\n",
       "      <th>148</th>\n",
       "      <td>settlement_percentage</td>\n",
       "      <td>float64</td>\n",
       "      <td>The settlement amount as a percentage of the p...</td>\n",
       "    </tr>\n",
       "    <tr>\n",
       "      <th>149</th>\n",
       "      <td>settlement_term</td>\n",
       "      <td>float64</td>\n",
       "      <td>The number of months that the borrower will be...</td>\n",
       "    </tr>\n",
       "  </tbody>\n",
       "</table>\n",
       "<p>150 rows × 3 columns</p>\n",
       "</div>"
      ],
      "text/plain": [
       "               column_name     type  \\\n",
       "0                       id    int64   \n",
       "1                member_id  float64   \n",
       "2                loan_amnt  float64   \n",
       "3              funded_amnt  float64   \n",
       "4          funded_amnt_inv  float64   \n",
       "..                     ...      ...   \n",
       "145      settlement_status   object   \n",
       "146        settlement_date   object   \n",
       "147      settlement_amount  float64   \n",
       "148  settlement_percentage  float64   \n",
       "149        settlement_term  float64   \n",
       "\n",
       "                                           description  \n",
       "0        A unique LC assigned ID for the loan listing.  \n",
       "1     A unique LC assigned Id for the borrower member.  \n",
       "2    The listed amount of the loan applied for by t...  \n",
       "3    The total amount committed to that loan at tha...  \n",
       "4    The total amount committed by investors for th...  \n",
       "..                                                 ...  \n",
       "145  The status of the borrower’s settlement plan. ...  \n",
       "146  The date that the borrower agrees to the settl...  \n",
       "147  The loan amount that the borrower has agreed t...  \n",
       "148  The settlement amount as a percentage of the p...  \n",
       "149  The number of months that the borrower will be...  \n",
       "\n",
       "[150 rows x 3 columns]"
      ]
     },
     "execution_count": 34,
     "metadata": {},
     "output_type": "execute_result"
    }
   ],
   "source": [
    "types_description"
   ]
  },
  {
   "attachments": {},
   "cell_type": "markdown",
   "metadata": {},
   "source": [
    "Listo, ahora a revisar los tipos de dato y ver cuáles deben cambiarse de tipo."
   ]
  },
  {
   "attachments": {},
   "cell_type": "markdown",
   "metadata": {},
   "source": [
    "#### Primer chunk"
   ]
  },
  {
   "cell_type": "code",
   "execution_count": 35,
   "metadata": {},
   "outputs": [
    {
     "data": {
      "text/html": [
       "<div>\n",
       "<style scoped>\n",
       "    .dataframe tbody tr th:only-of-type {\n",
       "        vertical-align: middle;\n",
       "    }\n",
       "\n",
       "    .dataframe tbody tr th {\n",
       "        vertical-align: top;\n",
       "    }\n",
       "\n",
       "    .dataframe thead th {\n",
       "        text-align: right;\n",
       "    }\n",
       "</style>\n",
       "<table border=\"1\" class=\"dataframe\">\n",
       "  <thead>\n",
       "    <tr style=\"text-align: right;\">\n",
       "      <th></th>\n",
       "      <th>column_name</th>\n",
       "      <th>type</th>\n",
       "      <th>description</th>\n",
       "    </tr>\n",
       "  </thead>\n",
       "  <tbody>\n",
       "    <tr>\n",
       "      <th>0</th>\n",
       "      <td>id</td>\n",
       "      <td>int64</td>\n",
       "      <td>A unique LC assigned ID for the loan listing.</td>\n",
       "    </tr>\n",
       "    <tr>\n",
       "      <th>1</th>\n",
       "      <td>member_id</td>\n",
       "      <td>float64</td>\n",
       "      <td>A unique LC assigned Id for the borrower member.</td>\n",
       "    </tr>\n",
       "    <tr>\n",
       "      <th>2</th>\n",
       "      <td>loan_amnt</td>\n",
       "      <td>float64</td>\n",
       "      <td>The listed amount of the loan applied for by t...</td>\n",
       "    </tr>\n",
       "    <tr>\n",
       "      <th>3</th>\n",
       "      <td>funded_amnt</td>\n",
       "      <td>float64</td>\n",
       "      <td>The total amount committed to that loan at tha...</td>\n",
       "    </tr>\n",
       "    <tr>\n",
       "      <th>4</th>\n",
       "      <td>funded_amnt_inv</td>\n",
       "      <td>float64</td>\n",
       "      <td>The total amount committed by investors for th...</td>\n",
       "    </tr>\n",
       "    <tr>\n",
       "      <th>5</th>\n",
       "      <td>term</td>\n",
       "      <td>object</td>\n",
       "      <td>The number of payments on the loan. Values are...</td>\n",
       "    </tr>\n",
       "    <tr>\n",
       "      <th>6</th>\n",
       "      <td>int_rate</td>\n",
       "      <td>float64</td>\n",
       "      <td>Interest Rate on the loan</td>\n",
       "    </tr>\n",
       "    <tr>\n",
       "      <th>7</th>\n",
       "      <td>installment</td>\n",
       "      <td>float64</td>\n",
       "      <td>The monthly payment owed by the borrower if th...</td>\n",
       "    </tr>\n",
       "    <tr>\n",
       "      <th>8</th>\n",
       "      <td>grade</td>\n",
       "      <td>object</td>\n",
       "      <td>LC assigned loan grade</td>\n",
       "    </tr>\n",
       "    <tr>\n",
       "      <th>9</th>\n",
       "      <td>sub_grade</td>\n",
       "      <td>object</td>\n",
       "      <td>LC assigned loan subgrade</td>\n",
       "    </tr>\n",
       "    <tr>\n",
       "      <th>10</th>\n",
       "      <td>emp_title</td>\n",
       "      <td>object</td>\n",
       "      <td>The job title supplied by the Borrower when ap...</td>\n",
       "    </tr>\n",
       "    <tr>\n",
       "      <th>11</th>\n",
       "      <td>emp_length</td>\n",
       "      <td>object</td>\n",
       "      <td>Employment length in years. Possible values ar...</td>\n",
       "    </tr>\n",
       "    <tr>\n",
       "      <th>12</th>\n",
       "      <td>home_ownership</td>\n",
       "      <td>object</td>\n",
       "      <td>The home ownership status provided by the borr...</td>\n",
       "    </tr>\n",
       "    <tr>\n",
       "      <th>13</th>\n",
       "      <td>annual_inc</td>\n",
       "      <td>float64</td>\n",
       "      <td>The self-reported annual income provided by th...</td>\n",
       "    </tr>\n",
       "    <tr>\n",
       "      <th>14</th>\n",
       "      <td>verification_status</td>\n",
       "      <td>object</td>\n",
       "      <td>Indicates if income was verified by LC, not ve...</td>\n",
       "    </tr>\n",
       "    <tr>\n",
       "      <th>15</th>\n",
       "      <td>issue_d</td>\n",
       "      <td>object</td>\n",
       "      <td>The month which the loan was funded</td>\n",
       "    </tr>\n",
       "    <tr>\n",
       "      <th>16</th>\n",
       "      <td>loan_status</td>\n",
       "      <td>object</td>\n",
       "      <td>Current status of the loan</td>\n",
       "    </tr>\n",
       "    <tr>\n",
       "      <th>17</th>\n",
       "      <td>pymnt_plan</td>\n",
       "      <td>object</td>\n",
       "      <td>Indicates if a payment plan has been put in pl...</td>\n",
       "    </tr>\n",
       "    <tr>\n",
       "      <th>18</th>\n",
       "      <td>desc</td>\n",
       "      <td>object</td>\n",
       "      <td>Loan description provided by the borrower</td>\n",
       "    </tr>\n",
       "    <tr>\n",
       "      <th>19</th>\n",
       "      <td>purpose</td>\n",
       "      <td>object</td>\n",
       "      <td>A category provided by the borrower for the lo...</td>\n",
       "    </tr>\n",
       "    <tr>\n",
       "      <th>20</th>\n",
       "      <td>title</td>\n",
       "      <td>object</td>\n",
       "      <td>The loan title provided by the borrower</td>\n",
       "    </tr>\n",
       "  </tbody>\n",
       "</table>\n",
       "</div>"
      ],
      "text/plain": [
       "            column_name     type  \\\n",
       "0                    id    int64   \n",
       "1             member_id  float64   \n",
       "2             loan_amnt  float64   \n",
       "3           funded_amnt  float64   \n",
       "4       funded_amnt_inv  float64   \n",
       "5                  term   object   \n",
       "6              int_rate  float64   \n",
       "7           installment  float64   \n",
       "8                 grade   object   \n",
       "9             sub_grade   object   \n",
       "10            emp_title   object   \n",
       "11           emp_length   object   \n",
       "12       home_ownership   object   \n",
       "13           annual_inc  float64   \n",
       "14  verification_status   object   \n",
       "15              issue_d   object   \n",
       "16          loan_status   object   \n",
       "17           pymnt_plan   object   \n",
       "18                 desc   object   \n",
       "19              purpose   object   \n",
       "20                title   object   \n",
       "\n",
       "                                          description  \n",
       "0       A unique LC assigned ID for the loan listing.  \n",
       "1    A unique LC assigned Id for the borrower member.  \n",
       "2   The listed amount of the loan applied for by t...  \n",
       "3   The total amount committed to that loan at tha...  \n",
       "4   The total amount committed by investors for th...  \n",
       "5   The number of payments on the loan. Values are...  \n",
       "6                           Interest Rate on the loan  \n",
       "7   The monthly payment owed by the borrower if th...  \n",
       "8                              LC assigned loan grade  \n",
       "9                           LC assigned loan subgrade  \n",
       "10  The job title supplied by the Borrower when ap...  \n",
       "11  Employment length in years. Possible values ar...  \n",
       "12  The home ownership status provided by the borr...  \n",
       "13  The self-reported annual income provided by th...  \n",
       "14  Indicates if income was verified by LC, not ve...  \n",
       "15                The month which the loan was funded  \n",
       "16                         Current status of the loan  \n",
       "17  Indicates if a payment plan has been put in pl...  \n",
       "18          Loan description provided by the borrower  \n",
       "19  A category provided by the borrower for the lo...  \n",
       "20            The loan title provided by the borrower  "
      ]
     },
     "execution_count": 35,
     "metadata": {},
     "output_type": "execute_result"
    }
   ],
   "source": [
    "# Primer chunk de 20\n",
    "\n",
    "types_description.loc[0:20]"
   ]
  },
  {
   "cell_type": "code",
   "execution_count": 36,
   "metadata": {},
   "outputs": [
    {
     "data": {
      "text/plain": [
       "array([38098114, 36805548, 37842129, 37612354, 37662224])"
      ]
     },
     "execution_count": 36,
     "metadata": {},
     "output_type": "execute_result"
    }
   ],
   "source": [
    "loans.id.head().values"
   ]
  },
  {
   "cell_type": "code",
   "execution_count": 37,
   "metadata": {},
   "outputs": [
    {
     "data": {
      "text/plain": [
       "array([nan, nan, nan, ..., nan, nan, nan])"
      ]
     },
     "execution_count": 37,
     "metadata": {},
     "output_type": "execute_result"
    }
   ],
   "source": [
    "loans.member_id.values"
   ]
  },
  {
   "cell_type": "code",
   "execution_count": 38,
   "metadata": {},
   "outputs": [
    {
     "data": {
      "text/plain": [
       "array([' 60 months', ' 36 months'], dtype=object)"
      ]
     },
     "execution_count": 38,
     "metadata": {},
     "output_type": "execute_result"
    }
   ],
   "source": [
    "loans.term.unique()"
   ]
  },
  {
   "cell_type": "code",
   "execution_count": 39,
   "metadata": {},
   "outputs": [
    {
     "data": {
      "text/plain": [
       "array(['C', 'A', 'D', ..., 'E', 'F', 'B'], dtype=object)"
      ]
     },
     "execution_count": 39,
     "metadata": {},
     "output_type": "execute_result"
    }
   ],
   "source": [
    "loans.grade.values"
   ]
  },
  {
   "cell_type": "code",
   "execution_count": 40,
   "metadata": {},
   "outputs": [
    {
     "data": {
      "text/plain": [
       "array(['10+ years', '8 years', '6 years', ..., '10+ years', '10+ years',\n",
       "       '3 years'], dtype=object)"
      ]
     },
     "execution_count": 40,
     "metadata": {},
     "output_type": "execute_result"
    }
   ],
   "source": [
    "loans.emp_length.values"
   ]
  },
  {
   "cell_type": "code",
   "execution_count": 41,
   "metadata": {},
   "outputs": [
    {
     "data": {
      "text/plain": [
       "array(['Source Verified', 'Not Verified', 'Verified'], dtype=object)"
      ]
     },
     "execution_count": 41,
     "metadata": {},
     "output_type": "execute_result"
    }
   ],
   "source": [
    "loans.verification_status.unique()"
   ]
  },
  {
   "attachments": {},
   "cell_type": "markdown",
   "metadata": {},
   "source": [
    "No lo puedo hacer booleano"
   ]
  },
  {
   "attachments": {},
   "cell_type": "markdown",
   "metadata": {},
   "source": [
    "Cambios al primer chunk \n",
    " - los ID no son float, son int. \n"
   ]
  },
  {
   "cell_type": "markdown",
   "metadata": {},
   "source": [
    "#### Segundo chunk"
   ]
  },
  {
   "cell_type": "code",
   "execution_count": 42,
   "metadata": {},
   "outputs": [
    {
     "data": {
      "text/html": [
       "<div>\n",
       "<style scoped>\n",
       "    .dataframe tbody tr th:only-of-type {\n",
       "        vertical-align: middle;\n",
       "    }\n",
       "\n",
       "    .dataframe tbody tr th {\n",
       "        vertical-align: top;\n",
       "    }\n",
       "\n",
       "    .dataframe thead th {\n",
       "        text-align: right;\n",
       "    }\n",
       "</style>\n",
       "<table border=\"1\" class=\"dataframe\">\n",
       "  <thead>\n",
       "    <tr style=\"text-align: right;\">\n",
       "      <th></th>\n",
       "      <th>column_name</th>\n",
       "      <th>type</th>\n",
       "      <th>description</th>\n",
       "    </tr>\n",
       "  </thead>\n",
       "  <tbody>\n",
       "    <tr>\n",
       "      <th>20</th>\n",
       "      <td>title</td>\n",
       "      <td>object</td>\n",
       "      <td>The loan title provided by the borrower</td>\n",
       "    </tr>\n",
       "    <tr>\n",
       "      <th>21</th>\n",
       "      <td>zip_code</td>\n",
       "      <td>object</td>\n",
       "      <td>The first 3 numbers of the zip code provided b...</td>\n",
       "    </tr>\n",
       "    <tr>\n",
       "      <th>22</th>\n",
       "      <td>addr_state</td>\n",
       "      <td>object</td>\n",
       "      <td>The state provided by the borrower in the loan...</td>\n",
       "    </tr>\n",
       "    <tr>\n",
       "      <th>23</th>\n",
       "      <td>dti</td>\n",
       "      <td>float64</td>\n",
       "      <td>A ratio calculated using the borrower’s total ...</td>\n",
       "    </tr>\n",
       "    <tr>\n",
       "      <th>24</th>\n",
       "      <td>delinq_2yrs</td>\n",
       "      <td>float64</td>\n",
       "      <td>The number of 30+ days past-due incidences of ...</td>\n",
       "    </tr>\n",
       "    <tr>\n",
       "      <th>25</th>\n",
       "      <td>earliest_cr_line</td>\n",
       "      <td>object</td>\n",
       "      <td>The month the borrower's earliest reported cre...</td>\n",
       "    </tr>\n",
       "    <tr>\n",
       "      <th>26</th>\n",
       "      <td>fico_range_low</td>\n",
       "      <td>float64</td>\n",
       "      <td>The lower boundary range the borrower’s FICO a...</td>\n",
       "    </tr>\n",
       "    <tr>\n",
       "      <th>27</th>\n",
       "      <td>fico_range_high</td>\n",
       "      <td>float64</td>\n",
       "      <td>The upper boundary range the borrower’s FICO a...</td>\n",
       "    </tr>\n",
       "    <tr>\n",
       "      <th>28</th>\n",
       "      <td>inq_last_6mths</td>\n",
       "      <td>float64</td>\n",
       "      <td>The number of inquiries in past 6 months (excl...</td>\n",
       "    </tr>\n",
       "    <tr>\n",
       "      <th>29</th>\n",
       "      <td>mths_since_last_delinq</td>\n",
       "      <td>float64</td>\n",
       "      <td>The number of months since the borrower's last...</td>\n",
       "    </tr>\n",
       "    <tr>\n",
       "      <th>30</th>\n",
       "      <td>mths_since_last_record</td>\n",
       "      <td>float64</td>\n",
       "      <td>The number of months since the last public rec...</td>\n",
       "    </tr>\n",
       "    <tr>\n",
       "      <th>31</th>\n",
       "      <td>open_acc</td>\n",
       "      <td>float64</td>\n",
       "      <td>The number of open credit lines in the borrowe...</td>\n",
       "    </tr>\n",
       "    <tr>\n",
       "      <th>32</th>\n",
       "      <td>pub_rec</td>\n",
       "      <td>float64</td>\n",
       "      <td>Number of derogatory public records</td>\n",
       "    </tr>\n",
       "    <tr>\n",
       "      <th>33</th>\n",
       "      <td>revol_bal</td>\n",
       "      <td>float64</td>\n",
       "      <td>Total credit revolving balance</td>\n",
       "    </tr>\n",
       "    <tr>\n",
       "      <th>34</th>\n",
       "      <td>revol_util</td>\n",
       "      <td>float64</td>\n",
       "      <td>Revolving line utilization rate, or the amount...</td>\n",
       "    </tr>\n",
       "    <tr>\n",
       "      <th>35</th>\n",
       "      <td>total_acc</td>\n",
       "      <td>float64</td>\n",
       "      <td>The total number of credit lines currently in ...</td>\n",
       "    </tr>\n",
       "    <tr>\n",
       "      <th>36</th>\n",
       "      <td>initial_list_status</td>\n",
       "      <td>object</td>\n",
       "      <td>The initial listing status of the loan. Possib...</td>\n",
       "    </tr>\n",
       "    <tr>\n",
       "      <th>37</th>\n",
       "      <td>out_prncp</td>\n",
       "      <td>float64</td>\n",
       "      <td>Remaining outstanding principal for total amou...</td>\n",
       "    </tr>\n",
       "    <tr>\n",
       "      <th>38</th>\n",
       "      <td>out_prncp_inv</td>\n",
       "      <td>float64</td>\n",
       "      <td>Remaining outstanding principal for portion of...</td>\n",
       "    </tr>\n",
       "    <tr>\n",
       "      <th>39</th>\n",
       "      <td>total_pymnt</td>\n",
       "      <td>float64</td>\n",
       "      <td>Payments received to date for total amount funded</td>\n",
       "    </tr>\n",
       "    <tr>\n",
       "      <th>40</th>\n",
       "      <td>total_pymnt_inv</td>\n",
       "      <td>float64</td>\n",
       "      <td>Payments received to date for portion of total...</td>\n",
       "    </tr>\n",
       "  </tbody>\n",
       "</table>\n",
       "</div>"
      ],
      "text/plain": [
       "               column_name     type  \\\n",
       "20                   title   object   \n",
       "21                zip_code   object   \n",
       "22              addr_state   object   \n",
       "23                     dti  float64   \n",
       "24             delinq_2yrs  float64   \n",
       "25        earliest_cr_line   object   \n",
       "26          fico_range_low  float64   \n",
       "27         fico_range_high  float64   \n",
       "28          inq_last_6mths  float64   \n",
       "29  mths_since_last_delinq  float64   \n",
       "30  mths_since_last_record  float64   \n",
       "31                open_acc  float64   \n",
       "32                 pub_rec  float64   \n",
       "33               revol_bal  float64   \n",
       "34              revol_util  float64   \n",
       "35               total_acc  float64   \n",
       "36     initial_list_status   object   \n",
       "37               out_prncp  float64   \n",
       "38           out_prncp_inv  float64   \n",
       "39             total_pymnt  float64   \n",
       "40         total_pymnt_inv  float64   \n",
       "\n",
       "                                          description  \n",
       "20            The loan title provided by the borrower  \n",
       "21  The first 3 numbers of the zip code provided b...  \n",
       "22  The state provided by the borrower in the loan...  \n",
       "23  A ratio calculated using the borrower’s total ...  \n",
       "24  The number of 30+ days past-due incidences of ...  \n",
       "25  The month the borrower's earliest reported cre...  \n",
       "26  The lower boundary range the borrower’s FICO a...  \n",
       "27  The upper boundary range the borrower’s FICO a...  \n",
       "28  The number of inquiries in past 6 months (excl...  \n",
       "29  The number of months since the borrower's last...  \n",
       "30  The number of months since the last public rec...  \n",
       "31  The number of open credit lines in the borrowe...  \n",
       "32                Number of derogatory public records  \n",
       "33                     Total credit revolving balance  \n",
       "34  Revolving line utilization rate, or the amount...  \n",
       "35  The total number of credit lines currently in ...  \n",
       "36  The initial listing status of the loan. Possib...  \n",
       "37  Remaining outstanding principal for total amou...  \n",
       "38  Remaining outstanding principal for portion of...  \n",
       "39  Payments received to date for total amount funded  \n",
       "40  Payments received to date for portion of total...  "
      ]
     },
     "execution_count": 42,
     "metadata": {},
     "output_type": "execute_result"
    }
   ],
   "source": [
    "# Segundo\n",
    "\n",
    "types_description.loc[20:40]"
   ]
  },
  {
   "cell_type": "code",
   "execution_count": 43,
   "metadata": {},
   "outputs": [
    {
     "data": {
      "text/plain": [
       "array(['235xx', '937xx', '658xx', ..., '926xx', '630xx', '468xx'],\n",
       "      dtype=object)"
      ]
     },
     "execution_count": 43,
     "metadata": {},
     "output_type": "execute_result"
    }
   ],
   "source": [
    "loans.zip_code.values"
   ]
  },
  {
   "cell_type": "code",
   "execution_count": 44,
   "metadata": {},
   "outputs": [
    {
     "data": {
      "text/plain": [
       "array([ 0.,  1.,  3.,  2.,  4.,  6.,  5., 11., 13.,  9., 12.,  8.,  7.,\n",
       "       10., 21., 14., 22., 15., 19., 16., 17., 18.])"
      ]
     },
     "execution_count": 44,
     "metadata": {},
     "output_type": "execute_result"
    }
   ],
   "source": [
    "loans.delinq_2yrs.unique()"
   ]
  },
  {
   "cell_type": "code",
   "execution_count": 45,
   "metadata": {},
   "outputs": [
    {
     "data": {
      "text/plain": [
       "array([0., 2., 1., 3., 4., 5., 6.])"
      ]
     },
     "execution_count": 45,
     "metadata": {},
     "output_type": "execute_result"
    }
   ],
   "source": [
    "loans.inq_last_6mths.unique()"
   ]
  },
  {
   "cell_type": "code",
   "execution_count": 46,
   "metadata": {},
   "outputs": [
    {
     "data": {
      "text/plain": [
       "array([ nan,  42.,  60.,  17.,  55.,  12.,   1.,  48.,  46.,  26.,   9.,\n",
       "        77.,   5.,  59.,  57.,  35.,  49.,  40.,  30.,  63.,  19.,  28.,\n",
       "        41.,  33.,  25.,  11.,  18.,  31.,  27.,   6.,  36.,   8.,  14.,\n",
       "         4.,  68.,  29.,  24.,  66.,  39.,   2.,  45.,  78.,  20.,  54.,\n",
       "        56.,  16.,  74.,  70.,  38.,  13.,  10.,  15.,  64.,  62.,  37.,\n",
       "        23.,  79.,  44.,   3.,  82.,  21.,  43.,  58.,  47.,  34.,  72.,\n",
       "        65.,  22.,  50.,  51.,  71.,  69.,  61.,   7.,  32.,  76.,  81.,\n",
       "        52.,  53.,  67.,  80.,  75.,  73.,  84.,   0.,  85.,  90.,  83.,\n",
       "        99., 133.,  96.,  87.,  89.,  86., 104.,  91.,  98.,  93., 111.,\n",
       "        94., 102.,  92.,  88., 107.,  97.,  95., 135., 141., 101.])"
      ]
     },
     "execution_count": 46,
     "metadata": {},
     "output_type": "execute_result"
    }
   ],
   "source": [
    "loans.mths_since_last_delinq.unique()"
   ]
  },
  {
   "cell_type": "code",
   "execution_count": 47,
   "metadata": {},
   "outputs": [
    {
     "data": {
      "text/plain": [
       "array([ nan,  95.,  69.,  82.,  96.,  70.,  47.,  54., 111.,  46.,  63.,\n",
       "       110.,  72.,  66.,  48.,  50.,  41.,  68.,  17.,  77.,  64., 117.,\n",
       "       115.,  75.,   9.,  43.,  35., 112., 108.,  81.,  80.,  67.,  79.,\n",
       "        57.,  38.,  74.,  14.,  44.,  76.,  52.,  42.,  56., 114.,  86.,\n",
       "        97.,  32.,  73.,  55.,  62.,  85.,   6.,  53.,  88.,  34.,  21.,\n",
       "        59.,  65.,  58.,  71.,  13.,  61.,  31., 120., 101.,  36.,  92.,\n",
       "        83.,  30., 100.,  49., 118.,  93.,  60.,  87., 116.,  27.,  24.,\n",
       "        20.,  91.,  78.,  99., 113.,  39.,  51.,   5.,  45.,  90.,  26.,\n",
       "        22., 102.,  29.,   7.,  40.,  98., 119.,  16.,  37.,  28.,  18.,\n",
       "        84.,  15., 105.,  10.,  33.,  23.,  11.,  89.,   4., 103.,  94.,\n",
       "       109.,  12.,   3.,   8., 106., 107.,  25.,   0.,   1., 104.,  19.,\n",
       "         2.])"
      ]
     },
     "execution_count": 47,
     "metadata": {},
     "output_type": "execute_result"
    }
   ],
   "source": [
    "loans.mths_since_last_record.unique()"
   ]
  },
  {
   "cell_type": "code",
   "execution_count": 48,
   "metadata": {},
   "outputs": [
    {
     "data": {
      "text/plain": [
       "array([ 6., 17., 10.,  8., 11., 12.,  9.,  7., 14.,  5.,  3., 13., 19.,\n",
       "       15., 25.,  4., 24., 20., 18., 22., 27., 21., 31., 32., 28., 16.,\n",
       "       26.,  2., 29., 23., 37., 33., 30., 43., 45., 35., 34., 44., 36.,\n",
       "       38., 54., 39., 41., 53.,  1., 40., 42., 47., 76., 48., 58., 50.,\n",
       "       52., 55., 84., 75., 46., 51.])"
      ]
     },
     "execution_count": 48,
     "metadata": {},
     "output_type": "execute_result"
    }
   ],
   "source": [
    "loans.open_acc.unique()"
   ]
  },
  {
   "cell_type": "code",
   "execution_count": 49,
   "metadata": {},
   "outputs": [
    {
     "data": {
      "text/plain": [
       "array([ 17.,  36.,  35.,  13.,  20.,  44.,  32.,  14.,  23.,  10.,  19.,\n",
       "        31.,  21.,  48.,  18.,  22.,   8.,  29.,  25.,  30.,  39.,  12.,\n",
       "        77.,  24.,  49.,  15.,   9.,   6.,  58.,  11.,  27.,  26.,  50.,\n",
       "        51.,  45.,  59.,  37.,  16.,  41.,  28.,  40.,  46.,  42.,  34.,\n",
       "        57.,  78.,   7.,   4.,  61.,  43.,  52.,   5.,  33.,  38.,  53.,\n",
       "        47.,  62.,  67.,  56.,  86.,  55.,  70.,  54.,  66.,  73.,  65.,\n",
       "        68.,  60.,  64.,  63.,  93.,  92.,  69.,  82.,  76.,  71.,  96.,\n",
       "        87.,  75., 101., 150.,  84.,  74.,  95.,  79.,  81.,  88.,  72.,\n",
       "        80.,  91.,  85., 105.,  83.,  89., 156., 106.,  98.,  97., 119.,\n",
       "        90.,   3., 124., 100.,  99.,  94., 121., 102., 117.])"
      ]
     },
     "execution_count": 49,
     "metadata": {},
     "output_type": "execute_result"
    }
   ],
   "source": [
    "loans.total_acc.unique()"
   ]
  },
  {
   "attachments": {},
   "cell_type": "markdown",
   "metadata": {},
   "source": [
    "Cambios al segundo chunk \n",
    " - los ID no son float, son int. \n",
    " - ZIP code, si son los tres primeros números, no hace sentido tener dos xx al final\n",
    " - Problemas con números de meses siendo ints, pero casteados como float. En la descripción aclara que es número de meses:\n",
    "    - delinq_2yrs\n",
    "    - inq_last_6ths\n",
    "    - mths_since_last_delinq\n",
    "    - mths_since_last_record\n",
    " - Deberían ser unidades no particionables\n",
    "    - open_acc: cuentas abiertas\n",
    "    - pub_rec: número de records\n",
    "    - total_acc: número de líneas de crédito\n",
    "\n",
    " "
   ]
  },
  {
   "attachments": {},
   "cell_type": "markdown",
   "metadata": {},
   "source": [
    "#### Tercer chunk"
   ]
  },
  {
   "cell_type": "code",
   "execution_count": 50,
   "metadata": {},
   "outputs": [
    {
     "data": {
      "text/html": [
       "<div>\n",
       "<style scoped>\n",
       "    .dataframe tbody tr th:only-of-type {\n",
       "        vertical-align: middle;\n",
       "    }\n",
       "\n",
       "    .dataframe tbody tr th {\n",
       "        vertical-align: top;\n",
       "    }\n",
       "\n",
       "    .dataframe thead th {\n",
       "        text-align: right;\n",
       "    }\n",
       "</style>\n",
       "<table border=\"1\" class=\"dataframe\">\n",
       "  <thead>\n",
       "    <tr style=\"text-align: right;\">\n",
       "      <th></th>\n",
       "      <th>column_name</th>\n",
       "      <th>type</th>\n",
       "      <th>description</th>\n",
       "    </tr>\n",
       "  </thead>\n",
       "  <tbody>\n",
       "    <tr>\n",
       "      <th>40</th>\n",
       "      <td>total_pymnt_inv</td>\n",
       "      <td>float64</td>\n",
       "      <td>Payments received to date for portion of total...</td>\n",
       "    </tr>\n",
       "    <tr>\n",
       "      <th>41</th>\n",
       "      <td>total_rec_prncp</td>\n",
       "      <td>float64</td>\n",
       "      <td>Principal received to date</td>\n",
       "    </tr>\n",
       "    <tr>\n",
       "      <th>42</th>\n",
       "      <td>total_rec_int</td>\n",
       "      <td>float64</td>\n",
       "      <td>Interest received to date</td>\n",
       "    </tr>\n",
       "    <tr>\n",
       "      <th>43</th>\n",
       "      <td>total_rec_late_fee</td>\n",
       "      <td>float64</td>\n",
       "      <td>Late fees received to date</td>\n",
       "    </tr>\n",
       "    <tr>\n",
       "      <th>44</th>\n",
       "      <td>recoveries</td>\n",
       "      <td>float64</td>\n",
       "      <td>post charge off gross recovery</td>\n",
       "    </tr>\n",
       "    <tr>\n",
       "      <th>45</th>\n",
       "      <td>collection_recovery_fee</td>\n",
       "      <td>float64</td>\n",
       "      <td>post charge off collection fee</td>\n",
       "    </tr>\n",
       "    <tr>\n",
       "      <th>46</th>\n",
       "      <td>last_pymnt_d</td>\n",
       "      <td>object</td>\n",
       "      <td>Last month payment was received</td>\n",
       "    </tr>\n",
       "    <tr>\n",
       "      <th>47</th>\n",
       "      <td>last_pymnt_amnt</td>\n",
       "      <td>float64</td>\n",
       "      <td>Last total payment amount received</td>\n",
       "    </tr>\n",
       "    <tr>\n",
       "      <th>48</th>\n",
       "      <td>next_pymnt_d</td>\n",
       "      <td>object</td>\n",
       "      <td>Next scheduled payment date</td>\n",
       "    </tr>\n",
       "    <tr>\n",
       "      <th>49</th>\n",
       "      <td>last_credit_pull_d</td>\n",
       "      <td>object</td>\n",
       "      <td>The most recent month LC pulled credit for thi...</td>\n",
       "    </tr>\n",
       "    <tr>\n",
       "      <th>50</th>\n",
       "      <td>last_fico_range_high</td>\n",
       "      <td>float64</td>\n",
       "      <td>The upper boundary range the borrower’s last F...</td>\n",
       "    </tr>\n",
       "    <tr>\n",
       "      <th>51</th>\n",
       "      <td>last_fico_range_low</td>\n",
       "      <td>float64</td>\n",
       "      <td>The lower boundary range the borrower’s last F...</td>\n",
       "    </tr>\n",
       "    <tr>\n",
       "      <th>52</th>\n",
       "      <td>collections_12_mths_ex_med</td>\n",
       "      <td>float64</td>\n",
       "      <td>Number of collections in 12 months excluding m...</td>\n",
       "    </tr>\n",
       "    <tr>\n",
       "      <th>53</th>\n",
       "      <td>mths_since_last_major_derog</td>\n",
       "      <td>float64</td>\n",
       "      <td>Months since most recent 90-day or worse rating</td>\n",
       "    </tr>\n",
       "    <tr>\n",
       "      <th>54</th>\n",
       "      <td>policy_code</td>\n",
       "      <td>float64</td>\n",
       "      <td>publicly available policy_code=1\\nnew products...</td>\n",
       "    </tr>\n",
       "    <tr>\n",
       "      <th>55</th>\n",
       "      <td>application_type</td>\n",
       "      <td>object</td>\n",
       "      <td>Indicates whether the loan is an individual ap...</td>\n",
       "    </tr>\n",
       "    <tr>\n",
       "      <th>56</th>\n",
       "      <td>annual_inc_joint</td>\n",
       "      <td>float64</td>\n",
       "      <td>The combined self-reported annual income provi...</td>\n",
       "    </tr>\n",
       "    <tr>\n",
       "      <th>57</th>\n",
       "      <td>dti_joint</td>\n",
       "      <td>float64</td>\n",
       "      <td>A ratio calculated using the co-borrowers' tot...</td>\n",
       "    </tr>\n",
       "    <tr>\n",
       "      <th>58</th>\n",
       "      <td>verification_status_joint</td>\n",
       "      <td>float64</td>\n",
       "      <td>Indicates if the co-borrowers' joint income wa...</td>\n",
       "    </tr>\n",
       "    <tr>\n",
       "      <th>59</th>\n",
       "      <td>acc_now_delinq</td>\n",
       "      <td>float64</td>\n",
       "      <td>The number of accounts on which the borrower i...</td>\n",
       "    </tr>\n",
       "    <tr>\n",
       "      <th>60</th>\n",
       "      <td>tot_coll_amt</td>\n",
       "      <td>float64</td>\n",
       "      <td>Total collection amounts ever owed</td>\n",
       "    </tr>\n",
       "  </tbody>\n",
       "</table>\n",
       "</div>"
      ],
      "text/plain": [
       "                    column_name     type  \\\n",
       "40              total_pymnt_inv  float64   \n",
       "41              total_rec_prncp  float64   \n",
       "42                total_rec_int  float64   \n",
       "43           total_rec_late_fee  float64   \n",
       "44                   recoveries  float64   \n",
       "45      collection_recovery_fee  float64   \n",
       "46                 last_pymnt_d   object   \n",
       "47              last_pymnt_amnt  float64   \n",
       "48                 next_pymnt_d   object   \n",
       "49           last_credit_pull_d   object   \n",
       "50         last_fico_range_high  float64   \n",
       "51          last_fico_range_low  float64   \n",
       "52   collections_12_mths_ex_med  float64   \n",
       "53  mths_since_last_major_derog  float64   \n",
       "54                  policy_code  float64   \n",
       "55             application_type   object   \n",
       "56             annual_inc_joint  float64   \n",
       "57                    dti_joint  float64   \n",
       "58    verification_status_joint  float64   \n",
       "59               acc_now_delinq  float64   \n",
       "60                 tot_coll_amt  float64   \n",
       "\n",
       "                                          description  \n",
       "40  Payments received to date for portion of total...  \n",
       "41                         Principal received to date  \n",
       "42                          Interest received to date  \n",
       "43                         Late fees received to date  \n",
       "44                     post charge off gross recovery  \n",
       "45                     post charge off collection fee  \n",
       "46                    Last month payment was received  \n",
       "47                 Last total payment amount received  \n",
       "48                        Next scheduled payment date  \n",
       "49  The most recent month LC pulled credit for thi...  \n",
       "50  The upper boundary range the borrower’s last F...  \n",
       "51  The lower boundary range the borrower’s last F...  \n",
       "52  Number of collections in 12 months excluding m...  \n",
       "53    Months since most recent 90-day or worse rating  \n",
       "54  publicly available policy_code=1\\nnew products...  \n",
       "55  Indicates whether the loan is an individual ap...  \n",
       "56  The combined self-reported annual income provi...  \n",
       "57  A ratio calculated using the co-borrowers' tot...  \n",
       "58  Indicates if the co-borrowers' joint income wa...  \n",
       "59  The number of accounts on which the borrower i...  \n",
       "60                 Total collection amounts ever owed  "
      ]
     },
     "execution_count": 50,
     "metadata": {},
     "output_type": "execute_result"
    }
   ],
   "source": [
    "# Tercero\n",
    "\n",
    "types_description.loc[40:60]"
   ]
  },
  {
   "cell_type": "code",
   "execution_count": 51,
   "metadata": {},
   "outputs": [
    {
     "data": {
      "text/plain": [
       "array([nan, 'Jan-2018', 'Feb-2018', 'Dec-2017'], dtype=object)"
      ]
     },
     "execution_count": 51,
     "metadata": {},
     "output_type": "execute_result"
    }
   ],
   "source": [
    "loans.next_pymnt_d.unique()"
   ]
  },
  {
   "cell_type": "code",
   "execution_count": 52,
   "metadata": {},
   "outputs": [
    {
     "data": {
      "text/plain": [
       "dtype('O')"
      ]
     },
     "execution_count": 52,
     "metadata": {},
     "output_type": "execute_result"
    }
   ],
   "source": [
    "loans.next_pymnt_d.dtype"
   ]
  },
  {
   "cell_type": "code",
   "execution_count": 53,
   "metadata": {},
   "outputs": [
    {
     "data": {
      "text/plain": [
       "array([ 0.,  1.,  2.,  3.,  4.,  6., 16., 20.])"
      ]
     },
     "execution_count": 53,
     "metadata": {},
     "output_type": "execute_result"
    }
   ],
   "source": [
    "loans.collections_12_mths_ex_med.unique()"
   ]
  },
  {
   "cell_type": "code",
   "execution_count": 54,
   "metadata": {},
   "outputs": [
    {
     "data": {
      "text/plain": [
       "array([1.])"
      ]
     },
     "execution_count": 54,
     "metadata": {},
     "output_type": "execute_result"
    }
   ],
   "source": [
    "loans.policy_code.unique()"
   ]
  },
  {
   "attachments": {},
   "cell_type": "markdown",
   "metadata": {},
   "source": [
    "Columna bastante inservible para ser tantas observaciones siempre el mismo valor (aclarado en la descripción)."
   ]
  },
  {
   "attachments": {},
   "cell_type": "markdown",
   "metadata": {},
   "source": [
    "No es propiamente una fecha, no puedo transformarla. Es mejor dejarla en string."
   ]
  },
  {
   "attachments": {},
   "cell_type": "markdown",
   "metadata": {},
   "source": [
    "Cambios al tercer chunk \n",
    " - los ID no son float, son int. \n",
    " - ZIP code, si son los tres primeros números, no hace sentido tener dos xx al final\n",
    " - Problemas con números de meses siendo ints, pero casteados como float. En la descripción aclara que es número de meses:\n",
    "    - delinq_2yrs\n",
    "    - inq_last_6ths\n",
    "    - mths_since_last_delinq\n",
    "    - mths_since_last_record\n",
    " - Deberían ser unidades no particionables\n",
    "    - open_acc: cuentas abiertas\n",
    "    - pub_rec: número de records\n",
    "    - total_acc: número de líneas de crédito\n",
    "    - Cambios al segundo chunk \n",
    " - los ID no son float, son int. \n",
    " - ZIP code, si son los tres primeros números, no hace sentido tener dos xx al final\n",
    " - Problemas con números de meses siendo ints, pero casteados como float. En la descripción aclara que es número de meses:\n",
    "    - delinq_2yrs\n",
    "    - inq_last_6ths\n",
    "    - mths_since_last_delinq\n",
    "    - mths_since_last_record\n",
    "    - mths_since_last_major_derog\n",
    " - Deberían ser unidades no particionables. Además, solo tienen ints (y NaNs en sus columnas)\n",
    "    - open_acc: cuentas abiertas\n",
    "    - pub_rec: número de records\n",
    "    - total_acc: número de líneas de crédito\n",
    "    - collections_12_mths_ex_med: número de colecciones\n",
    " - Para los booleanos, mejor dejarlo en la opción doble de strings; podría confundir si no."
   ]
  },
  {
   "attachments": {},
   "cell_type": "markdown",
   "metadata": {},
   "source": [
    "#### Cuarto chunk"
   ]
  },
  {
   "cell_type": "code",
   "execution_count": 55,
   "metadata": {},
   "outputs": [
    {
     "data": {
      "text/html": [
       "<div>\n",
       "<style scoped>\n",
       "    .dataframe tbody tr th:only-of-type {\n",
       "        vertical-align: middle;\n",
       "    }\n",
       "\n",
       "    .dataframe tbody tr th {\n",
       "        vertical-align: top;\n",
       "    }\n",
       "\n",
       "    .dataframe thead th {\n",
       "        text-align: right;\n",
       "    }\n",
       "</style>\n",
       "<table border=\"1\" class=\"dataframe\">\n",
       "  <thead>\n",
       "    <tr style=\"text-align: right;\">\n",
       "      <th></th>\n",
       "      <th>column_name</th>\n",
       "      <th>type</th>\n",
       "      <th>description</th>\n",
       "    </tr>\n",
       "  </thead>\n",
       "  <tbody>\n",
       "    <tr>\n",
       "      <th>60</th>\n",
       "      <td>tot_coll_amt</td>\n",
       "      <td>float64</td>\n",
       "      <td>Total collection amounts ever owed</td>\n",
       "    </tr>\n",
       "    <tr>\n",
       "      <th>61</th>\n",
       "      <td>tot_cur_bal</td>\n",
       "      <td>float64</td>\n",
       "      <td>Total current balance of all accounts</td>\n",
       "    </tr>\n",
       "    <tr>\n",
       "      <th>62</th>\n",
       "      <td>open_acc_6m</td>\n",
       "      <td>float64</td>\n",
       "      <td>Number of open trades in last 6 months</td>\n",
       "    </tr>\n",
       "    <tr>\n",
       "      <th>63</th>\n",
       "      <td>open_act_il</td>\n",
       "      <td>float64</td>\n",
       "      <td>Number of currently active installment trades</td>\n",
       "    </tr>\n",
       "    <tr>\n",
       "      <th>64</th>\n",
       "      <td>open_il_12m</td>\n",
       "      <td>float64</td>\n",
       "      <td>Number of installment accounts opened in past ...</td>\n",
       "    </tr>\n",
       "    <tr>\n",
       "      <th>65</th>\n",
       "      <td>open_il_24m</td>\n",
       "      <td>float64</td>\n",
       "      <td>Number of installment accounts opened in past ...</td>\n",
       "    </tr>\n",
       "    <tr>\n",
       "      <th>66</th>\n",
       "      <td>mths_since_rcnt_il</td>\n",
       "      <td>float64</td>\n",
       "      <td>Months since most recent installment accounts ...</td>\n",
       "    </tr>\n",
       "    <tr>\n",
       "      <th>67</th>\n",
       "      <td>total_bal_il</td>\n",
       "      <td>float64</td>\n",
       "      <td>Total current balance of all installment accounts</td>\n",
       "    </tr>\n",
       "    <tr>\n",
       "      <th>68</th>\n",
       "      <td>il_util</td>\n",
       "      <td>float64</td>\n",
       "      <td>Ratio of total current balance to high credit/...</td>\n",
       "    </tr>\n",
       "    <tr>\n",
       "      <th>69</th>\n",
       "      <td>open_rv_12m</td>\n",
       "      <td>float64</td>\n",
       "      <td>Number of revolving trades opened in past 12 m...</td>\n",
       "    </tr>\n",
       "    <tr>\n",
       "      <th>70</th>\n",
       "      <td>open_rv_24m</td>\n",
       "      <td>float64</td>\n",
       "      <td>Number of revolving trades opened in past 24 m...</td>\n",
       "    </tr>\n",
       "    <tr>\n",
       "      <th>71</th>\n",
       "      <td>max_bal_bc</td>\n",
       "      <td>float64</td>\n",
       "      <td>Maximum current balance owed on all revolving ...</td>\n",
       "    </tr>\n",
       "    <tr>\n",
       "      <th>72</th>\n",
       "      <td>all_util</td>\n",
       "      <td>float64</td>\n",
       "      <td>Balance to credit limit on all trades</td>\n",
       "    </tr>\n",
       "    <tr>\n",
       "      <th>73</th>\n",
       "      <td>total_rev_hi_lim</td>\n",
       "      <td>float64</td>\n",
       "      <td>Total revolving high credit/credit limit</td>\n",
       "    </tr>\n",
       "    <tr>\n",
       "      <th>74</th>\n",
       "      <td>inq_fi</td>\n",
       "      <td>float64</td>\n",
       "      <td>Number of personal finance inquiries</td>\n",
       "    </tr>\n",
       "    <tr>\n",
       "      <th>75</th>\n",
       "      <td>total_cu_tl</td>\n",
       "      <td>float64</td>\n",
       "      <td>Number of finance trades</td>\n",
       "    </tr>\n",
       "    <tr>\n",
       "      <th>76</th>\n",
       "      <td>inq_last_12m</td>\n",
       "      <td>float64</td>\n",
       "      <td>Number of credit inquiries in past 12 months</td>\n",
       "    </tr>\n",
       "    <tr>\n",
       "      <th>77</th>\n",
       "      <td>acc_open_past_24mths</td>\n",
       "      <td>float64</td>\n",
       "      <td>Number of trades opened in past 24 months.</td>\n",
       "    </tr>\n",
       "    <tr>\n",
       "      <th>78</th>\n",
       "      <td>avg_cur_bal</td>\n",
       "      <td>float64</td>\n",
       "      <td>Average current balance of all accounts</td>\n",
       "    </tr>\n",
       "    <tr>\n",
       "      <th>79</th>\n",
       "      <td>bc_open_to_buy</td>\n",
       "      <td>float64</td>\n",
       "      <td>Total open to buy on revolving bankcards.</td>\n",
       "    </tr>\n",
       "    <tr>\n",
       "      <th>80</th>\n",
       "      <td>bc_util</td>\n",
       "      <td>float64</td>\n",
       "      <td>Ratio of total current balance to high credit/...</td>\n",
       "    </tr>\n",
       "  </tbody>\n",
       "</table>\n",
       "</div>"
      ],
      "text/plain": [
       "             column_name     type  \\\n",
       "60          tot_coll_amt  float64   \n",
       "61           tot_cur_bal  float64   \n",
       "62           open_acc_6m  float64   \n",
       "63           open_act_il  float64   \n",
       "64           open_il_12m  float64   \n",
       "65           open_il_24m  float64   \n",
       "66    mths_since_rcnt_il  float64   \n",
       "67          total_bal_il  float64   \n",
       "68               il_util  float64   \n",
       "69           open_rv_12m  float64   \n",
       "70           open_rv_24m  float64   \n",
       "71            max_bal_bc  float64   \n",
       "72              all_util  float64   \n",
       "73      total_rev_hi_lim  float64   \n",
       "74                inq_fi  float64   \n",
       "75           total_cu_tl  float64   \n",
       "76          inq_last_12m  float64   \n",
       "77  acc_open_past_24mths  float64   \n",
       "78           avg_cur_bal  float64   \n",
       "79        bc_open_to_buy  float64   \n",
       "80               bc_util  float64   \n",
       "\n",
       "                                          description  \n",
       "60                 Total collection amounts ever owed  \n",
       "61              Total current balance of all accounts  \n",
       "62             Number of open trades in last 6 months  \n",
       "63      Number of currently active installment trades  \n",
       "64  Number of installment accounts opened in past ...  \n",
       "65  Number of installment accounts opened in past ...  \n",
       "66  Months since most recent installment accounts ...  \n",
       "67  Total current balance of all installment accounts  \n",
       "68  Ratio of total current balance to high credit/...  \n",
       "69  Number of revolving trades opened in past 12 m...  \n",
       "70  Number of revolving trades opened in past 24 m...  \n",
       "71  Maximum current balance owed on all revolving ...  \n",
       "72              Balance to credit limit on all trades  \n",
       "73           Total revolving high credit/credit limit  \n",
       "74               Number of personal finance inquiries  \n",
       "75                           Number of finance trades  \n",
       "76       Number of credit inquiries in past 12 months  \n",
       "77         Number of trades opened in past 24 months.  \n",
       "78            Average current balance of all accounts  \n",
       "79          Total open to buy on revolving bankcards.  \n",
       "80  Ratio of total current balance to high credit/...  "
      ]
     },
     "execution_count": 55,
     "metadata": {},
     "output_type": "execute_result"
    }
   ],
   "source": [
    "# Cuarto\n",
    "\n",
    "types_description.loc[60:80]"
   ]
  },
  {
   "cell_type": "code",
   "execution_count": 56,
   "metadata": {},
   "outputs": [
    {
     "data": {
      "text/plain": [
       "array([nan])"
      ]
     },
     "execution_count": 56,
     "metadata": {},
     "output_type": "execute_result"
    }
   ],
   "source": [
    "loans.open_acc_6m.unique()"
   ]
  },
  {
   "cell_type": "code",
   "execution_count": 57,
   "metadata": {},
   "outputs": [
    {
     "data": {
      "text/plain": [
       "array([nan])"
      ]
     },
     "execution_count": 57,
     "metadata": {},
     "output_type": "execute_result"
    }
   ],
   "source": [
    "loans.open_act_il.unique()"
   ]
  },
  {
   "cell_type": "code",
   "execution_count": 58,
   "metadata": {},
   "outputs": [
    {
     "data": {
      "text/plain": [
       "array([nan])"
      ]
     },
     "execution_count": 58,
     "metadata": {},
     "output_type": "execute_result"
    }
   ],
   "source": [
    "loans.open_il_12m.unique()"
   ]
  },
  {
   "cell_type": "code",
   "execution_count": 59,
   "metadata": {},
   "outputs": [
    {
     "data": {
      "text/plain": [
       "array([nan])"
      ]
     },
     "execution_count": 59,
     "metadata": {},
     "output_type": "execute_result"
    }
   ],
   "source": [
    "loans.open_il_24m.unique()"
   ]
  },
  {
   "cell_type": "code",
   "execution_count": 60,
   "metadata": {},
   "outputs": [
    {
     "data": {
      "text/plain": [
       "array([nan])"
      ]
     },
     "execution_count": 60,
     "metadata": {},
     "output_type": "execute_result"
    }
   ],
   "source": [
    "loans.mths_since_rcnt_il.unique()"
   ]
  },
  {
   "cell_type": "code",
   "execution_count": 61,
   "metadata": {},
   "outputs": [
    {
     "data": {
      "text/plain": [
       "array([nan])"
      ]
     },
     "execution_count": 61,
     "metadata": {},
     "output_type": "execute_result"
    }
   ],
   "source": [
    "loans.mths_since_rcnt_il.unique()"
   ]
  },
  {
   "cell_type": "code",
   "execution_count": 62,
   "metadata": {},
   "outputs": [
    {
     "data": {
      "text/plain": [
       "array([nan])"
      ]
     },
     "execution_count": 62,
     "metadata": {},
     "output_type": "execute_result"
    }
   ],
   "source": [
    "loans.open_rv_12m.unique()"
   ]
  },
  {
   "cell_type": "code",
   "execution_count": 63,
   "metadata": {},
   "outputs": [
    {
     "data": {
      "text/plain": [
       "array([nan])"
      ]
     },
     "execution_count": 63,
     "metadata": {},
     "output_type": "execute_result"
    }
   ],
   "source": [
    "loans.open_rv_24m.unique()"
   ]
  },
  {
   "cell_type": "code",
   "execution_count": 64,
   "metadata": {},
   "outputs": [
    {
     "data": {
      "text/plain": [
       "array([nan])"
      ]
     },
     "execution_count": 64,
     "metadata": {},
     "output_type": "execute_result"
    }
   ],
   "source": [
    "loans.inq_fi.unique()"
   ]
  },
  {
   "cell_type": "code",
   "execution_count": 65,
   "metadata": {},
   "outputs": [
    {
     "data": {
      "text/plain": [
       "array([nan])"
      ]
     },
     "execution_count": 65,
     "metadata": {},
     "output_type": "execute_result"
    }
   ],
   "source": [
    "loans.total_cu_tl.unique()"
   ]
  },
  {
   "cell_type": "code",
   "execution_count": 66,
   "metadata": {},
   "outputs": [
    {
     "data": {
      "text/plain": [
       "array([nan])"
      ]
     },
     "execution_count": 66,
     "metadata": {},
     "output_type": "execute_result"
    }
   ],
   "source": [
    "loans.inq_last_12m.unique()"
   ]
  },
  {
   "cell_type": "code",
   "execution_count": 67,
   "metadata": {},
   "outputs": [
    {
     "data": {
      "text/plain": [
       "array([ 5.,  7.,  4.,  2.,  6.,  8.,  3.,  0., 10., 12.,  1.,  9., 11.,\n",
       "       14., 16., 13., 15., 24., 19., 17., 25., 18., 20., 21., 27., 29.,\n",
       "       26., 23., 22., 39., 31., 42., 53., 28., 30., 50.])"
      ]
     },
     "execution_count": 67,
     "metadata": {},
     "output_type": "execute_result"
    }
   ],
   "source": [
    "loans.acc_open_past_24mths.unique()"
   ]
  },
  {
   "cell_type": "code",
   "execution_count": 68,
   "metadata": {},
   "outputs": [
    {
     "name": "stdout",
     "output_type": "stream",
     "text": [
      "[ 9525.  7599.   324. ... 28091. 13974. 17153.]\n"
     ]
    }
   ],
   "source": [
    "print(loans.bc_open_to_buy.unique())"
   ]
  },
  {
   "attachments": {},
   "cell_type": "markdown",
   "metadata": {},
   "source": [
    "Cambios al cuarto chunk\n",
    " - los ID no son float, son int. \n",
    " - ZIP code, si son los tres primeros números, no hace sentido tener dos xx al final\n",
    " - Problemas con números de meses siendo ints, pero casteados como float. En la descripción aclara que es número de meses:\n",
    "    - delinq_2yrs\n",
    "    - inq_last_6ths\n",
    "    - mths_since_last_delinq\n",
    "    - mths_since_last_record\n",
    " - Deberían ser unidades no particionables\n",
    "    - open_acc: cuentas abiertas\n",
    "    - pub_rec: número de records\n",
    "    - total_acc: número de líneas de crédito\n",
    "    - Cambios al segundo chunk \n",
    " - los ID no son float, son int. \n",
    " - ZIP code, si son los tres primeros números, no hace sentido tener dos xx al final\n",
    " - Problemas con números de meses siendo ints, pero casteados como float. En la descripción aclara que es número de meses:\n",
    "    - mths_since_last_delinq\n",
    "    - mths_since_last_record\n",
    "    - mths_since_last_major_derog\n",
    " - Deberían ser unidades no particionables. Además, solo tienen ints (y NaNs en sus columnas)\n",
    "    - open_acc: cuentas abiertas\n",
    "    - pub_rec: número de records\n",
    "    - total_acc: número de líneas de crédito\n",
    "    - collections_12_mths_ex_med: número de colecciones\n",
    "    - bc_open_to_buy: número de tarjetas\n",
    " - Para los booleanos, mejor dejarlo en la opción doble de strings; podría confundir si no.\n",
    " - Cambiar a int, aunque sean columnas llenas de Nan, deberían ser puros 0's, al ser el valor propio para expresar que no han habido casos. Es por eso que on vale borrar la columna. \n",
    "    - delinq_2yrs\n",
    "    - inq_last_6ths\n",
    "    - open_acc_6m\n",
    "    - open_act_il\n",
    "    - open_il_12m\n",
    "    - open_il_24m\n",
    "    - mths_since_rcnt_il\n",
    "    - open_rv_12m\n",
    "    - inq_last_12m\n",
    "    - open_rv_24m\n",
    "    - acc_open_past_24mths\n",
    " - Columnas llenas de NaNs que no hace sentido que no tengan valores. \n",
    "    - total_cu_tl: no hace sentido que no haya para ningún ID finance trades sin delimitación de periodos.\n",
    "    - inq_fi: nunca nadie de las observaciones tuvo ninguna queja. Suena, para todas las observaciones, sin tener límite de periodo, un caso muy particular (o inexistente). "
   ]
  },
  {
   "cell_type": "markdown",
   "metadata": {},
   "source": [
    "#### Quinto chunk"
   ]
  },
  {
   "cell_type": "code",
   "execution_count": 69,
   "metadata": {},
   "outputs": [
    {
     "data": {
      "text/html": [
       "<div>\n",
       "<style scoped>\n",
       "    .dataframe tbody tr th:only-of-type {\n",
       "        vertical-align: middle;\n",
       "    }\n",
       "\n",
       "    .dataframe tbody tr th {\n",
       "        vertical-align: top;\n",
       "    }\n",
       "\n",
       "    .dataframe thead th {\n",
       "        text-align: right;\n",
       "    }\n",
       "</style>\n",
       "<table border=\"1\" class=\"dataframe\">\n",
       "  <thead>\n",
       "    <tr style=\"text-align: right;\">\n",
       "      <th></th>\n",
       "      <th>column_name</th>\n",
       "      <th>type</th>\n",
       "      <th>description</th>\n",
       "    </tr>\n",
       "  </thead>\n",
       "  <tbody>\n",
       "    <tr>\n",
       "      <th>80</th>\n",
       "      <td>bc_util</td>\n",
       "      <td>float64</td>\n",
       "      <td>Ratio of total current balance to high credit/...</td>\n",
       "    </tr>\n",
       "    <tr>\n",
       "      <th>81</th>\n",
       "      <td>chargeoff_within_12_mths</td>\n",
       "      <td>float64</td>\n",
       "      <td>Number of charge-offs within 12 months</td>\n",
       "    </tr>\n",
       "    <tr>\n",
       "      <th>82</th>\n",
       "      <td>delinq_amnt</td>\n",
       "      <td>float64</td>\n",
       "      <td>The past-due amount owed for the accounts on w...</td>\n",
       "    </tr>\n",
       "    <tr>\n",
       "      <th>83</th>\n",
       "      <td>mo_sin_old_il_acct</td>\n",
       "      <td>float64</td>\n",
       "      <td>Months since oldest bank installment account o...</td>\n",
       "    </tr>\n",
       "    <tr>\n",
       "      <th>84</th>\n",
       "      <td>mo_sin_old_rev_tl_op</td>\n",
       "      <td>float64</td>\n",
       "      <td>Months since oldest revolving account opened</td>\n",
       "    </tr>\n",
       "    <tr>\n",
       "      <th>85</th>\n",
       "      <td>mo_sin_rcnt_rev_tl_op</td>\n",
       "      <td>float64</td>\n",
       "      <td>Months since most recent revolving account opened</td>\n",
       "    </tr>\n",
       "    <tr>\n",
       "      <th>86</th>\n",
       "      <td>mo_sin_rcnt_tl</td>\n",
       "      <td>float64</td>\n",
       "      <td>Months since most recent account opened</td>\n",
       "    </tr>\n",
       "    <tr>\n",
       "      <th>87</th>\n",
       "      <td>mort_acc</td>\n",
       "      <td>float64</td>\n",
       "      <td>Number of mortgage accounts.</td>\n",
       "    </tr>\n",
       "    <tr>\n",
       "      <th>88</th>\n",
       "      <td>mths_since_recent_bc</td>\n",
       "      <td>float64</td>\n",
       "      <td>Months since most recent bankcard account opened.</td>\n",
       "    </tr>\n",
       "    <tr>\n",
       "      <th>89</th>\n",
       "      <td>mths_since_recent_bc_dlq</td>\n",
       "      <td>float64</td>\n",
       "      <td>Months since most recent bankcard delinquency</td>\n",
       "    </tr>\n",
       "    <tr>\n",
       "      <th>90</th>\n",
       "      <td>mths_since_recent_inq</td>\n",
       "      <td>float64</td>\n",
       "      <td>Months since most recent inquiry.</td>\n",
       "    </tr>\n",
       "    <tr>\n",
       "      <th>91</th>\n",
       "      <td>mths_since_recent_revol_delinq</td>\n",
       "      <td>float64</td>\n",
       "      <td>Months since most recent revolving delinquency.</td>\n",
       "    </tr>\n",
       "    <tr>\n",
       "      <th>92</th>\n",
       "      <td>num_accts_ever_120_pd</td>\n",
       "      <td>float64</td>\n",
       "      <td>Number of accounts ever 120 or more days past due</td>\n",
       "    </tr>\n",
       "    <tr>\n",
       "      <th>93</th>\n",
       "      <td>num_actv_bc_tl</td>\n",
       "      <td>float64</td>\n",
       "      <td>Number of currently active bankcard accounts</td>\n",
       "    </tr>\n",
       "    <tr>\n",
       "      <th>94</th>\n",
       "      <td>num_actv_rev_tl</td>\n",
       "      <td>float64</td>\n",
       "      <td>Number of currently active revolving trades</td>\n",
       "    </tr>\n",
       "    <tr>\n",
       "      <th>95</th>\n",
       "      <td>num_bc_sats</td>\n",
       "      <td>float64</td>\n",
       "      <td>Number of satisfactory bankcard accounts</td>\n",
       "    </tr>\n",
       "    <tr>\n",
       "      <th>96</th>\n",
       "      <td>num_bc_tl</td>\n",
       "      <td>float64</td>\n",
       "      <td>Number of bankcard accounts</td>\n",
       "    </tr>\n",
       "    <tr>\n",
       "      <th>97</th>\n",
       "      <td>num_il_tl</td>\n",
       "      <td>float64</td>\n",
       "      <td>Number of installment accounts</td>\n",
       "    </tr>\n",
       "    <tr>\n",
       "      <th>98</th>\n",
       "      <td>num_op_rev_tl</td>\n",
       "      <td>float64</td>\n",
       "      <td>Number of open revolving accounts</td>\n",
       "    </tr>\n",
       "    <tr>\n",
       "      <th>99</th>\n",
       "      <td>num_rev_accts</td>\n",
       "      <td>float64</td>\n",
       "      <td>Number of revolving accounts</td>\n",
       "    </tr>\n",
       "    <tr>\n",
       "      <th>100</th>\n",
       "      <td>num_rev_tl_bal_gt_0</td>\n",
       "      <td>float64</td>\n",
       "      <td>Number of revolving trades with balance &gt;0</td>\n",
       "    </tr>\n",
       "  </tbody>\n",
       "</table>\n",
       "</div>"
      ],
      "text/plain": [
       "                        column_name     type  \\\n",
       "80                          bc_util  float64   \n",
       "81         chargeoff_within_12_mths  float64   \n",
       "82                      delinq_amnt  float64   \n",
       "83               mo_sin_old_il_acct  float64   \n",
       "84             mo_sin_old_rev_tl_op  float64   \n",
       "85            mo_sin_rcnt_rev_tl_op  float64   \n",
       "86                   mo_sin_rcnt_tl  float64   \n",
       "87                         mort_acc  float64   \n",
       "88             mths_since_recent_bc  float64   \n",
       "89         mths_since_recent_bc_dlq  float64   \n",
       "90            mths_since_recent_inq  float64   \n",
       "91   mths_since_recent_revol_delinq  float64   \n",
       "92            num_accts_ever_120_pd  float64   \n",
       "93                   num_actv_bc_tl  float64   \n",
       "94                  num_actv_rev_tl  float64   \n",
       "95                      num_bc_sats  float64   \n",
       "96                        num_bc_tl  float64   \n",
       "97                        num_il_tl  float64   \n",
       "98                    num_op_rev_tl  float64   \n",
       "99                    num_rev_accts  float64   \n",
       "100             num_rev_tl_bal_gt_0  float64   \n",
       "\n",
       "                                           description  \n",
       "80   Ratio of total current balance to high credit/...  \n",
       "81              Number of charge-offs within 12 months  \n",
       "82   The past-due amount owed for the accounts on w...  \n",
       "83   Months since oldest bank installment account o...  \n",
       "84        Months since oldest revolving account opened  \n",
       "85   Months since most recent revolving account opened  \n",
       "86             Months since most recent account opened  \n",
       "87                        Number of mortgage accounts.  \n",
       "88   Months since most recent bankcard account opened.  \n",
       "89       Months since most recent bankcard delinquency  \n",
       "90                   Months since most recent inquiry.  \n",
       "91     Months since most recent revolving delinquency.  \n",
       "92   Number of accounts ever 120 or more days past due  \n",
       "93        Number of currently active bankcard accounts  \n",
       "94         Number of currently active revolving trades  \n",
       "95            Number of satisfactory bankcard accounts  \n",
       "96                         Number of bankcard accounts  \n",
       "97                      Number of installment accounts  \n",
       "98                   Number of open revolving accounts  \n",
       "99                        Number of revolving accounts  \n",
       "100         Number of revolving trades with balance >0  "
      ]
     },
     "execution_count": 69,
     "metadata": {},
     "output_type": "execute_result"
    }
   ],
   "source": [
    "# Quinto\n",
    "\n",
    "types_description.loc[80:100]"
   ]
  },
  {
   "cell_type": "code",
   "execution_count": 70,
   "metadata": {},
   "outputs": [
    {
     "data": {
      "text/plain": [
       "array([0., 1., 2., 3., 4.])"
      ]
     },
     "execution_count": 70,
     "metadata": {},
     "output_type": "execute_result"
    }
   ],
   "source": [
    "loans.chargeoff_within_12_mths.unique()"
   ]
  },
  {
   "cell_type": "code",
   "execution_count": 71,
   "metadata": {},
   "outputs": [
    {
     "data": {
      "text/plain": [
       "array([ 0.,  1.,  5.,  2.,  6.,  3.,  4.,  8., 10.,  9.,  7., 20., 14.,\n",
       "       11., 13., 12., 18., 26., 15., 16., 21., 22., 36., 17., 23., 19.,\n",
       "       34., 25.])"
      ]
     },
     "execution_count": 71,
     "metadata": {},
     "output_type": "execute_result"
    }
   ],
   "source": [
    "loans.mort_acc.unique()"
   ]
  },
  {
   "cell_type": "code",
   "execution_count": 72,
   "metadata": {},
   "outputs": [
    {
     "data": {
      "text/plain": [
       "0        47.0\n",
       "1         5.0\n",
       "2         7.0\n",
       "3        21.0\n",
       "4        17.0\n",
       "         ... \n",
       "99995     5.0\n",
       "99996     5.0\n",
       "99997    12.0\n",
       "99998     7.0\n",
       "99999     8.0\n",
       "Name: mths_since_recent_bc, Length: 100000, dtype: float64"
      ]
     },
     "execution_count": 72,
     "metadata": {},
     "output_type": "execute_result"
    }
   ],
   "source": [
    "loans.mths_since_recent_bc"
   ]
  },
  {
   "cell_type": "code",
   "execution_count": 73,
   "metadata": {},
   "outputs": [
    {
     "data": {
      "text/plain": [
       "array([ nan,  42.,  60.,  17.,  33.,  46.,  26.,  12.,  77.,   9.,  57.,\n",
       "        49.,   1.,  69.,  63.,  35.,  28.,  38.,  29.,  65.,   6.,  47.,\n",
       "        36.,  15.,  43.,   7.,  68.,  24.,  39.,  66.,  56.,  31.,  54.,\n",
       "        45.,  34.,  20.,   8.,  79.,  70.,  13.,  40.,  48.,  37.,  53.,\n",
       "         3.,  27.,  64.,  21.,  51.,  73.,  44.,  25.,  10.,  22.,  30.,\n",
       "        55.,  72.,  67.,  75.,  58.,  71.,  23.,  62.,   2.,  41.,  14.,\n",
       "        50.,  78.,  74.,  32.,  59.,   4.,  81.,  16.,  19.,  83.,  52.,\n",
       "        76.,  80., 108.,  18.,   5.,  84.,  61.,  82.,  11.,   0.,  85.,\n",
       "        90.,  89.,  99., 145., 113.,  96.,  98.,  86., 115.,  87.,  91.,\n",
       "       104., 114., 103., 124.,  92.,  88.,  93., 122., 105., 111., 110.,\n",
       "        94., 106., 112., 107.,  97.,  95., 135., 101., 154.])"
      ]
     },
     "execution_count": 73,
     "metadata": {},
     "output_type": "execute_result"
    }
   ],
   "source": [
    "loans.mths_since_recent_bc_dlq.unique()"
   ]
  },
  {
   "cell_type": "code",
   "execution_count": 74,
   "metadata": {},
   "outputs": [
    {
     "data": {
      "text/plain": [
       "array([103.,  76., 135.,  16., 137., 183., 158., 121., 132.,  33., 191.,\n",
       "        93., 160., 129.,  27., 234., 136.,  55.,  89.,  79., 131., 108.,\n",
       "        nan,  39.,  92., 141., 181.,  44., 170., 122., 125.,  96., 219.,\n",
       "        88., 164., 228., 171.,  36.,   4., 118.,  86.,  81., 128., 154.,\n",
       "       120., 142., 133., 147.,  50.,   7.,  51., 152., 115., 161., 167.,\n",
       "       139., 116., 123., 124., 166., 312., 224., 178., 100., 176., 150.,\n",
       "        26.,  73., 127., 148.,  94., 159., 301.,  58., 151., 162., 278.,\n",
       "       153., 105., 256., 140.,  99., 180., 104.,  53., 149.,  43.,  87.,\n",
       "       130., 156.,  66., 194., 138., 174.,  68., 169.,  57., 172.,  98.,\n",
       "        91., 102.,  24.,  21., 207.,   6., 101.,  19., 244.,  84., 126.,\n",
       "       165., 268.,  74., 119.,  28., 145., 216., 106., 238., 179., 253.,\n",
       "        60.,  82.,  46.,  65.,   1., 286., 143., 157., 241., 168., 146.,\n",
       "       134., 265., 117.,  77., 175., 144., 205., 300.,  64.,  23.,  78.,\n",
       "       111., 112.,  95., 110., 188.,  47.,  32., 279., 215.,  42., 218.,\n",
       "       259.,  63., 163.,  15.,  52.,  97.,  85.,  34.,  80., 252.,  62.,\n",
       "        38., 257., 408.,  72., 214.,   8., 177.,   9.,  40., 193., 109.,\n",
       "       113., 184.,  90., 189., 255., 277., 231., 261.,  18., 213., 195.,\n",
       "       232.,  56.,  29.,  41., 206., 173., 114., 107., 192., 212., 226.,\n",
       "        75.,  70.,  20.,  12., 155., 254.,  25.,  67., 197.,  45.,  48.,\n",
       "       186., 182.,  31., 263., 196., 223., 185., 208.,  35.,  49.,  59.,\n",
       "       326., 230.,  30.,  17., 203.,  54., 250., 338.,   5.,  14., 227.,\n",
       "        83., 211.,  61.,   3., 200.,  71., 483., 247., 198.,   2., 275.,\n",
       "       299.,  13., 249., 292.,  37., 217.,  11., 201., 280., 242., 202.,\n",
       "       220., 251., 285., 239., 235., 229., 190., 222., 310., 375., 384.,\n",
       "        69., 409., 274., 221., 290., 304., 347., 327., 309., 320.,  22.,\n",
       "       209., 335., 187., 243., 236., 233., 237., 240., 204., 317., 281.,\n",
       "       307., 199., 246., 258., 266., 225., 305., 315., 333., 283., 262.,\n",
       "        10., 272., 294., 387., 245., 293., 248., 264., 291., 270., 336.,\n",
       "       298., 323., 316., 267., 322., 210., 363., 282., 356., 288., 346.,\n",
       "       276., 273., 314., 399., 319., 321., 313., 486., 260., 287., 271.,\n",
       "       325., 404., 358., 349., 351., 446., 339., 308., 332., 386., 378.,\n",
       "       303., 324., 334., 302., 284., 371., 391., 362., 331., 295., 422.,\n",
       "       269., 402., 381., 289., 383., 348., 357., 411., 385., 372., 376.,\n",
       "       423., 370., 311., 329., 341., 377., 318., 392., 296., 401., 374.,\n",
       "       432., 330., 306., 337., 410., 398., 350., 345., 328., 343., 418.,\n",
       "       342., 466., 458., 354., 297., 490., 368., 420., 417., 359., 403.,\n",
       "       373., 382., 369., 394., 352., 367., 355., 360., 424., 433., 365.,\n",
       "       421., 344., 415., 405., 436., 361., 449., 364., 380., 366., 406.,\n",
       "       428., 561., 340., 353.,   0., 395., 429., 379., 414., 482.])"
      ]
     },
     "execution_count": 74,
     "metadata": {},
     "output_type": "execute_result"
    }
   ],
   "source": [
    "loans.mo_sin_old_il_acct.unique()"
   ]
  },
  {
   "cell_type": "code",
   "execution_count": 75,
   "metadata": {},
   "outputs": [
    {
     "data": {
      "text/plain": [
       "array([nan,  1.,  7.,  3., 17.,  2., 16., 10., 14.,  6.,  5., 18.,  4.,\n",
       "       13.,  0., 15., 22., 12.,  9., 19.,  8., 11., 23., 20., 21., 24.,\n",
       "       25.])"
      ]
     },
     "execution_count": 75,
     "metadata": {},
     "output_type": "execute_result"
    }
   ],
   "source": [
    "loans.mths_since_recent_inq.unique()"
   ]
  },
  {
   "cell_type": "code",
   "execution_count": 76,
   "metadata": {},
   "outputs": [
    {
     "data": {
      "text/plain": [
       "array([ 0.,  4.,  1.,  2.,  3.,  6.,  8.,  5.,  9.,  7., 10., 11., 13.,\n",
       "       19., 18., 12., 14., 23., 15., 21., 22., 17., 16., 33., 20.])"
      ]
     },
     "execution_count": 76,
     "metadata": {},
     "output_type": "execute_result"
    }
   ],
   "source": [
    "loans.num_accts_ever_120_pd.unique()"
   ]
  },
  {
   "cell_type": "code",
   "execution_count": 77,
   "metadata": {},
   "outputs": [
    {
     "data": {
      "text/plain": [
       "array([ 1.,  6.,  3.,  4.,  2.,  5.,  0.,  9.,  8.,  7., 10., 12., 15.,\n",
       "       13., 17., 11., 16., 14., 18., 24., 19., 26., 20., 21., 22.])"
      ]
     },
     "execution_count": 77,
     "metadata": {},
     "output_type": "execute_result"
    }
   ],
   "source": [
    "loans.num_actv_bc_tl.unique()"
   ]
  },
  {
   "cell_type": "code",
   "execution_count": 78,
   "metadata": {},
   "outputs": [
    {
     "data": {
      "text/plain": [
       "array([ 4.,  9.,  5.,  7.,  3.,  2.,  8.,  6.,  1., 11., 14., 10., 17.,\n",
       "       15., 13., 16., 12., 21.,  0., 22., 20., 25., 18., 19., 34., 23.,\n",
       "       24., 29., 30., 27., 26., 28., 32., 37., 36., 38.])"
      ]
     },
     "execution_count": 78,
     "metadata": {},
     "output_type": "execute_result"
    }
   ],
   "source": [
    "loans.num_actv_rev_tl.unique()"
   ]
  },
  {
   "cell_type": "code",
   "execution_count": 79,
   "metadata": {},
   "outputs": [
    {
     "data": {
      "text/plain": [
       "array([ 1.,  7.,  3.,  5.,  4.,  6.,  2., 10.,  8.,  0., 11.,  9., 13.,\n",
       "       14., 12., 15., 16., 17., 19., 18., 23., 21., 20., 24., 25., 26.,\n",
       "       29., 22., 27., 28., 32., 35., 30., 31.])"
      ]
     },
     "execution_count": 79,
     "metadata": {},
     "output_type": "execute_result"
    }
   ],
   "source": [
    "loans.num_bc_sats.unique()"
   ]
  },
  {
   "cell_type": "code",
   "execution_count": 80,
   "metadata": {},
   "outputs": [
    {
     "data": {
      "text/plain": [
       "array([ 2., 18., 12.,  5.,  4., 16.,  6.,  9.,  7., 10.,  1.,  3.,  8.,\n",
       "       15., 20., 21., 14., 11., 19., 17., 13., 23., 22., 24., 29.,  0.,\n",
       "       27., 28., 25., 26., 30., 38., 36., 33., 37., 31., 32., 34., 50.,\n",
       "       39., 42., 40., 45., 35., 41., 43., 47., 51., 48., 46., 58.])"
      ]
     },
     "execution_count": 80,
     "metadata": {},
     "output_type": "execute_result"
    }
   ],
   "source": [
    "loans.num_bc_tl.unique()"
   ]
  },
  {
   "cell_type": "code",
   "execution_count": 81,
   "metadata": {},
   "outputs": [
    {
     "data": {
      "text/plain": [
       "array([  8.,   2.,  16.,   1.,  12.,  17.,   4.,   3.,   6.,   7.,  25.,\n",
       "         5.,  14.,  15.,   0.,  18.,  13.,  59.,  27.,  21.,  10.,  28.,\n",
       "        37.,  26.,   9.,  29.,  23.,  11.,  30.,  19.,  24.,  22.,  44.,\n",
       "        32.,  35.,  38.,  43.,  20.,  41.,  46.,  40.,  34.,  31.,  45.,\n",
       "        33.,  50.,  64.,  39.,  42.,  55.,  56.,  48.,  36.,  49.,  63.,\n",
       "        86.,  52.,  72.,  57.,  47.,  51.,  53.,  58.,  60.,  62.,  61.,\n",
       "        54.,  65., 150.,  73.,  69.,  67.,  74.,  68.,  70.,  75.,  78.,\n",
       "        66.,  76.,  71.,  83.,  87.,  97.])"
      ]
     },
     "execution_count": 81,
     "metadata": {},
     "output_type": "execute_result"
    }
   ],
   "source": [
    "loans.num_il_tl.unique()"
   ]
  },
  {
   "cell_type": "code",
   "execution_count": 82,
   "metadata": {},
   "outputs": [
    {
     "data": {
      "text/plain": [
       "array([ 5., 14.,  4.,  8., 10.,  6.,  9.,  2.,  7., 11., 12.,  3.,  1.,\n",
       "       17., 19., 20., 18., 13., 23., 15., 22., 16., 21., 27., 25., 26.,\n",
       "       24., 34.,  0., 33., 44., 31., 28., 32., 30., 43., 29., 37., 36.,\n",
       "       47., 62., 39., 38., 40., 46., 50., 35., 52., 56., 51., 42., 48.,\n",
       "       41.])"
      ]
     },
     "execution_count": 82,
     "metadata": {},
     "output_type": "execute_result"
    }
   ],
   "source": [
    "loans.num_op_rev_tl.unique()"
   ]
  },
  {
   "cell_type": "code",
   "execution_count": 83,
   "metadata": {},
   "outputs": [
    {
     "data": {
      "text/plain": [
       "array([  9.,  32.,  18.,   7.,   8.,  26.,  10.,  13.,  25.,  11.,  17.,\n",
       "        12.,  15.,   3.,   6.,  16.,  23.,  31.,  20.,   4.,   2.,  34.,\n",
       "         5.,  21.,  14.,  45.,  38.,  28.,  30.,  24.,  40.,  19.,  27.,\n",
       "        39.,  22.,  33.,  29.,  41.,  36.,  37.,  42.,  35.,  44.,  47.,\n",
       "        52.,  46.,  43.,  48.,  56.,  51.,  49.,  50.,  54.,  69.,  64.,\n",
       "        59.,  53.,  57., 105.,  58.,  75.,  61.,  55.,  68.,  67.,  60.,\n",
       "        65.,  81.,  66.,  62.,  70.,  73.,  71.,  80.,  78.,  89.,  63.,\n",
       "        77.,  74.,  86.])"
      ]
     },
     "execution_count": 83,
     "metadata": {},
     "output_type": "execute_result"
    }
   ],
   "source": [
    "loans.num_rev_accts.unique()"
   ]
  },
  {
   "cell_type": "code",
   "execution_count": 84,
   "metadata": {},
   "outputs": [
    {
     "data": {
      "text/plain": [
       "array([ 4.,  9.,  5.,  7.,  3.,  2.,  8.,  6.,  1., 11., 14., 10., 17.,\n",
       "       15., 13., 16., 12.,  0., 22., 20., 25., 18., 19., 34., 23., 24.,\n",
       "       21., 29., 30., 27., 26., 28., 32., 37., 38.])"
      ]
     },
     "execution_count": 84,
     "metadata": {},
     "output_type": "execute_result"
    }
   ],
   "source": [
    "loans.num_rev_tl_bal_gt_0.unique()"
   ]
  },
  {
   "attachments": {},
   "cell_type": "markdown",
   "metadata": {},
   "source": [
    "Cambios al quinto chunk\n",
    " - los ID no son float, son int. \n",
    " - ZIP code, si son los tres primeros números, no hace sentido tener dos xx al final\n",
    " - Problemas con números de meses siendo ints, pero casteados como float. En la descripción aclara que es número de meses:\n",
    "    - delinq_2yrs\n",
    "    - inq_last_6ths\n",
    "    - mths_since_last_delinq\n",
    "    - mths_since_last_record\n",
    " - Deberían ser unidades no particionables\n",
    "    - open_acc: cuentas abiertas\n",
    "    - pub_rec: número de records\n",
    "    - total_acc: número de líneas de crédito\n",
    "    - Cambios al segundo chunk \n",
    " - los ID no son float, son int. \n",
    " - ZIP code, si son los tres primeros números, no hace sentido tener dos xx al final\n",
    " - Problemas con números de meses siendo ints, pero casteados como float. En la descripción aclara que es número de meses:\n",
    "    - mths_since_last_delinq\n",
    "    - mths_since_last_record\n",
    "    - mths_since_last_major_derog\n",
    "    - mo_sin_old_il_acct\n",
    "    - mo_sin_old_rev_tl_op\n",
    "    - mo_sin_rcnt_rev_tl_op\n",
    "    - mo_sin_rcnt_tl\n",
    "    - mths_since_recent_bc\n",
    "    - mths_since_rcnt_il\n",
    "    - mths_since_recent_bc_dlq\n",
    "    - mths_since_recent_inq\n",
    " - Deberían ser unidades no particionables. Además, solo tienen ints (y NaNs en sus columnas)\n",
    "    - open_acc: cuentas abiertas\n",
    "    - pub_rec: número de records\n",
    "    - total_acc: número de líneas de crédito\n",
    "    - collections_12_mths_ex_med: número de colecciones\n",
    "    - bc_open_to_buy: número de tarjetas\n",
    "    - chargeoff_within_12_mths: número de cargos\n",
    "    - num_accts_ever_120_pd: número de cuentas\n",
    "    - num_actv_bc_tl: cuentas\n",
    "    - num_actv_rev_tl: número de cuentas\n",
    "    - num_bc_sats: cuentas de banco\n",
    "    - num_bc_tl: número de cuentas\n",
    "    - num_il_tl: número de cuentas instaladas\n",
    "    - num_op_rev_tl: número de cuentas\n",
    "    - num_rev_accts: número de cuentas\n",
    "    - num_rev_tl_bal_gt_0: número de cuentas\n",
    " - Para los booleanos, mejor dejarlo en la opción doble de strings; podría confundir si no.\n",
    " - Cambiar a int, aunque sean columnas llenas de Nan, deberían ser puros 0's, al ser el valor propio para expresar que no han habido casos. Es por eso que on vale borrar la columna. \n",
    "    - delinq_2yrs\n",
    "    - inq_last_6ths\n",
    "    - open_acc_6m\n",
    "    - open_act_il\n",
    "    - open_il_12m\n",
    "    - open_il_24m\n",
    "    - open_rv_12m\n",
    "    - inq_last_12m\n",
    "    - open_rv_24m\n",
    "    - acc_open_past_24mths\n",
    "    - mo_sin_rcnt_tl: número de cuentas\n",
    " - Columnas llenas de NaNs que no hace sentido que no tengan valores (pero deben ser ints).\n",
    "    - total_cu_tl: no hace sentido que no haya para ningún ID finance trades sin delimitación de periodos. \n",
    "    - inq_fi: nunca nadie de las observaciones tuvo ninguna queja. Suena, para todas las observaciones, sin tener límite de periodo, un caso muy particular (o inexistente). Además, columnas como mths_since_recent_inq indican que hubieron inquiries antes."
   ]
  },
  {
   "attachments": {},
   "cell_type": "markdown",
   "metadata": {},
   "source": [
    "#### Sexto chunk"
   ]
  },
  {
   "cell_type": "code",
   "execution_count": 85,
   "metadata": {},
   "outputs": [
    {
     "data": {
      "text/html": [
       "<div>\n",
       "<style scoped>\n",
       "    .dataframe tbody tr th:only-of-type {\n",
       "        vertical-align: middle;\n",
       "    }\n",
       "\n",
       "    .dataframe tbody tr th {\n",
       "        vertical-align: top;\n",
       "    }\n",
       "\n",
       "    .dataframe thead th {\n",
       "        text-align: right;\n",
       "    }\n",
       "</style>\n",
       "<table border=\"1\" class=\"dataframe\">\n",
       "  <thead>\n",
       "    <tr style=\"text-align: right;\">\n",
       "      <th></th>\n",
       "      <th>column_name</th>\n",
       "      <th>type</th>\n",
       "      <th>description</th>\n",
       "    </tr>\n",
       "  </thead>\n",
       "  <tbody>\n",
       "    <tr>\n",
       "      <th>100</th>\n",
       "      <td>num_rev_tl_bal_gt_0</td>\n",
       "      <td>float64</td>\n",
       "      <td>Number of revolving trades with balance &gt;0</td>\n",
       "    </tr>\n",
       "    <tr>\n",
       "      <th>101</th>\n",
       "      <td>num_sats</td>\n",
       "      <td>float64</td>\n",
       "      <td>Number of satisfactory accounts</td>\n",
       "    </tr>\n",
       "    <tr>\n",
       "      <th>102</th>\n",
       "      <td>num_tl_120dpd_2m</td>\n",
       "      <td>float64</td>\n",
       "      <td>Number of accounts currently 120 days past due...</td>\n",
       "    </tr>\n",
       "    <tr>\n",
       "      <th>103</th>\n",
       "      <td>num_tl_30dpd</td>\n",
       "      <td>float64</td>\n",
       "      <td>Number of accounts currently 30 days past due ...</td>\n",
       "    </tr>\n",
       "    <tr>\n",
       "      <th>104</th>\n",
       "      <td>num_tl_90g_dpd_24m</td>\n",
       "      <td>float64</td>\n",
       "      <td>Number of accounts 90 or more days past due in...</td>\n",
       "    </tr>\n",
       "    <tr>\n",
       "      <th>105</th>\n",
       "      <td>num_tl_op_past_12m</td>\n",
       "      <td>float64</td>\n",
       "      <td>Number of accounts opened in past 12 months</td>\n",
       "    </tr>\n",
       "    <tr>\n",
       "      <th>106</th>\n",
       "      <td>pct_tl_nvr_dlq</td>\n",
       "      <td>float64</td>\n",
       "      <td>Percent of trades never delinquent</td>\n",
       "    </tr>\n",
       "    <tr>\n",
       "      <th>107</th>\n",
       "      <td>percent_bc_gt_75</td>\n",
       "      <td>float64</td>\n",
       "      <td>Percentage of all bankcard accounts &gt; 75% of l...</td>\n",
       "    </tr>\n",
       "    <tr>\n",
       "      <th>108</th>\n",
       "      <td>pub_rec_bankruptcies</td>\n",
       "      <td>float64</td>\n",
       "      <td>Number of public record bankruptcies</td>\n",
       "    </tr>\n",
       "    <tr>\n",
       "      <th>109</th>\n",
       "      <td>tax_liens</td>\n",
       "      <td>float64</td>\n",
       "      <td>Number of tax liens</td>\n",
       "    </tr>\n",
       "    <tr>\n",
       "      <th>110</th>\n",
       "      <td>tot_hi_cred_lim</td>\n",
       "      <td>float64</td>\n",
       "      <td>Total high credit/credit limit</td>\n",
       "    </tr>\n",
       "    <tr>\n",
       "      <th>111</th>\n",
       "      <td>total_bal_ex_mort</td>\n",
       "      <td>float64</td>\n",
       "      <td>Total credit balance excluding mortgage</td>\n",
       "    </tr>\n",
       "    <tr>\n",
       "      <th>112</th>\n",
       "      <td>total_bc_limit</td>\n",
       "      <td>float64</td>\n",
       "      <td>Total bankcard high credit/credit limit</td>\n",
       "    </tr>\n",
       "    <tr>\n",
       "      <th>113</th>\n",
       "      <td>total_il_high_credit_limit</td>\n",
       "      <td>float64</td>\n",
       "      <td>Total installment high credit/credit limit</td>\n",
       "    </tr>\n",
       "    <tr>\n",
       "      <th>114</th>\n",
       "      <td>revol_bal_joint</td>\n",
       "      <td>float64</td>\n",
       "      <td>Sum of revolving credit balance of the co-bor...</td>\n",
       "    </tr>\n",
       "    <tr>\n",
       "      <th>115</th>\n",
       "      <td>sec_app_fico_range_low</td>\n",
       "      <td>float64</td>\n",
       "      <td>FICO range (high) for the secondary applicant</td>\n",
       "    </tr>\n",
       "    <tr>\n",
       "      <th>116</th>\n",
       "      <td>sec_app_fico_range_high</td>\n",
       "      <td>float64</td>\n",
       "      <td>FICO range (low) for the secondary applicant</td>\n",
       "    </tr>\n",
       "    <tr>\n",
       "      <th>117</th>\n",
       "      <td>sec_app_earliest_cr_line</td>\n",
       "      <td>float64</td>\n",
       "      <td>Earliest credit line at time of application f...</td>\n",
       "    </tr>\n",
       "    <tr>\n",
       "      <th>118</th>\n",
       "      <td>sec_app_inq_last_6mths</td>\n",
       "      <td>float64</td>\n",
       "      <td>Credit inquiries in the last 6 months at time...</td>\n",
       "    </tr>\n",
       "    <tr>\n",
       "      <th>119</th>\n",
       "      <td>sec_app_mort_acc</td>\n",
       "      <td>float64</td>\n",
       "      <td>Number of mortgage accounts at time of applic...</td>\n",
       "    </tr>\n",
       "    <tr>\n",
       "      <th>120</th>\n",
       "      <td>sec_app_open_acc</td>\n",
       "      <td>float64</td>\n",
       "      <td>Number of open trades at time of application ...</td>\n",
       "    </tr>\n",
       "  </tbody>\n",
       "</table>\n",
       "</div>"
      ],
      "text/plain": [
       "                    column_name     type  \\\n",
       "100         num_rev_tl_bal_gt_0  float64   \n",
       "101                    num_sats  float64   \n",
       "102            num_tl_120dpd_2m  float64   \n",
       "103                num_tl_30dpd  float64   \n",
       "104          num_tl_90g_dpd_24m  float64   \n",
       "105          num_tl_op_past_12m  float64   \n",
       "106              pct_tl_nvr_dlq  float64   \n",
       "107            percent_bc_gt_75  float64   \n",
       "108        pub_rec_bankruptcies  float64   \n",
       "109                   tax_liens  float64   \n",
       "110             tot_hi_cred_lim  float64   \n",
       "111           total_bal_ex_mort  float64   \n",
       "112              total_bc_limit  float64   \n",
       "113  total_il_high_credit_limit  float64   \n",
       "114             revol_bal_joint  float64   \n",
       "115      sec_app_fico_range_low  float64   \n",
       "116     sec_app_fico_range_high  float64   \n",
       "117    sec_app_earliest_cr_line  float64   \n",
       "118      sec_app_inq_last_6mths  float64   \n",
       "119            sec_app_mort_acc  float64   \n",
       "120            sec_app_open_acc  float64   \n",
       "\n",
       "                                           description  \n",
       "100         Number of revolving trades with balance >0  \n",
       "101                    Number of satisfactory accounts  \n",
       "102  Number of accounts currently 120 days past due...  \n",
       "103  Number of accounts currently 30 days past due ...  \n",
       "104  Number of accounts 90 or more days past due in...  \n",
       "105        Number of accounts opened in past 12 months  \n",
       "106                 Percent of trades never delinquent  \n",
       "107  Percentage of all bankcard accounts > 75% of l...  \n",
       "108               Number of public record bankruptcies  \n",
       "109                                Number of tax liens  \n",
       "110                     Total high credit/credit limit  \n",
       "111            Total credit balance excluding mortgage  \n",
       "112            Total bankcard high credit/credit limit  \n",
       "113         Total installment high credit/credit limit  \n",
       "114   Sum of revolving credit balance of the co-bor...  \n",
       "115      FICO range (high) for the secondary applicant  \n",
       "116       FICO range (low) for the secondary applicant  \n",
       "117   Earliest credit line at time of application f...  \n",
       "118   Credit inquiries in the last 6 months at time...  \n",
       "119   Number of mortgage accounts at time of applic...  \n",
       "120   Number of open trades at time of application ...  "
      ]
     },
     "execution_count": 85,
     "metadata": {},
     "output_type": "execute_result"
    }
   ],
   "source": [
    "# Sexto\n",
    "\n",
    "types_description.loc[100:120]"
   ]
  },
  {
   "cell_type": "code",
   "execution_count": 86,
   "metadata": {},
   "outputs": [
    {
     "data": {
      "text/plain": [
       "array([ 4.,  9.,  5.,  7.,  3.,  2.,  8.,  6.,  1., 11., 14., 10., 17.,\n",
       "       15., 13., 16., 12.,  0., 22., 20., 25., 18., 19., 34., 23., 24.,\n",
       "       21., 29., 30., 27., 26., 28., 32., 37., 38.])"
      ]
     },
     "execution_count": 86,
     "metadata": {},
     "output_type": "execute_result"
    }
   ],
   "source": [
    "loans.num_rev_tl_bal_gt_0.unique()"
   ]
  },
  {
   "cell_type": "code",
   "execution_count": 87,
   "metadata": {},
   "outputs": [
    {
     "data": {
      "text/plain": [
       "array([ 6., 17., 10.,  8., 11., 12.,  9.,  7., 14.,  5.,  3., 13., 19.,\n",
       "       15., 25.,  4., 24., 20., 18., 22., 27., 21., 31., 32., 28., 16.,\n",
       "       30., 26.,  2., 29., 23., 37., 33., 43., 45., 35., 34., 44., 36.,\n",
       "       38., 54., 39., 41., 53.,  1., 42., 40., 47., 75., 48., 58., 50.,\n",
       "       52., 55., 84., 46., 51.])"
      ]
     },
     "execution_count": 87,
     "metadata": {},
     "output_type": "execute_result"
    }
   ],
   "source": [
    "loans.num_sats.unique()"
   ]
  },
  {
   "cell_type": "code",
   "execution_count": 88,
   "metadata": {},
   "outputs": [
    {
     "data": {
      "text/plain": [
       "array([ 0., nan,  1.,  2.])"
      ]
     },
     "execution_count": 88,
     "metadata": {},
     "output_type": "execute_result"
    }
   ],
   "source": [
    "loans.num_tl_120dpd_2m.unique()"
   ]
  },
  {
   "cell_type": "code",
   "execution_count": 89,
   "metadata": {},
   "outputs": [
    {
     "data": {
      "text/plain": [
       "array([0., 1., 2., 3., 4.])"
      ]
     },
     "execution_count": 89,
     "metadata": {},
     "output_type": "execute_result"
    }
   ],
   "source": [
    "loans.num_tl_30dpd.unique()"
   ]
  },
  {
   "cell_type": "code",
   "execution_count": 90,
   "metadata": {},
   "outputs": [
    {
     "data": {
      "text/plain": [
       "array([ 0.,  1.,  4.,  2.,  3.,  6.,  9.,  5.,  7., 10., 20., 11., 22.,\n",
       "        8., 13., 14., 12., 16., 15., 18.])"
      ]
     },
     "execution_count": 90,
     "metadata": {},
     "output_type": "execute_result"
    }
   ],
   "source": [
    "loans.num_tl_90g_dpd_24m.unique()"
   ]
  },
  {
   "cell_type": "code",
   "execution_count": 91,
   "metadata": {},
   "outputs": [
    {
     "data": {
      "text/plain": [
       "array([ 4.,  2.,  0.,  3.,  1.,  6.,  5.,  8.,  9.,  7., 12., 11., 10.,\n",
       "       19., 14., 17., 13., 15., 20., 16., 26., 21., 23.])"
      ]
     },
     "execution_count": 91,
     "metadata": {},
     "output_type": "execute_result"
    }
   ],
   "source": [
    "loans.num_tl_op_past_12m.unique()"
   ]
  },
  {
   "cell_type": "code",
   "execution_count": 92,
   "metadata": {},
   "outputs": [
    {
     "data": {
      "text/plain": [
       "array([ 0.,  1.,  2.,  7.,  3.,  4.,  5.,  6., 12.])"
      ]
     },
     "execution_count": 92,
     "metadata": {},
     "output_type": "execute_result"
    }
   ],
   "source": [
    "loans.pub_rec_bankruptcies.unique()"
   ]
  },
  {
   "cell_type": "code",
   "execution_count": 93,
   "metadata": {},
   "outputs": [
    {
     "data": {
      "text/plain": [
       "array([ 0.,  1.,  4.,  2.,  5.,  3.,  6., 12., 17.,  7., 10.,  8., 18.,\n",
       "       11., 16., 14.,  9.])"
      ]
     },
     "execution_count": 93,
     "metadata": {},
     "output_type": "execute_result"
    }
   ],
   "source": [
    "loans.tax_liens.unique()"
   ]
  },
  {
   "cell_type": "code",
   "execution_count": 94,
   "metadata": {},
   "outputs": [
    {
     "data": {
      "text/plain": [
       "array([nan])"
      ]
     },
     "execution_count": 94,
     "metadata": {},
     "output_type": "execute_result"
    }
   ],
   "source": [
    "loans.sec_app_earliest_cr_line.unique()"
   ]
  },
  {
   "cell_type": "code",
   "execution_count": 95,
   "metadata": {},
   "outputs": [
    {
     "data": {
      "text/plain": [
       "array([nan])"
      ]
     },
     "execution_count": 95,
     "metadata": {},
     "output_type": "execute_result"
    }
   ],
   "source": [
    "loans.sec_app_inq_last_6mths.unique()"
   ]
  },
  {
   "attachments": {},
   "cell_type": "markdown",
   "metadata": {},
   "source": [
    "Cambios al sexto chunk\n",
    " - los ID no son float, son int. \n",
    " - ZIP code, si son los tres primeros números, no hace sentido tener dos xx al final\n",
    " - Problemas con números de meses siendo ints, pero casteados como float. En la descripción aclara que es número de meses:\n",
    "    - delinq_2yrs\n",
    "    - inq_last_6ths\n",
    "    - mths_since_last_delinq\n",
    "    - mths_since_last_record\n",
    " - Deberían ser unidades no particionables\n",
    "    - open_acc: cuentas abiertas\n",
    "    - pub_rec: número de records\n",
    "    - total_acc: número de líneas de crédito\n",
    "    - Cambios al segundo chunk \n",
    " - los ID no son float, son int. \n",
    " - ZIP code, si son los tres primeros números, no hace sentido tener dos xx al final\n",
    " - Problemas con números de meses siendo ints, pero casteados como float. En la descripción aclara que es número de meses:\n",
    "    - mths_since_last_delinq\n",
    "    - mths_since_last_record\n",
    "    - mths_since_last_major_derog\n",
    "    - mo_sin_old_il_acct\n",
    "    - mo_sin_old_rev_tl_op\n",
    "    - mo_sin_rcnt_rev_tl_op\n",
    "    - mo_sin_rcnt_tl\n",
    "    - mths_since_recent_bc\n",
    "    - mths_since_rcnt_il\n",
    "    - mths_since_recent_bc_dlq\n",
    "    - mths_since_recent_inq\n",
    " - Deberían ser unidades no particionables. Además, solo tienen ints (y NaNs en sus columnas)\n",
    "    - open_acc: cuentas abiertas\n",
    "    - pub_rec: número de records\n",
    "    - total_acc: número de líneas de crédito\n",
    "    - collections_12_mths_ex_med: número de colecciones\n",
    "    - bc_open_to_buy: número de tarjetas\n",
    "    - chargeoff_within_12_mths: número de cargos\n",
    "    - num_accts_ever_120_pd: número de cuentas\n",
    "    - num_actv_bc_tl: cuentas\n",
    "    - num_actv_rev_tl: número de cuentas\n",
    "    - num_bc_sats: cuentas de banco\n",
    "    - num_bc_tl: número de cuentas\n",
    "    - num_il_tl: número de cuentas instaladas\n",
    "    - num_op_rev_tl: número de cuentas\n",
    "    - num_rev_accts: número de cuentas\n",
    "    - num_rev_tl_bal_gt_0: número de cuentas\n",
    "    - num_sats: número de cuentas\n",
    "    - num_tl_120dpd_2m: número de cuentas\n",
    "    - num_tl_30dpd: número de cuentas\n",
    "    - num_tl_90g_dpd_24m: número de cuentas\n",
    "    - num_tl_op_past_12m: número de cuentas\n",
    "    - pub_rec_bankruptcies: número de bancarrotas\n",
    "    - tax_liens: número de tax liens\t\n",
    " - Para los booleanos, mejor dejarlo en la opción doble de strings; podría confundir si no.\n",
    " - Cambiar a int, aunque sean columnas llenas de Nan, deberían ser puros 0's, al ser el valor propio para expresar que no han habido casos. Es por eso que on vale borrar la columna. No vale la pena tirarlas. En NaN están bien, pero hace sentido que pronto sean modificadas.\n",
    "    - delinq_2yrs\n",
    "    - inq_last_6ths\n",
    "    - open_acc_6m\n",
    "    - open_act_il\n",
    "    - open_il_12m\n",
    "    - open_il_24m\n",
    "    - open_rv_12m\n",
    "    - inq_last_12m\n",
    "    - open_rv_24m\n",
    "    - acc_open_past_24mths\n",
    "    - mo_sin_rcnt_tl: número de cuentas\n",
    " - Columnas llenas de NaNs que no hace sentido que no tengan valores (pero deben ser ints).\n",
    "    - total_cu_tl: no hace sentido que no haya para ningún ID finance trades sin delimitación de periodos. \n",
    "    - inq_fi: nunca nadie de las observaciones tuvo ninguna queja. Suena, para todas las observaciones, sin tener límite de periodo, un caso muy particular (o inexistente). Además, columnas como mths_since_recent_inq indican que hubieron inquiries antes.\n",
    "    - Secondary aplicant: no hay datos de ningún seconary applicant por lo cual es un desperdicio de espacio tantas columnas para no tener una sola observación de dicho caso\n",
    "      - sec_app_fico_range_low\n",
    "      - sec_app_fico_range_high\n",
    "      - sec_app_earliest_cr_line\n",
    "      - sec_app_inq_last_6mths\n",
    "      - sec_app_mort_acc\n",
    "      - sec_app_open_acc"
   ]
  },
  {
   "attachments": {},
   "cell_type": "markdown",
   "metadata": {},
   "source": [
    "#### Séptimo chunk"
   ]
  },
  {
   "cell_type": "code",
   "execution_count": 96,
   "metadata": {},
   "outputs": [
    {
     "data": {
      "text/html": [
       "<div>\n",
       "<style scoped>\n",
       "    .dataframe tbody tr th:only-of-type {\n",
       "        vertical-align: middle;\n",
       "    }\n",
       "\n",
       "    .dataframe tbody tr th {\n",
       "        vertical-align: top;\n",
       "    }\n",
       "\n",
       "    .dataframe thead th {\n",
       "        text-align: right;\n",
       "    }\n",
       "</style>\n",
       "<table border=\"1\" class=\"dataframe\">\n",
       "  <thead>\n",
       "    <tr style=\"text-align: right;\">\n",
       "      <th></th>\n",
       "      <th>column_name</th>\n",
       "      <th>type</th>\n",
       "      <th>description</th>\n",
       "    </tr>\n",
       "  </thead>\n",
       "  <tbody>\n",
       "    <tr>\n",
       "      <th>120</th>\n",
       "      <td>sec_app_open_acc</td>\n",
       "      <td>float64</td>\n",
       "      <td>Number of open trades at time of application ...</td>\n",
       "    </tr>\n",
       "    <tr>\n",
       "      <th>121</th>\n",
       "      <td>sec_app_revol_util</td>\n",
       "      <td>float64</td>\n",
       "      <td>Ratio of total current balance to high credit...</td>\n",
       "    </tr>\n",
       "    <tr>\n",
       "      <th>122</th>\n",
       "      <td>sec_app_open_act_il</td>\n",
       "      <td>float64</td>\n",
       "      <td>Number of currently active installment trades...</td>\n",
       "    </tr>\n",
       "    <tr>\n",
       "      <th>123</th>\n",
       "      <td>sec_app_num_rev_accts</td>\n",
       "      <td>float64</td>\n",
       "      <td>Number of revolving accounts at time of appli...</td>\n",
       "    </tr>\n",
       "    <tr>\n",
       "      <th>124</th>\n",
       "      <td>sec_app_chargeoff_within_12_mths</td>\n",
       "      <td>float64</td>\n",
       "      <td>Number of charge-offs within last 12 months a...</td>\n",
       "    </tr>\n",
       "    <tr>\n",
       "      <th>125</th>\n",
       "      <td>sec_app_collections_12_mths_ex_med</td>\n",
       "      <td>float64</td>\n",
       "      <td>Number of collections within last 12 months e...</td>\n",
       "    </tr>\n",
       "    <tr>\n",
       "      <th>126</th>\n",
       "      <td>sec_app_mths_since_last_major_derog</td>\n",
       "      <td>float64</td>\n",
       "      <td>Months since most recent 90-day or worse rati...</td>\n",
       "    </tr>\n",
       "    <tr>\n",
       "      <th>127</th>\n",
       "      <td>hardship_flag</td>\n",
       "      <td>object</td>\n",
       "      <td>Flags whether or not the borrower is on a hard...</td>\n",
       "    </tr>\n",
       "    <tr>\n",
       "      <th>128</th>\n",
       "      <td>hardship_type</td>\n",
       "      <td>object</td>\n",
       "      <td>Describes the hardship plan offering</td>\n",
       "    </tr>\n",
       "    <tr>\n",
       "      <th>129</th>\n",
       "      <td>hardship_reason</td>\n",
       "      <td>object</td>\n",
       "      <td>Describes the reason the hardship plan was off...</td>\n",
       "    </tr>\n",
       "    <tr>\n",
       "      <th>130</th>\n",
       "      <td>hardship_status</td>\n",
       "      <td>object</td>\n",
       "      <td>Describes if the hardship plan is active, pend...</td>\n",
       "    </tr>\n",
       "    <tr>\n",
       "      <th>131</th>\n",
       "      <td>deferral_term</td>\n",
       "      <td>float64</td>\n",
       "      <td>Amount of months that the borrower is expected...</td>\n",
       "    </tr>\n",
       "    <tr>\n",
       "      <th>132</th>\n",
       "      <td>hardship_amount</td>\n",
       "      <td>float64</td>\n",
       "      <td>The interest payment that the borrower has com...</td>\n",
       "    </tr>\n",
       "    <tr>\n",
       "      <th>133</th>\n",
       "      <td>hardship_start_date</td>\n",
       "      <td>object</td>\n",
       "      <td>The start date of the hardship plan period</td>\n",
       "    </tr>\n",
       "    <tr>\n",
       "      <th>134</th>\n",
       "      <td>hardship_end_date</td>\n",
       "      <td>object</td>\n",
       "      <td>The end date of the hardship plan period</td>\n",
       "    </tr>\n",
       "    <tr>\n",
       "      <th>135</th>\n",
       "      <td>payment_plan_start_date</td>\n",
       "      <td>object</td>\n",
       "      <td>The day the first hardship plan payment is due...</td>\n",
       "    </tr>\n",
       "    <tr>\n",
       "      <th>136</th>\n",
       "      <td>hardship_length</td>\n",
       "      <td>float64</td>\n",
       "      <td>The number of months the borrower will make sm...</td>\n",
       "    </tr>\n",
       "    <tr>\n",
       "      <th>137</th>\n",
       "      <td>hardship_dpd</td>\n",
       "      <td>float64</td>\n",
       "      <td>Account days past due as of the hardship plan ...</td>\n",
       "    </tr>\n",
       "    <tr>\n",
       "      <th>138</th>\n",
       "      <td>hardship_loan_status</td>\n",
       "      <td>object</td>\n",
       "      <td>Loan Status as of the hardship plan start date</td>\n",
       "    </tr>\n",
       "    <tr>\n",
       "      <th>139</th>\n",
       "      <td>orig_projected_additional_accrued_interest</td>\n",
       "      <td>float64</td>\n",
       "      <td>The original projected additional interest amo...</td>\n",
       "    </tr>\n",
       "    <tr>\n",
       "      <th>140</th>\n",
       "      <td>hardship_payoff_balance_amount</td>\n",
       "      <td>float64</td>\n",
       "      <td>The payoff balance amount as of the hardship p...</td>\n",
       "    </tr>\n",
       "  </tbody>\n",
       "</table>\n",
       "</div>"
      ],
      "text/plain": [
       "                                    column_name     type  \\\n",
       "120                            sec_app_open_acc  float64   \n",
       "121                          sec_app_revol_util  float64   \n",
       "122                         sec_app_open_act_il  float64   \n",
       "123                       sec_app_num_rev_accts  float64   \n",
       "124            sec_app_chargeoff_within_12_mths  float64   \n",
       "125          sec_app_collections_12_mths_ex_med  float64   \n",
       "126         sec_app_mths_since_last_major_derog  float64   \n",
       "127                               hardship_flag   object   \n",
       "128                               hardship_type   object   \n",
       "129                             hardship_reason   object   \n",
       "130                             hardship_status   object   \n",
       "131                               deferral_term  float64   \n",
       "132                             hardship_amount  float64   \n",
       "133                         hardship_start_date   object   \n",
       "134                           hardship_end_date   object   \n",
       "135                     payment_plan_start_date   object   \n",
       "136                             hardship_length  float64   \n",
       "137                                hardship_dpd  float64   \n",
       "138                        hardship_loan_status   object   \n",
       "139  orig_projected_additional_accrued_interest  float64   \n",
       "140              hardship_payoff_balance_amount  float64   \n",
       "\n",
       "                                           description  \n",
       "120   Number of open trades at time of application ...  \n",
       "121   Ratio of total current balance to high credit...  \n",
       "122   Number of currently active installment trades...  \n",
       "123   Number of revolving accounts at time of appli...  \n",
       "124   Number of charge-offs within last 12 months a...  \n",
       "125   Number of collections within last 12 months e...  \n",
       "126   Months since most recent 90-day or worse rati...  \n",
       "127  Flags whether or not the borrower is on a hard...  \n",
       "128               Describes the hardship plan offering  \n",
       "129  Describes the reason the hardship plan was off...  \n",
       "130  Describes if the hardship plan is active, pend...  \n",
       "131  Amount of months that the borrower is expected...  \n",
       "132  The interest payment that the borrower has com...  \n",
       "133         The start date of the hardship plan period  \n",
       "134           The end date of the hardship plan period  \n",
       "135  The day the first hardship plan payment is due...  \n",
       "136  The number of months the borrower will make sm...  \n",
       "137  Account days past due as of the hardship plan ...  \n",
       "138     Loan Status as of the hardship plan start date  \n",
       "139  The original projected additional interest amo...  \n",
       "140  The payoff balance amount as of the hardship p...  "
      ]
     },
     "execution_count": 96,
     "metadata": {},
     "output_type": "execute_result"
    }
   ],
   "source": [
    "# Septimo\n",
    "\n",
    "types_description.loc[120:140]"
   ]
  },
  {
   "cell_type": "code",
   "execution_count": 97,
   "metadata": {},
   "outputs": [
    {
     "data": {
      "text/plain": [
       "array([nan])"
      ]
     },
     "execution_count": 97,
     "metadata": {},
     "output_type": "execute_result"
    }
   ],
   "source": [
    "loans.sec_app_open_acc.unique()"
   ]
  },
  {
   "cell_type": "code",
   "execution_count": 98,
   "metadata": {},
   "outputs": [
    {
     "data": {
      "text/plain": [
       "array([nan])"
      ]
     },
     "execution_count": 98,
     "metadata": {},
     "output_type": "execute_result"
    }
   ],
   "source": [
    "loans.sec_app_revol_util.unique()"
   ]
  },
  {
   "cell_type": "code",
   "execution_count": 99,
   "metadata": {},
   "outputs": [
    {
     "data": {
      "text/plain": [
       "array([nan])"
      ]
     },
     "execution_count": 99,
     "metadata": {},
     "output_type": "execute_result"
    }
   ],
   "source": [
    "loans.sec_app_open_act_il.unique()"
   ]
  },
  {
   "cell_type": "code",
   "execution_count": 100,
   "metadata": {},
   "outputs": [
    {
     "data": {
      "text/plain": [
       "array([nan])"
      ]
     },
     "execution_count": 100,
     "metadata": {},
     "output_type": "execute_result"
    }
   ],
   "source": [
    "loans.sec_app_num_rev_accts.unique()"
   ]
  },
  {
   "cell_type": "code",
   "execution_count": 101,
   "metadata": {},
   "outputs": [
    {
     "data": {
      "text/plain": [
       "array([nan])"
      ]
     },
     "execution_count": 101,
     "metadata": {},
     "output_type": "execute_result"
    }
   ],
   "source": [
    "loans.sec_app_chargeoff_within_12_mths.unique()"
   ]
  },
  {
   "cell_type": "code",
   "execution_count": 102,
   "metadata": {},
   "outputs": [
    {
     "data": {
      "text/plain": [
       "array([nan])"
      ]
     },
     "execution_count": 102,
     "metadata": {},
     "output_type": "execute_result"
    }
   ],
   "source": [
    "loans.sec_app_collections_12_mths_ex_med.unique()"
   ]
  },
  {
   "cell_type": "code",
   "execution_count": 103,
   "metadata": {},
   "outputs": [
    {
     "data": {
      "text/plain": [
       "array([nan])"
      ]
     },
     "execution_count": 103,
     "metadata": {},
     "output_type": "execute_result"
    }
   ],
   "source": [
    "loans.sec_app_mths_since_last_major_derog.unique()"
   ]
  },
  {
   "cell_type": "code",
   "execution_count": 104,
   "metadata": {},
   "outputs": [
    {
     "data": {
      "text/plain": [
       "array(['N', 'Y'], dtype=object)"
      ]
     },
     "execution_count": 104,
     "metadata": {},
     "output_type": "execute_result"
    }
   ],
   "source": [
    "loans.hardship_flag.unique()"
   ]
  },
  {
   "cell_type": "code",
   "execution_count": 105,
   "metadata": {},
   "outputs": [
    {
     "data": {
      "text/plain": [
       "array([nan,  3.])"
      ]
     },
     "execution_count": 105,
     "metadata": {},
     "output_type": "execute_result"
    }
   ],
   "source": [
    "loans.deferral_term.unique()"
   ]
  },
  {
   "cell_type": "code",
   "execution_count": 106,
   "metadata": {},
   "outputs": [
    {
     "data": {
      "text/plain": [
       "array([nan, 'May-2017', 'Sep-2017', 'Jun-2017', 'Aug-2017', 'Oct-2017',\n",
       "       'Jul-2017', 'Nov-2017', 'Dec-2017', 'Feb-2017'], dtype=object)"
      ]
     },
     "execution_count": 106,
     "metadata": {},
     "output_type": "execute_result"
    }
   ],
   "source": [
    "loans.hardship_start_date.unique()"
   ]
  },
  {
   "cell_type": "code",
   "execution_count": 107,
   "metadata": {},
   "outputs": [
    {
     "data": {
      "text/plain": [
       "array([nan, 'Aug-2017', 'Nov-2017', 'Sep-2017', 'Jul-2017', 'Dec-2017',\n",
       "       'Oct-2017', 'Jan-2018', 'Feb-2018', 'Jun-2017', 'Mar-2018',\n",
       "       'Apr-2017'], dtype=object)"
      ]
     },
     "execution_count": 107,
     "metadata": {},
     "output_type": "execute_result"
    }
   ],
   "source": [
    "loans.hardship_end_date.unique()"
   ]
  },
  {
   "cell_type": "code",
   "execution_count": 108,
   "metadata": {},
   "outputs": [
    {
     "data": {
      "text/plain": [
       "array([nan, 'May-2017', 'Sep-2017', 'Jul-2017', 'Jun-2017', 'Aug-2017',\n",
       "       'Oct-2017', 'Nov-2017', 'Dec-2017', 'Jan-2018', 'Feb-2017'],\n",
       "      dtype=object)"
      ]
     },
     "execution_count": 108,
     "metadata": {},
     "output_type": "execute_result"
    }
   ],
   "source": [
    "loans.payment_plan_start_date.unique()"
   ]
  },
  {
   "cell_type": "code",
   "execution_count": 109,
   "metadata": {},
   "outputs": [
    {
     "data": {
      "text/plain": [
       "array([nan, 'In Grace Period', 'Current', 'Late (16-30 days)',\n",
       "       'Late (31-120 days)'], dtype=object)"
      ]
     },
     "execution_count": 109,
     "metadata": {},
     "output_type": "execute_result"
    }
   ],
   "source": [
    "loans.hardship_loan_status.unique()"
   ]
  },
  {
   "attachments": {},
   "cell_type": "markdown",
   "metadata": {},
   "source": [
    "Cambios al séptimo chunk\n",
    " - los ID no son float, son int. \n",
    " - ZIP code, si son los tres primeros números, no hace sentido tener dos xx al final\n",
    " - Problemas con números de meses siendo ints, pero casteados como float. En la descripción aclara que es número de meses:\n",
    "    - delinq_2yrs\n",
    "    - inq_last_6ths\n",
    "    - mths_since_last_delinq\n",
    "    - mths_since_last_record\n",
    " - Deberían ser unidades no particionables\n",
    "    - open_acc: cuentas abiertas\n",
    "    - pub_rec: número de records\n",
    "    - total_acc: número de líneas de crédito\n",
    "    - Cambios al segundo chunk \n",
    " - los ID no son float, son int. \n",
    " - ZIP code, si son los tres primeros números, no hace sentido tener dos xx al final\n",
    " - Problemas con números de meses siendo ints, pero casteados como float. En la descripción aclara que es número de meses:\n",
    "    - mths_since_last_delinq\n",
    "    - mths_since_last_record\n",
    "    - mths_since_last_major_derog\n",
    "    - mo_sin_old_il_acct\n",
    "    - mo_sin_old_rev_tl_op\n",
    "    - mo_sin_rcnt_rev_tl_op\n",
    "    - mo_sin_rcnt_tl\n",
    "    - mths_since_recent_bc\n",
    "    - mths_since_rcnt_il\n",
    "    - mths_since_recent_bc_dlq\n",
    "    - mths_since_recent_inq\n",
    "    - deferral_term\n",
    "    - hardship_length\n",
    " - Deberían ser unidades no particionables. Además, solo tienen ints (y NaNs en sus columnas)\n",
    "    - open_acc: cuentas abiertas\n",
    "    - pub_rec: número de records\n",
    "    - total_acc: número de líneas de crédito\n",
    "    - collections_12_mths_ex_med: número de colecciones\n",
    "    - bc_open_to_buy: número de tarjetas\n",
    "    - chargeoff_within_12_mths: número de cargos\n",
    "    - num_accts_ever_120_pd: número de cuentas\n",
    "    - num_actv_bc_tl: cuentas\n",
    "    - num_actv_rev_tl: número de cuentas\n",
    "    - num_bc_sats: cuentas de banco\n",
    "    - num_bc_tl: número de cuentas\n",
    "    - num_il_tl: número de cuentas instaladas\n",
    "    - num_op_rev_tl: número de cuentas\n",
    "    - num_rev_accts: número de cuentas\n",
    "    - num_rev_tl_bal_gt_0: número de cuentas\n",
    "    - num_sats: número de cuentas\n",
    "    - num_tl_120dpd_2m: número de cuentas\n",
    "    - num_tl_30dpd: número de cuentas\n",
    "    - num_tl_90g_dpd_24m: número de cuentas\n",
    "    - num_tl_op_past_12m: número de cuentas\n",
    "    - pub_rec_bankruptcies: número de bancarrotas\n",
    "    - tax_liens: número de tax liens\t\n",
    " - Para los booleanos, mejor dejarlo en la opción doble de strings; podría confundir si no.\n",
    " - Cambiar a int, aunque sean columnas llenas de Nan, deberían ser puros 0's, al ser el valor propio para expresar que no han habido casos. Es por eso que on vale borrar la columna. No vale la pena tirarlas. En NaN están bien, pero hace sentido que pronto sean modificadas.\n",
    "    - delinq_2yrs\n",
    "    - inq_last_6ths\n",
    "    - open_acc_6m\n",
    "    - open_act_il\n",
    "    - open_il_12m\n",
    "    - open_il_24m\n",
    "    - open_rv_12m\n",
    "    - inq_last_12m\n",
    "    - open_rv_24m\n",
    "    - acc_open_past_24mths\n",
    "    - mo_sin_rcnt_tl: número de cuentas\n",
    " - Columnas llenas de NaNs que no hace sentido que no tengan valores (pero deben ser ints).\n",
    "    - total_cu_tl: no hace sentido que no haya para ningún ID finance trades sin delimitación de periodos. \n",
    "    - inq_fi: nunca nadie de las observaciones tuvo ninguna queja. Suena, para todas las observaciones, sin tener límite de periodo, un caso muy particular (o inexistente). Además, columnas como mths_since_recent_inq indican que hubieron inquiries antes.\n",
    "    - Secondary aplicant: no hay datos de ningún seconary applicant por lo cual es un desperdicio de espacio tantas columnas para no tener una sola observación de dicho caso\n",
    "      - sec_app_fico_range_low\n",
    "      - sec_app_fico_range_high\n",
    "      - sec_app_earliest_cr_line\n",
    "      - sec_app_inq_last_6mths\n",
    "      - sec_app_mort_acc\n",
    "      - sec_app_open_acc\n",
    "      - sec_app_revol_util\n",
    " - Cambio a booleano: directamente escribem 'Y' o 'N'. Es mejor usarlo con True o False.\n",
    " - Fechas:\n",
    "   - next_pymnt_d\n",
    "   - hardship_start_date\n",
    "   - hardship_end_date\n",
    "   - payment_plan_start_date\n",
    "      "
   ]
  },
  {
   "cell_type": "markdown",
   "metadata": {},
   "source": [
    "#### Último chunk"
   ]
  },
  {
   "cell_type": "code",
   "execution_count": 110,
   "metadata": {},
   "outputs": [
    {
     "data": {
      "text/html": [
       "<div>\n",
       "<style scoped>\n",
       "    .dataframe tbody tr th:only-of-type {\n",
       "        vertical-align: middle;\n",
       "    }\n",
       "\n",
       "    .dataframe tbody tr th {\n",
       "        vertical-align: top;\n",
       "    }\n",
       "\n",
       "    .dataframe thead th {\n",
       "        text-align: right;\n",
       "    }\n",
       "</style>\n",
       "<table border=\"1\" class=\"dataframe\">\n",
       "  <thead>\n",
       "    <tr style=\"text-align: right;\">\n",
       "      <th></th>\n",
       "      <th>column_name</th>\n",
       "      <th>type</th>\n",
       "      <th>description</th>\n",
       "    </tr>\n",
       "  </thead>\n",
       "  <tbody>\n",
       "    <tr>\n",
       "      <th>140</th>\n",
       "      <td>hardship_payoff_balance_amount</td>\n",
       "      <td>float64</td>\n",
       "      <td>The payoff balance amount as of the hardship p...</td>\n",
       "    </tr>\n",
       "    <tr>\n",
       "      <th>141</th>\n",
       "      <td>hardship_last_payment_amount</td>\n",
       "      <td>float64</td>\n",
       "      <td>The last payment amount as of the hardship pla...</td>\n",
       "    </tr>\n",
       "    <tr>\n",
       "      <th>142</th>\n",
       "      <td>disbursement_method</td>\n",
       "      <td>object</td>\n",
       "      <td>The method by which the borrower receives thei...</td>\n",
       "    </tr>\n",
       "    <tr>\n",
       "      <th>143</th>\n",
       "      <td>debt_settlement_flag</td>\n",
       "      <td>object</td>\n",
       "      <td>Flags whether or not the borrower, who has cha...</td>\n",
       "    </tr>\n",
       "    <tr>\n",
       "      <th>144</th>\n",
       "      <td>debt_settlement_flag_date</td>\n",
       "      <td>object</td>\n",
       "      <td>The most recent date that the Debt_Settlement_...</td>\n",
       "    </tr>\n",
       "    <tr>\n",
       "      <th>145</th>\n",
       "      <td>settlement_status</td>\n",
       "      <td>object</td>\n",
       "      <td>The status of the borrower’s settlement plan. ...</td>\n",
       "    </tr>\n",
       "    <tr>\n",
       "      <th>146</th>\n",
       "      <td>settlement_date</td>\n",
       "      <td>object</td>\n",
       "      <td>The date that the borrower agrees to the settl...</td>\n",
       "    </tr>\n",
       "    <tr>\n",
       "      <th>147</th>\n",
       "      <td>settlement_amount</td>\n",
       "      <td>float64</td>\n",
       "      <td>The loan amount that the borrower has agreed t...</td>\n",
       "    </tr>\n",
       "    <tr>\n",
       "      <th>148</th>\n",
       "      <td>settlement_percentage</td>\n",
       "      <td>float64</td>\n",
       "      <td>The settlement amount as a percentage of the p...</td>\n",
       "    </tr>\n",
       "    <tr>\n",
       "      <th>149</th>\n",
       "      <td>settlement_term</td>\n",
       "      <td>float64</td>\n",
       "      <td>The number of months that the borrower will be...</td>\n",
       "    </tr>\n",
       "  </tbody>\n",
       "</table>\n",
       "</div>"
      ],
      "text/plain": [
       "                        column_name     type  \\\n",
       "140  hardship_payoff_balance_amount  float64   \n",
       "141    hardship_last_payment_amount  float64   \n",
       "142             disbursement_method   object   \n",
       "143            debt_settlement_flag   object   \n",
       "144       debt_settlement_flag_date   object   \n",
       "145               settlement_status   object   \n",
       "146                 settlement_date   object   \n",
       "147               settlement_amount  float64   \n",
       "148           settlement_percentage  float64   \n",
       "149                 settlement_term  float64   \n",
       "\n",
       "                                           description  \n",
       "140  The payoff balance amount as of the hardship p...  \n",
       "141  The last payment amount as of the hardship pla...  \n",
       "142  The method by which the borrower receives thei...  \n",
       "143  Flags whether or not the borrower, who has cha...  \n",
       "144  The most recent date that the Debt_Settlement_...  \n",
       "145  The status of the borrower’s settlement plan. ...  \n",
       "146  The date that the borrower agrees to the settl...  \n",
       "147  The loan amount that the borrower has agreed t...  \n",
       "148  The settlement amount as a percentage of the p...  \n",
       "149  The number of months that the borrower will be...  "
      ]
     },
     "execution_count": 110,
     "metadata": {},
     "output_type": "execute_result"
    }
   ],
   "source": [
    "# Ultimo\n",
    "\n",
    "types_description.loc[140:150]"
   ]
  },
  {
   "cell_type": "code",
   "execution_count": 111,
   "metadata": {},
   "outputs": [
    {
     "data": {
      "text/plain": [
       "array(['N', 'Y'], dtype=object)"
      ]
     },
     "execution_count": 111,
     "metadata": {},
     "output_type": "execute_result"
    }
   ],
   "source": [
    "loans.debt_settlement_flag.unique()"
   ]
  },
  {
   "cell_type": "code",
   "execution_count": 112,
   "metadata": {},
   "outputs": [
    {
     "data": {
      "text/plain": [
       "array([nan, 'Jul-2017', 'Apr-2017', 'Nov-2017', 'Mar-2017', 'Oct-2017',\n",
       "       'Sep-2017', 'Aug-2017', 'Dec-2016', 'Jul-2016', 'Jun-2017',\n",
       "       'Feb-2017', 'Dec-2017', 'Nov-2015', 'Jan-2017', 'Feb-2016',\n",
       "       'Dec-2015', 'Jun-2016', 'Aug-2016', 'May-2016', 'Sep-2016',\n",
       "       'Oct-2016', 'May-2017', 'Apr-2016', 'Sep-2015', 'Mar-2016',\n",
       "       'Jul-2015', 'Nov-2016', 'Jan-2016', 'Jun-2015', 'Aug-2015',\n",
       "       'Oct-2015', 'Mar-2015', 'Feb-2015'], dtype=object)"
      ]
     },
     "execution_count": 112,
     "metadata": {},
     "output_type": "execute_result"
    }
   ],
   "source": [
    "loans.debt_settlement_flag_date.unique()"
   ]
  },
  {
   "cell_type": "code",
   "execution_count": 113,
   "metadata": {},
   "outputs": [
    {
     "data": {
      "text/plain": [
       "array([nan, 'ACTIVE', 'BROKEN', 'COMPLETE'], dtype=object)"
      ]
     },
     "execution_count": 113,
     "metadata": {},
     "output_type": "execute_result"
    }
   ],
   "source": [
    "loans.settlement_status.unique()"
   ]
  },
  {
   "cell_type": "code",
   "execution_count": 114,
   "metadata": {},
   "outputs": [
    {
     "data": {
      "text/plain": [
       "array([nan, 'Jul-2017', 'May-2017', 'Apr-2017', 'Nov-2017', 'Aug-2016',\n",
       "       'Oct-2017', 'Sep-2017', 'Aug-2017', 'Feb-2017', 'Jun-2017',\n",
       "       'Mar-2017', 'Jan-2016', 'Apr-2016', 'Jun-2016', 'Jan-2017',\n",
       "       'Dec-2017', 'Nov-2016', 'Oct-2015', 'Dec-2015', 'Jul-2015',\n",
       "       'Feb-2016', 'Sep-2016', 'Mar-2016', 'Dec-2016', 'Aug-2015',\n",
       "       'Oct-2016', 'Nov-2015', 'Sep-2015', 'May-2016', 'Jul-2016',\n",
       "       'Jun-2015', 'May-2015', 'Mar-2015', 'Apr-2015', 'Feb-2015'],\n",
       "      dtype=object)"
      ]
     },
     "execution_count": 114,
     "metadata": {},
     "output_type": "execute_result"
    }
   ],
   "source": [
    "loans.settlement_date.unique()"
   ]
  },
  {
   "cell_type": "code",
   "execution_count": 115,
   "metadata": {},
   "outputs": [
    {
     "data": {
      "text/plain": [
       "array([nan,  8., 24.,  6.,  0., 14., 12., 16.,  1.,  4., 18.,  9.,  3.,\n",
       "       15., 10.,  7., 22., 17.,  2., 23.,  5., 11., 20., 13., 36.])"
      ]
     },
     "execution_count": 115,
     "metadata": {},
     "output_type": "execute_result"
    }
   ],
   "source": [
    "loans.settlement_term.unique()"
   ]
  },
  {
   "attachments": {},
   "cell_type": "markdown",
   "metadata": {},
   "source": [
    "#### **Justificación de casteos**"
   ]
  },
  {
   "attachments": {},
   "cell_type": "markdown",
   "metadata": {},
   "source": [
    "Cambios al séptimo chunk\n",
    " - los ID no son float, son int. \n",
    " - ZIP code, si son los tres primeros números, no hace sentido tener dos xx al final\n",
    " - Problemas con números de meses siendo ints, pero casteados como float. En la descripción aclara que es número de meses:\n",
    "    - delinq_2yrs\n",
    "    - inq_last_6ths\n",
    "    - mths_since_last_delinq\n",
    "    - mths_since_last_record\n",
    "    - mths_since_last_major_derog\n",
    "    - mo_sin_old_il_acct\n",
    "    - mo_sin_old_rev_tl_op\n",
    "    - mo_sin_rcnt_rev_tl_op\n",
    "    - mo_sin_rcnt_tl\n",
    "    - mths_since_recent_bc\n",
    "    - mths_since_rcnt_il\n",
    "    - mths_since_recent_bc_dlq\n",
    "    - mths_since_recent_inq\n",
    "    - deferral_term\n",
    "    - hardship_length\n",
    "    - settlement_term\n",
    " - Deberían ser unidades no particionables. Además, solo tienen ints (y NaNs en sus columnas)\n",
    "    - open_acc: cuentas abiertas\n",
    "    - pub_rec: número de records\n",
    "    - total_acc: número de líneas de crédito\n",
    "    - collections_12_mths_ex_med: número de colecciones\n",
    "    - bc_open_to_buy: número de tarjetas\n",
    "    - chargeoff_within_12_mths: número de cargos\n",
    "    - num_accts_ever_120_pd: número de cuentas\n",
    "    - num_actv_bc_tl: cuentas\n",
    "    - num_actv_rev_tl: número de cuentas\n",
    "    - num_bc_sats: cuentas de banco\n",
    "    - num_bc_tl: número de cuentas\n",
    "    - num_il_tl: número de cuentas instaladas\n",
    "    - num_op_rev_tl: número de cuentas\n",
    "    - num_rev_accts: número de cuentas\n",
    "    - num_rev_tl_bal_gt_0: número de cuentas\n",
    "    - num_sats: número de cuentas\n",
    "    - num_tl_120dpd_2m: número de cuentas\n",
    "    - num_tl_30dpd: número de cuentas\n",
    "    - num_tl_90g_dpd_24m: número de cuentas\n",
    "    - num_tl_op_past_12m: número de cuentas\n",
    "    - pub_rec_bankruptcies: número de bancarrotas\n",
    "    - tax_liens: número de tax liens\t\n",
    " - Cambio a booleano: directamente escriben 'Y' o 'N'. Es mejor usarlo con True o False.\n",
    "      - hardship_flag\n",
    "      - debt_settlement_flag\n",
    " - Fechas:\n",
    "   - next_pymnt_d\n",
    "   - hardship_start_date\n",
    "   - hardship_end_date\n",
    "   - payment_plan_start_date\n",
    "   - debt_settlement_flag_date\n",
    "   - settlement_date\n",
    " - Cambiar a int, aunque sean columnas llenas de Nan, deberían ser puros 0's, al ser el valor propio para expresar que no han habido casos. Es por eso que on vale borrar la columna. No vale la pena tirarlas. En NaN están bien, pero hace sentido que pronto sean modificadas.\n",
    "    - delinq_2yrs\n",
    "    - last_pymnt_d\n",
    "    - inq_last_6ths\n",
    "    - open_acc_6m\n",
    "    - open_act_il\n",
    "    - open_il_12m\n",
    "    - open_il_24m\n",
    "    - open_rv_12m\n",
    "    - inq_last_12m\n",
    "    - open_rv_24m\n",
    "    - acc_open_past_24mths\n",
    "    - mo_sin_rcnt_tl: número de cuentas\n"
   ]
  },
  {
   "attachments": {},
   "cell_type": "markdown",
   "metadata": {},
   "source": [
    "##### **Convertir a int**"
   ]
  },
  {
   "cell_type": "code",
   "execution_count": 116,
   "metadata": {},
   "outputs": [
    {
     "name": "stdout",
     "output_type": "stream",
     "text": [
      "Error\n"
     ]
    }
   ],
   "source": [
    "# lista de columnas a convertir\n",
    "\n",
    "lista_int = ['member_id', 'open_acc', 'pub_rec', 'total_acc', 'delinq_2yrs', 'inq_last_6ths', 'mths_since_last_delinq', 'mths_since_last_record', 'mths_since_last_major_derog', 'mo_sin_old_il_acct', 'mo_sin_old_rev_tl_op', 'mo_sin_rcnt_rev_tl_op', 'mo_sin_rcnt_tl', 'mths_since_recent_bc',  'mths_since_rcnt_il', 'mths_since_recent_bc_dlq', 'mths_since_recent_inq', 'deferral_term', 'hardship_length', 'settlement_term', 'collections_12_mths_ex_med', 'bc_open_to_buy', 'chargeoff_within_12_mths', 'num_accts_ever_120_pd', 'num_actv_bc_tl', 'num_actv_rev_tl', 'num_bc_sats', 'num_bc_tl', 'num_il_tl', 'num_op_rev_tl', 'num_rev_accts', 'num_rev_tl_bal_gt_0', 'num_sats', 'num_tl_120dpd_2m', 'num_tl_30dpd', 'num_tl_90g_dpd_24m', 'num_tl_op_past_12m', 'pub_rec_bankruptcies', 'tax_liens', 'delinq_2yrs', 'inq_last_6ths', 'open_acc_6m', 'open_act_il', 'open_il_12m', 'open_rv_12m', 'inq_last_12m', 'open_rv_24m', 'acc_open_past_24mths', 'mo_sin_rcnt_tl: número de cuentas']\n",
    "\n",
    "try:\n",
    "    for col in lista_int:\n",
    "        loans[col] = loans[col].astype(int)\n",
    "except:\n",
    "    print(\"Error\")"
   ]
  },
  {
   "attachments": {},
   "cell_type": "markdown",
   "metadata": {},
   "source": [
    "El problema es que int no acepta tipos de valores NaN en una columna. Por lo cual podemos reemplazar los valores o no. En ese sentido, las columnas que habíamos identificado necesitarán ser tratadas posteriormente en el manejo de NaNs. En ese sentido, solo convendría guardar como int la columna de ID, que es un valor infaltable por observación que sabremos no tendrá NaNs."
   ]
  },
  {
   "attachments": {},
   "cell_type": "markdown",
   "metadata": {},
   "source": [
    "##### **Convertir a date**"
   ]
  },
  {
   "cell_type": "code",
   "execution_count": 117,
   "metadata": {},
   "outputs": [
    {
     "data": {
      "text/plain": [
       "dtype('<M8[ns]')"
      ]
     },
     "execution_count": 117,
     "metadata": {},
     "output_type": "execute_result"
    }
   ],
   "source": [
    "loans['last_pymnt_d'] = pd.to_datetime(loans['last_pymnt_d'], format=\"%b-%Y\")\n",
    "loans['last_pymnt_d'].dtype"
   ]
  },
  {
   "cell_type": "code",
   "execution_count": 118,
   "metadata": {},
   "outputs": [
    {
     "data": {
      "text/plain": [
       "dtype('<M8[ns]')"
      ]
     },
     "execution_count": 118,
     "metadata": {},
     "output_type": "execute_result"
    }
   ],
   "source": [
    "\n",
    "loans['next_pymnt_d'] = pd.to_datetime(loans['next_pymnt_d'], format=\"%b-%Y\")\n",
    "loans['next_pymnt_d'].dtype"
   ]
  },
  {
   "cell_type": "code",
   "execution_count": 119,
   "metadata": {},
   "outputs": [
    {
     "data": {
      "text/plain": [
       "dtype('<M8[ns]')"
      ]
     },
     "execution_count": 119,
     "metadata": {},
     "output_type": "execute_result"
    }
   ],
   "source": [
    "loans['hardship_start_date'] = pd.to_datetime(loans['hardship_start_date'], format=\"%b-%Y\")\n",
    "loans['hardship_start_date'].dtype"
   ]
  },
  {
   "cell_type": "code",
   "execution_count": 120,
   "metadata": {},
   "outputs": [
    {
     "data": {
      "text/plain": [
       "dtype('<M8[ns]')"
      ]
     },
     "execution_count": 120,
     "metadata": {},
     "output_type": "execute_result"
    }
   ],
   "source": [
    "loans['hardship_end_date'] = pd.to_datetime(loans['hardship_end_date'], format=\"%b-%Y\")\n",
    "loans['hardship_end_date'].dtype"
   ]
  },
  {
   "cell_type": "code",
   "execution_count": 121,
   "metadata": {},
   "outputs": [
    {
     "data": {
      "text/plain": [
       "dtype('<M8[ns]')"
      ]
     },
     "execution_count": 121,
     "metadata": {},
     "output_type": "execute_result"
    }
   ],
   "source": [
    "loans['payment_plan_start_date'] = pd.to_datetime(loans['payment_plan_start_date'], format=\"%b-%Y\")\n",
    "loans['payment_plan_start_date'].dtype"
   ]
  },
  {
   "cell_type": "code",
   "execution_count": 122,
   "metadata": {},
   "outputs": [
    {
     "data": {
      "text/plain": [
       "dtype('<M8[ns]')"
      ]
     },
     "execution_count": 122,
     "metadata": {},
     "output_type": "execute_result"
    }
   ],
   "source": [
    "loans['debt_settlement_flag_date'] = pd.to_datetime(loans['debt_settlement_flag_date'], format=\"%b-%Y\")\n",
    "loans['debt_settlement_flag_date'].dtype"
   ]
  },
  {
   "cell_type": "code",
   "execution_count": 123,
   "metadata": {},
   "outputs": [
    {
     "data": {
      "text/plain": [
       "dtype('<M8[ns]')"
      ]
     },
     "execution_count": 123,
     "metadata": {},
     "output_type": "execute_result"
    }
   ],
   "source": [
    "loans['settlement_date'] = pd.to_datetime(loans['settlement_date'], format=\"%b-%Y\")\n",
    "loans['settlement_date'].dtype"
   ]
  },
  {
   "attachments": {},
   "cell_type": "markdown",
   "metadata": {},
   "source": [
    "##### **Cambiar los tres primeros dígitos de ZIP**"
   ]
  },
  {
   "cell_type": "code",
   "execution_count": 124,
   "metadata": {},
   "outputs": [],
   "source": [
    "loans[\"zip_code\"] = loans[\"zip_code\"].apply(lambda x: int(x[:-2]))"
   ]
  },
  {
   "attachments": {},
   "cell_type": "markdown",
   "metadata": {},
   "source": [
    "##### **Cambio a booleano**"
   ]
  },
  {
   "cell_type": "code",
   "execution_count": 125,
   "metadata": {},
   "outputs": [],
   "source": [
    "for a in ['hardship_flag', 'debt_settlement_flag']:\n",
    "    loans[a] = loans[a].replace({'Y': True, 'N': False})"
   ]
  },
  {
   "attachments": {},
   "cell_type": "markdown",
   "metadata": {},
   "source": [
    "### **Volver a crear la tabla de tipos de valor**"
   ]
  },
  {
   "cell_type": "code",
   "execution_count": 126,
   "metadata": {},
   "outputs": [
    {
     "data": {
      "text/plain": [
       "id                                int64\n",
       "member_id                       float64\n",
       "loan_amnt                       float64\n",
       "funded_amnt                     float64\n",
       "funded_amnt_inv                 float64\n",
       "                              ...      \n",
       "settlement_status                object\n",
       "settlement_date          datetime64[ns]\n",
       "settlement_amount               float64\n",
       "settlement_percentage           float64\n",
       "settlement_term                 float64\n",
       "Length: 150, dtype: object"
      ]
     },
     "execution_count": 126,
     "metadata": {},
     "output_type": "execute_result"
    }
   ],
   "source": [
    "column_typ = loans.dtypes\n",
    "column_typ"
   ]
  },
  {
   "cell_type": "code",
   "execution_count": 127,
   "metadata": {},
   "outputs": [],
   "source": [
    "tabla_tipos_auxiliar = pd.DataFrame({'column_name': loans.columns, 'type': column_typ})"
   ]
  },
  {
   "attachments": {},
   "cell_type": "markdown",
   "metadata": {},
   "source": [
    "Reescribir"
   ]
  },
  {
   "cell_type": "code",
   "execution_count": 128,
   "metadata": {},
   "outputs": [],
   "source": [
    "types_description = pd.merge(tabla_tipos_auxiliar, datos_dict, on='column_name')"
   ]
  },
  {
   "cell_type": "code",
   "execution_count": 129,
   "metadata": {},
   "outputs": [
    {
     "data": {
      "text/html": [
       "<div>\n",
       "<style scoped>\n",
       "    .dataframe tbody tr th:only-of-type {\n",
       "        vertical-align: middle;\n",
       "    }\n",
       "\n",
       "    .dataframe tbody tr th {\n",
       "        vertical-align: top;\n",
       "    }\n",
       "\n",
       "    .dataframe thead th {\n",
       "        text-align: right;\n",
       "    }\n",
       "</style>\n",
       "<table border=\"1\" class=\"dataframe\">\n",
       "  <thead>\n",
       "    <tr style=\"text-align: right;\">\n",
       "      <th></th>\n",
       "      <th>column_name</th>\n",
       "      <th>type</th>\n",
       "      <th>description</th>\n",
       "    </tr>\n",
       "  </thead>\n",
       "  <tbody>\n",
       "    <tr>\n",
       "      <th>0</th>\n",
       "      <td>id</td>\n",
       "      <td>int64</td>\n",
       "      <td>A unique LC assigned ID for the loan listing.</td>\n",
       "    </tr>\n",
       "    <tr>\n",
       "      <th>1</th>\n",
       "      <td>member_id</td>\n",
       "      <td>float64</td>\n",
       "      <td>A unique LC assigned Id for the borrower member.</td>\n",
       "    </tr>\n",
       "    <tr>\n",
       "      <th>2</th>\n",
       "      <td>loan_amnt</td>\n",
       "      <td>float64</td>\n",
       "      <td>The listed amount of the loan applied for by t...</td>\n",
       "    </tr>\n",
       "    <tr>\n",
       "      <th>3</th>\n",
       "      <td>funded_amnt</td>\n",
       "      <td>float64</td>\n",
       "      <td>The total amount committed to that loan at tha...</td>\n",
       "    </tr>\n",
       "    <tr>\n",
       "      <th>4</th>\n",
       "      <td>funded_amnt_inv</td>\n",
       "      <td>float64</td>\n",
       "      <td>The total amount committed by investors for th...</td>\n",
       "    </tr>\n",
       "    <tr>\n",
       "      <th>...</th>\n",
       "      <td>...</td>\n",
       "      <td>...</td>\n",
       "      <td>...</td>\n",
       "    </tr>\n",
       "    <tr>\n",
       "      <th>145</th>\n",
       "      <td>settlement_status</td>\n",
       "      <td>object</td>\n",
       "      <td>The status of the borrower’s settlement plan. ...</td>\n",
       "    </tr>\n",
       "    <tr>\n",
       "      <th>146</th>\n",
       "      <td>settlement_date</td>\n",
       "      <td>datetime64[ns]</td>\n",
       "      <td>The date that the borrower agrees to the settl...</td>\n",
       "    </tr>\n",
       "    <tr>\n",
       "      <th>147</th>\n",
       "      <td>settlement_amount</td>\n",
       "      <td>float64</td>\n",
       "      <td>The loan amount that the borrower has agreed t...</td>\n",
       "    </tr>\n",
       "    <tr>\n",
       "      <th>148</th>\n",
       "      <td>settlement_percentage</td>\n",
       "      <td>float64</td>\n",
       "      <td>The settlement amount as a percentage of the p...</td>\n",
       "    </tr>\n",
       "    <tr>\n",
       "      <th>149</th>\n",
       "      <td>settlement_term</td>\n",
       "      <td>float64</td>\n",
       "      <td>The number of months that the borrower will be...</td>\n",
       "    </tr>\n",
       "  </tbody>\n",
       "</table>\n",
       "<p>150 rows × 3 columns</p>\n",
       "</div>"
      ],
      "text/plain": [
       "               column_name            type  \\\n",
       "0                       id           int64   \n",
       "1                member_id         float64   \n",
       "2                loan_amnt         float64   \n",
       "3              funded_amnt         float64   \n",
       "4          funded_amnt_inv         float64   \n",
       "..                     ...             ...   \n",
       "145      settlement_status          object   \n",
       "146        settlement_date  datetime64[ns]   \n",
       "147      settlement_amount         float64   \n",
       "148  settlement_percentage         float64   \n",
       "149        settlement_term         float64   \n",
       "\n",
       "                                           description  \n",
       "0        A unique LC assigned ID for the loan listing.  \n",
       "1     A unique LC assigned Id for the borrower member.  \n",
       "2    The listed amount of the loan applied for by t...  \n",
       "3    The total amount committed to that loan at tha...  \n",
       "4    The total amount committed by investors for th...  \n",
       "..                                                 ...  \n",
       "145  The status of the borrower’s settlement plan. ...  \n",
       "146  The date that the borrower agrees to the settl...  \n",
       "147  The loan amount that the borrower has agreed t...  \n",
       "148  The settlement amount as a percentage of the p...  \n",
       "149  The number of months that the borrower will be...  \n",
       "\n",
       "[150 rows x 3 columns]"
      ]
     },
     "execution_count": 129,
     "metadata": {},
     "output_type": "execute_result"
    }
   ],
   "source": [
    "#EL TIPO DE DATOS ESCOGIDO PARA CADA UNA DE LAS COLUMNAS PARECE RAZONABLE, AUNQUE ES CONFUSO ENTENDER CON TODOS LOS \"CHUNKS\" QUE SEPARASTE. -IAN\n",
    "types_description"
   ]
  },
  {
   "attachments": {},
   "cell_type": "markdown",
   "metadata": {},
   "source": [
    "## **Manejo de NaNs o missings**"
   ]
  },
  {
   "attachments": {},
   "cell_type": "markdown",
   "metadata": {},
   "source": [
    "Maneja los datos de tipos missing. Elije una estrategia adecuada dependiendo del tipo de dato que le asignaste a la columna.\n"
   ]
  },
  {
   "attachments": {},
   "cell_type": "markdown",
   "metadata": {},
   "source": [
    "Crea codigo para **guardar** y **cargar** un archivo JSON en el que se guarde la `estrategia` y `valor` que utilizaste para **imputar**. Por ejemplo: Si hay una columna que se llama `columna 3` y utilizaste la estrategia de imputacion de media, y existe otra llamada `columna 4` y  elegiste la palabra 'missing' el JSON debera contener:  \n",
    "  \n",
    " `{'columna 3':{'estrategia':'mean', 'valor':3.4}, 'columna 4':{'estrategia':'identificador', 'valor':'missing'}}`  \n",
    "\n",
    " De tal manera que para cada columna que tenga un metodo de imputacion apunte a otro diccionario donde el **key** `estrategia` describa de manera sencilla el metodo, y el **key** `valor` el valor usado. En general:   \n",
    " `{'nombre de la columna':{'estrategia':'descripcion de estrategia', 'valor':'valor utilizado'}}`. \n",
    " \n",
    "\n",
    "De utilizar mas de un metodo puedes anidarlos en una lista  \n",
    "  `[{...},{...}]`.  \n",
    "\n",
    "Incluso si la columna utilizada no sufrio imputacion, es necesario que la agregues al JSON.\n",
    "\n",
    "La idea es que cualquier otra persona pueda cargar el el archivo JSON con tu funcion, entender que hiciste y replicarlo facilmente. No existe solo una respuesta correcta, pero tendras que justificar y explicar tus deciciones."
   ]
  },
  {
   "attachments": {},
   "cell_type": "markdown",
   "metadata": {},
   "source": [
    "### Búsqueda de NaNs"
   ]
  },
  {
   "attachments": {},
   "cell_type": "markdown",
   "metadata": {},
   "source": [
    "Puros NaNs"
   ]
  },
  {
   "cell_type": "code",
   "execution_count": 130,
   "metadata": {},
   "outputs": [],
   "source": [
    "loans_full_nulls = loans.columns[loans.isna().all()]\n"
   ]
  },
  {
   "cell_type": "code",
   "execution_count": 131,
   "metadata": {},
   "outputs": [
    {
     "data": {
      "text/plain": [
       "Index(['member_id', 'annual_inc_joint', 'dti_joint',\n",
       "       'verification_status_joint', 'open_acc_6m', 'open_act_il',\n",
       "       'open_il_12m', 'open_il_24m', 'mths_since_rcnt_il', 'total_bal_il',\n",
       "       'il_util', 'open_rv_12m', 'open_rv_24m', 'max_bal_bc', 'all_util',\n",
       "       'inq_fi', 'total_cu_tl', 'inq_last_12m', 'revol_bal_joint',\n",
       "       'sec_app_fico_range_low', 'sec_app_fico_range_high',\n",
       "       'sec_app_earliest_cr_line', 'sec_app_inq_last_6mths',\n",
       "       'sec_app_mort_acc', 'sec_app_open_acc', 'sec_app_revol_util',\n",
       "       'sec_app_open_act_il', 'sec_app_num_rev_accts',\n",
       "       'sec_app_chargeoff_within_12_mths',\n",
       "       'sec_app_collections_12_mths_ex_med',\n",
       "       'sec_app_mths_since_last_major_derog'],\n",
       "      dtype='object')"
      ]
     },
     "execution_count": 131,
     "metadata": {},
     "output_type": "execute_result"
    }
   ],
   "source": [
    "loans_full_nulls"
   ]
  },
  {
   "cell_type": "code",
   "execution_count": 132,
   "metadata": {},
   "outputs": [],
   "source": [
    "loans_any_nulls = loans.columns[(loans.isna().any()) & (~loans.isna().all())]\n"
   ]
  },
  {
   "cell_type": "code",
   "execution_count": 133,
   "metadata": {},
   "outputs": [
    {
     "data": {
      "text/plain": [
       "Index(['emp_title', 'emp_length', 'desc', 'mths_since_last_delinq',\n",
       "       'mths_since_last_record', 'revol_util', 'last_pymnt_d', 'next_pymnt_d',\n",
       "       'last_credit_pull_d', 'mths_since_last_major_derog', 'bc_open_to_buy',\n",
       "       'bc_util', 'mo_sin_old_il_acct', 'mths_since_recent_bc',\n",
       "       'mths_since_recent_bc_dlq', 'mths_since_recent_inq',\n",
       "       'mths_since_recent_revol_delinq', 'num_tl_120dpd_2m',\n",
       "       'percent_bc_gt_75', 'hardship_type', 'hardship_reason',\n",
       "       'hardship_status', 'deferral_term', 'hardship_amount',\n",
       "       'hardship_start_date', 'hardship_end_date', 'payment_plan_start_date',\n",
       "       'hardship_length', 'hardship_dpd', 'hardship_loan_status',\n",
       "       'orig_projected_additional_accrued_interest',\n",
       "       'hardship_payoff_balance_amount', 'hardship_last_payment_amount',\n",
       "       'debt_settlement_flag_date', 'settlement_status', 'settlement_date',\n",
       "       'settlement_amount', 'settlement_percentage', 'settlement_term'],\n",
       "      dtype='object')"
      ]
     },
     "execution_count": 133,
     "metadata": {},
     "output_type": "execute_result"
    }
   ],
   "source": [
    "loans_any_nulls"
   ]
  },
  {
   "cell_type": "code",
   "execution_count": 134,
   "metadata": {},
   "outputs": [
    {
     "name": "stdout",
     "output_type": "stream",
     "text": [
      "Existen 70 columnas con nulls. De estas, 31 son solo nulls.\n"
     ]
    }
   ],
   "source": [
    "print(\"Existen \" + str(len(loans_any_nulls) + len(loans_full_nulls)) + \" columnas con nulls. De estas, \" + str(len(loans_full_nulls)) + \" son solo nulls.\")"
   ]
  },
  {
   "attachments": {},
   "cell_type": "markdown",
   "metadata": {},
   "source": [
    "Buscar de solo nans en la descripciones y tipos de datos para decidir."
   ]
  },
  {
   "cell_type": "code",
   "execution_count": 135,
   "metadata": {},
   "outputs": [],
   "source": [
    "pd.options.display.max_colwidth = 160"
   ]
  },
  {
   "cell_type": "code",
   "execution_count": 136,
   "metadata": {},
   "outputs": [
    {
     "data": {
      "text/html": [
       "<div>\n",
       "<style scoped>\n",
       "    .dataframe tbody tr th:only-of-type {\n",
       "        vertical-align: middle;\n",
       "    }\n",
       "\n",
       "    .dataframe tbody tr th {\n",
       "        vertical-align: top;\n",
       "    }\n",
       "\n",
       "    .dataframe thead th {\n",
       "        text-align: right;\n",
       "    }\n",
       "</style>\n",
       "<table border=\"1\" class=\"dataframe\">\n",
       "  <thead>\n",
       "    <tr style=\"text-align: right;\">\n",
       "      <th></th>\n",
       "      <th>column_name</th>\n",
       "      <th>type</th>\n",
       "      <th>description</th>\n",
       "    </tr>\n",
       "  </thead>\n",
       "  <tbody>\n",
       "    <tr>\n",
       "      <th>1</th>\n",
       "      <td>member_id</td>\n",
       "      <td>float64</td>\n",
       "      <td>A unique LC assigned Id for the borrower member.</td>\n",
       "    </tr>\n",
       "    <tr>\n",
       "      <th>56</th>\n",
       "      <td>annual_inc_joint</td>\n",
       "      <td>float64</td>\n",
       "      <td>The combined self-reported annual income provided by the co-borrowers during registration</td>\n",
       "    </tr>\n",
       "    <tr>\n",
       "      <th>57</th>\n",
       "      <td>dti_joint</td>\n",
       "      <td>float64</td>\n",
       "      <td>A ratio calculated using the co-borrowers' total monthly payments on the total debt obligations, excluding mortgages and the requested LC loan, divided by t...</td>\n",
       "    </tr>\n",
       "    <tr>\n",
       "      <th>58</th>\n",
       "      <td>verification_status_joint</td>\n",
       "      <td>float64</td>\n",
       "      <td>Indicates if the co-borrowers' joint income was verified by LC, not verified, or if the income source was verified</td>\n",
       "    </tr>\n",
       "    <tr>\n",
       "      <th>62</th>\n",
       "      <td>open_acc_6m</td>\n",
       "      <td>float64</td>\n",
       "      <td>Number of open trades in last 6 months</td>\n",
       "    </tr>\n",
       "    <tr>\n",
       "      <th>63</th>\n",
       "      <td>open_act_il</td>\n",
       "      <td>float64</td>\n",
       "      <td>Number of currently active installment trades</td>\n",
       "    </tr>\n",
       "    <tr>\n",
       "      <th>64</th>\n",
       "      <td>open_il_12m</td>\n",
       "      <td>float64</td>\n",
       "      <td>Number of installment accounts opened in past 12 months</td>\n",
       "    </tr>\n",
       "    <tr>\n",
       "      <th>65</th>\n",
       "      <td>open_il_24m</td>\n",
       "      <td>float64</td>\n",
       "      <td>Number of installment accounts opened in past 24 months</td>\n",
       "    </tr>\n",
       "    <tr>\n",
       "      <th>66</th>\n",
       "      <td>mths_since_rcnt_il</td>\n",
       "      <td>float64</td>\n",
       "      <td>Months since most recent installment accounts opened</td>\n",
       "    </tr>\n",
       "    <tr>\n",
       "      <th>67</th>\n",
       "      <td>total_bal_il</td>\n",
       "      <td>float64</td>\n",
       "      <td>Total current balance of all installment accounts</td>\n",
       "    </tr>\n",
       "    <tr>\n",
       "      <th>68</th>\n",
       "      <td>il_util</td>\n",
       "      <td>float64</td>\n",
       "      <td>Ratio of total current balance to high credit/credit limit on all install acct</td>\n",
       "    </tr>\n",
       "    <tr>\n",
       "      <th>69</th>\n",
       "      <td>open_rv_12m</td>\n",
       "      <td>float64</td>\n",
       "      <td>Number of revolving trades opened in past 12 months</td>\n",
       "    </tr>\n",
       "    <tr>\n",
       "      <th>70</th>\n",
       "      <td>open_rv_24m</td>\n",
       "      <td>float64</td>\n",
       "      <td>Number of revolving trades opened in past 24 months</td>\n",
       "    </tr>\n",
       "    <tr>\n",
       "      <th>71</th>\n",
       "      <td>max_bal_bc</td>\n",
       "      <td>float64</td>\n",
       "      <td>Maximum current balance owed on all revolving accounts</td>\n",
       "    </tr>\n",
       "    <tr>\n",
       "      <th>72</th>\n",
       "      <td>all_util</td>\n",
       "      <td>float64</td>\n",
       "      <td>Balance to credit limit on all trades</td>\n",
       "    </tr>\n",
       "    <tr>\n",
       "      <th>74</th>\n",
       "      <td>inq_fi</td>\n",
       "      <td>float64</td>\n",
       "      <td>Number of personal finance inquiries</td>\n",
       "    </tr>\n",
       "    <tr>\n",
       "      <th>75</th>\n",
       "      <td>total_cu_tl</td>\n",
       "      <td>float64</td>\n",
       "      <td>Number of finance trades</td>\n",
       "    </tr>\n",
       "    <tr>\n",
       "      <th>76</th>\n",
       "      <td>inq_last_12m</td>\n",
       "      <td>float64</td>\n",
       "      <td>Number of credit inquiries in past 12 months</td>\n",
       "    </tr>\n",
       "    <tr>\n",
       "      <th>114</th>\n",
       "      <td>revol_bal_joint</td>\n",
       "      <td>float64</td>\n",
       "      <td>Sum of revolving credit balance of the co-borrowers, net of duplicate balances</td>\n",
       "    </tr>\n",
       "    <tr>\n",
       "      <th>115</th>\n",
       "      <td>sec_app_fico_range_low</td>\n",
       "      <td>float64</td>\n",
       "      <td>FICO range (high) for the secondary applicant</td>\n",
       "    </tr>\n",
       "    <tr>\n",
       "      <th>116</th>\n",
       "      <td>sec_app_fico_range_high</td>\n",
       "      <td>float64</td>\n",
       "      <td>FICO range (low) for the secondary applicant</td>\n",
       "    </tr>\n",
       "    <tr>\n",
       "      <th>117</th>\n",
       "      <td>sec_app_earliest_cr_line</td>\n",
       "      <td>float64</td>\n",
       "      <td>Earliest credit line at time of application for the secondary applicant</td>\n",
       "    </tr>\n",
       "    <tr>\n",
       "      <th>118</th>\n",
       "      <td>sec_app_inq_last_6mths</td>\n",
       "      <td>float64</td>\n",
       "      <td>Credit inquiries in the last 6 months at time of application for the secondary applicant</td>\n",
       "    </tr>\n",
       "    <tr>\n",
       "      <th>119</th>\n",
       "      <td>sec_app_mort_acc</td>\n",
       "      <td>float64</td>\n",
       "      <td>Number of mortgage accounts at time of application for the secondary applicant</td>\n",
       "    </tr>\n",
       "    <tr>\n",
       "      <th>120</th>\n",
       "      <td>sec_app_open_acc</td>\n",
       "      <td>float64</td>\n",
       "      <td>Number of open trades at time of application for the secondary applicant</td>\n",
       "    </tr>\n",
       "    <tr>\n",
       "      <th>121</th>\n",
       "      <td>sec_app_revol_util</td>\n",
       "      <td>float64</td>\n",
       "      <td>Ratio of total current balance to high credit/credit limit for all revolving accounts</td>\n",
       "    </tr>\n",
       "    <tr>\n",
       "      <th>122</th>\n",
       "      <td>sec_app_open_act_il</td>\n",
       "      <td>float64</td>\n",
       "      <td>Number of currently active installment trades at time of application for the secondary applicant</td>\n",
       "    </tr>\n",
       "    <tr>\n",
       "      <th>123</th>\n",
       "      <td>sec_app_num_rev_accts</td>\n",
       "      <td>float64</td>\n",
       "      <td>Number of revolving accounts at time of application for the secondary applicant</td>\n",
       "    </tr>\n",
       "    <tr>\n",
       "      <th>124</th>\n",
       "      <td>sec_app_chargeoff_within_12_mths</td>\n",
       "      <td>float64</td>\n",
       "      <td>Number of charge-offs within last 12 months at time of application for the secondary applicant</td>\n",
       "    </tr>\n",
       "    <tr>\n",
       "      <th>125</th>\n",
       "      <td>sec_app_collections_12_mths_ex_med</td>\n",
       "      <td>float64</td>\n",
       "      <td>Number of collections within last 12 months excluding medical collections at time of application for the secondary applicant</td>\n",
       "    </tr>\n",
       "    <tr>\n",
       "      <th>126</th>\n",
       "      <td>sec_app_mths_since_last_major_derog</td>\n",
       "      <td>float64</td>\n",
       "      <td>Months since most recent 90-day or worse rating at time of application for the secondary applicant</td>\n",
       "    </tr>\n",
       "  </tbody>\n",
       "</table>\n",
       "</div>"
      ],
      "text/plain": [
       "                             column_name     type  \\\n",
       "1                              member_id  float64   \n",
       "56                      annual_inc_joint  float64   \n",
       "57                             dti_joint  float64   \n",
       "58             verification_status_joint  float64   \n",
       "62                           open_acc_6m  float64   \n",
       "63                           open_act_il  float64   \n",
       "64                           open_il_12m  float64   \n",
       "65                           open_il_24m  float64   \n",
       "66                    mths_since_rcnt_il  float64   \n",
       "67                          total_bal_il  float64   \n",
       "68                               il_util  float64   \n",
       "69                           open_rv_12m  float64   \n",
       "70                           open_rv_24m  float64   \n",
       "71                            max_bal_bc  float64   \n",
       "72                              all_util  float64   \n",
       "74                                inq_fi  float64   \n",
       "75                           total_cu_tl  float64   \n",
       "76                          inq_last_12m  float64   \n",
       "114                      revol_bal_joint  float64   \n",
       "115               sec_app_fico_range_low  float64   \n",
       "116              sec_app_fico_range_high  float64   \n",
       "117             sec_app_earliest_cr_line  float64   \n",
       "118               sec_app_inq_last_6mths  float64   \n",
       "119                     sec_app_mort_acc  float64   \n",
       "120                     sec_app_open_acc  float64   \n",
       "121                   sec_app_revol_util  float64   \n",
       "122                  sec_app_open_act_il  float64   \n",
       "123                sec_app_num_rev_accts  float64   \n",
       "124     sec_app_chargeoff_within_12_mths  float64   \n",
       "125   sec_app_collections_12_mths_ex_med  float64   \n",
       "126  sec_app_mths_since_last_major_derog  float64   \n",
       "\n",
       "                                                                                                                                                         description  \n",
       "1                                                                                                                   A unique LC assigned Id for the borrower member.  \n",
       "56                                                                         The combined self-reported annual income provided by the co-borrowers during registration  \n",
       "57   A ratio calculated using the co-borrowers' total monthly payments on the total debt obligations, excluding mortgages and the requested LC loan, divided by t...  \n",
       "58                                                Indicates if the co-borrowers' joint income was verified by LC, not verified, or if the income source was verified  \n",
       "62                                                                                                                            Number of open trades in last 6 months  \n",
       "63                                                                                                                     Number of currently active installment trades  \n",
       "64                                                                                                           Number of installment accounts opened in past 12 months  \n",
       "65                                                                                                           Number of installment accounts opened in past 24 months  \n",
       "66                                                                                                              Months since most recent installment accounts opened  \n",
       "67                                                                                                                 Total current balance of all installment accounts  \n",
       "68                                                                                    Ratio of total current balance to high credit/credit limit on all install acct  \n",
       "69                                                                                                               Number of revolving trades opened in past 12 months  \n",
       "70                                                                                                               Number of revolving trades opened in past 24 months  \n",
       "71                                                                                                            Maximum current balance owed on all revolving accounts  \n",
       "72                                                                                                                             Balance to credit limit on all trades  \n",
       "74                                                                                                                              Number of personal finance inquiries  \n",
       "75                                                                                                                                          Number of finance trades  \n",
       "76                                                                                                                      Number of credit inquiries in past 12 months  \n",
       "114                                                                                   Sum of revolving credit balance of the co-borrowers, net of duplicate balances  \n",
       "115                                                                                                                    FICO range (high) for the secondary applicant  \n",
       "116                                                                                                                     FICO range (low) for the secondary applicant  \n",
       "117                                                                                          Earliest credit line at time of application for the secondary applicant  \n",
       "118                                                                         Credit inquiries in the last 6 months at time of application for the secondary applicant  \n",
       "119                                                                                   Number of mortgage accounts at time of application for the secondary applicant  \n",
       "120                                                                                         Number of open trades at time of application for the secondary applicant  \n",
       "121                                                                            Ratio of total current balance to high credit/credit limit for all revolving accounts  \n",
       "122                                                                 Number of currently active installment trades at time of application for the secondary applicant  \n",
       "123                                                                                  Number of revolving accounts at time of application for the secondary applicant  \n",
       "124                                                                   Number of charge-offs within last 12 months at time of application for the secondary applicant  \n",
       "125                                     Number of collections within last 12 months excluding medical collections at time of application for the secondary applicant  \n",
       "126                                                               Months since most recent 90-day or worse rating at time of application for the secondary applicant  "
      ]
     },
     "execution_count": 136,
     "metadata": {},
     "output_type": "execute_result"
    }
   ],
   "source": [
    "types_description[types_description.column_name.isin(loans_full_nulls.values)]"
   ]
  },
  {
   "cell_type": "code",
   "execution_count": 137,
   "metadata": {},
   "outputs": [
    {
     "data": {
      "text/html": [
       "<div>\n",
       "<style scoped>\n",
       "    .dataframe tbody tr th:only-of-type {\n",
       "        vertical-align: middle;\n",
       "    }\n",
       "\n",
       "    .dataframe tbody tr th {\n",
       "        vertical-align: top;\n",
       "    }\n",
       "\n",
       "    .dataframe thead th {\n",
       "        text-align: right;\n",
       "    }\n",
       "</style>\n",
       "<table border=\"1\" class=\"dataframe\">\n",
       "  <thead>\n",
       "    <tr style=\"text-align: right;\">\n",
       "      <th></th>\n",
       "      <th>column_name</th>\n",
       "      <th>type</th>\n",
       "      <th>description</th>\n",
       "    </tr>\n",
       "  </thead>\n",
       "  <tbody>\n",
       "    <tr>\n",
       "      <th>10</th>\n",
       "      <td>emp_title</td>\n",
       "      <td>object</td>\n",
       "      <td>The job title supplied by the Borrower when applying for the loan.*</td>\n",
       "    </tr>\n",
       "    <tr>\n",
       "      <th>11</th>\n",
       "      <td>emp_length</td>\n",
       "      <td>object</td>\n",
       "      <td>Employment length in years. Possible values are between 0 and 10 where 0 means less than one year and 10 means ten or more years.</td>\n",
       "    </tr>\n",
       "    <tr>\n",
       "      <th>18</th>\n",
       "      <td>desc</td>\n",
       "      <td>object</td>\n",
       "      <td>Loan description provided by the borrower</td>\n",
       "    </tr>\n",
       "    <tr>\n",
       "      <th>29</th>\n",
       "      <td>mths_since_last_delinq</td>\n",
       "      <td>float64</td>\n",
       "      <td>The number of months since the borrower's last delinquency.</td>\n",
       "    </tr>\n",
       "    <tr>\n",
       "      <th>30</th>\n",
       "      <td>mths_since_last_record</td>\n",
       "      <td>float64</td>\n",
       "      <td>The number of months since the last public record.</td>\n",
       "    </tr>\n",
       "    <tr>\n",
       "      <th>34</th>\n",
       "      <td>revol_util</td>\n",
       "      <td>float64</td>\n",
       "      <td>Revolving line utilization rate, or the amount of credit the borrower is using relative to all available revolving credit.</td>\n",
       "    </tr>\n",
       "    <tr>\n",
       "      <th>46</th>\n",
       "      <td>last_pymnt_d</td>\n",
       "      <td>datetime64[ns]</td>\n",
       "      <td>Last month payment was received</td>\n",
       "    </tr>\n",
       "    <tr>\n",
       "      <th>48</th>\n",
       "      <td>next_pymnt_d</td>\n",
       "      <td>datetime64[ns]</td>\n",
       "      <td>Next scheduled payment date</td>\n",
       "    </tr>\n",
       "    <tr>\n",
       "      <th>49</th>\n",
       "      <td>last_credit_pull_d</td>\n",
       "      <td>object</td>\n",
       "      <td>The most recent month LC pulled credit for this loan</td>\n",
       "    </tr>\n",
       "    <tr>\n",
       "      <th>53</th>\n",
       "      <td>mths_since_last_major_derog</td>\n",
       "      <td>float64</td>\n",
       "      <td>Months since most recent 90-day or worse rating</td>\n",
       "    </tr>\n",
       "    <tr>\n",
       "      <th>79</th>\n",
       "      <td>bc_open_to_buy</td>\n",
       "      <td>float64</td>\n",
       "      <td>Total open to buy on revolving bankcards.</td>\n",
       "    </tr>\n",
       "    <tr>\n",
       "      <th>80</th>\n",
       "      <td>bc_util</td>\n",
       "      <td>float64</td>\n",
       "      <td>Ratio of total current balance to high credit/credit limit for all bankcard accounts.</td>\n",
       "    </tr>\n",
       "    <tr>\n",
       "      <th>83</th>\n",
       "      <td>mo_sin_old_il_acct</td>\n",
       "      <td>float64</td>\n",
       "      <td>Months since oldest bank installment account opened</td>\n",
       "    </tr>\n",
       "    <tr>\n",
       "      <th>88</th>\n",
       "      <td>mths_since_recent_bc</td>\n",
       "      <td>float64</td>\n",
       "      <td>Months since most recent bankcard account opened.</td>\n",
       "    </tr>\n",
       "    <tr>\n",
       "      <th>89</th>\n",
       "      <td>mths_since_recent_bc_dlq</td>\n",
       "      <td>float64</td>\n",
       "      <td>Months since most recent bankcard delinquency</td>\n",
       "    </tr>\n",
       "    <tr>\n",
       "      <th>90</th>\n",
       "      <td>mths_since_recent_inq</td>\n",
       "      <td>float64</td>\n",
       "      <td>Months since most recent inquiry.</td>\n",
       "    </tr>\n",
       "    <tr>\n",
       "      <th>91</th>\n",
       "      <td>mths_since_recent_revol_delinq</td>\n",
       "      <td>float64</td>\n",
       "      <td>Months since most recent revolving delinquency.</td>\n",
       "    </tr>\n",
       "    <tr>\n",
       "      <th>102</th>\n",
       "      <td>num_tl_120dpd_2m</td>\n",
       "      <td>float64</td>\n",
       "      <td>Number of accounts currently 120 days past due (updated in past 2 months)</td>\n",
       "    </tr>\n",
       "    <tr>\n",
       "      <th>107</th>\n",
       "      <td>percent_bc_gt_75</td>\n",
       "      <td>float64</td>\n",
       "      <td>Percentage of all bankcard accounts &gt; 75% of limit.</td>\n",
       "    </tr>\n",
       "    <tr>\n",
       "      <th>128</th>\n",
       "      <td>hardship_type</td>\n",
       "      <td>object</td>\n",
       "      <td>Describes the hardship plan offering</td>\n",
       "    </tr>\n",
       "    <tr>\n",
       "      <th>129</th>\n",
       "      <td>hardship_reason</td>\n",
       "      <td>object</td>\n",
       "      <td>Describes the reason the hardship plan was offered</td>\n",
       "    </tr>\n",
       "    <tr>\n",
       "      <th>130</th>\n",
       "      <td>hardship_status</td>\n",
       "      <td>object</td>\n",
       "      <td>Describes if the hardship plan is active, pending, canceled, completed, or broken</td>\n",
       "    </tr>\n",
       "    <tr>\n",
       "      <th>131</th>\n",
       "      <td>deferral_term</td>\n",
       "      <td>float64</td>\n",
       "      <td>Amount of months that the borrower is expected to pay less than the contractual monthly payment amount due to a hardship plan</td>\n",
       "    </tr>\n",
       "    <tr>\n",
       "      <th>132</th>\n",
       "      <td>hardship_amount</td>\n",
       "      <td>float64</td>\n",
       "      <td>The interest payment that the borrower has committed to make each month while they are on a hardship plan</td>\n",
       "    </tr>\n",
       "    <tr>\n",
       "      <th>133</th>\n",
       "      <td>hardship_start_date</td>\n",
       "      <td>datetime64[ns]</td>\n",
       "      <td>The start date of the hardship plan period</td>\n",
       "    </tr>\n",
       "    <tr>\n",
       "      <th>134</th>\n",
       "      <td>hardship_end_date</td>\n",
       "      <td>datetime64[ns]</td>\n",
       "      <td>The end date of the hardship plan period</td>\n",
       "    </tr>\n",
       "    <tr>\n",
       "      <th>135</th>\n",
       "      <td>payment_plan_start_date</td>\n",
       "      <td>datetime64[ns]</td>\n",
       "      <td>The day the first hardship plan payment is due. For example, if a borrower has a hardship plan period of 3 months, the start date is the start of the three-...</td>\n",
       "    </tr>\n",
       "    <tr>\n",
       "      <th>136</th>\n",
       "      <td>hardship_length</td>\n",
       "      <td>float64</td>\n",
       "      <td>The number of months the borrower will make smaller payments than normally obligated due to a hardship plan</td>\n",
       "    </tr>\n",
       "    <tr>\n",
       "      <th>137</th>\n",
       "      <td>hardship_dpd</td>\n",
       "      <td>float64</td>\n",
       "      <td>Account days past due as of the hardship plan start date</td>\n",
       "    </tr>\n",
       "    <tr>\n",
       "      <th>138</th>\n",
       "      <td>hardship_loan_status</td>\n",
       "      <td>object</td>\n",
       "      <td>Loan Status as of the hardship plan start date</td>\n",
       "    </tr>\n",
       "    <tr>\n",
       "      <th>139</th>\n",
       "      <td>orig_projected_additional_accrued_interest</td>\n",
       "      <td>float64</td>\n",
       "      <td>The original projected additional interest amount that will accrue for the given hardship payment plan as of the Hardship Start Date. This field will be nul...</td>\n",
       "    </tr>\n",
       "    <tr>\n",
       "      <th>140</th>\n",
       "      <td>hardship_payoff_balance_amount</td>\n",
       "      <td>float64</td>\n",
       "      <td>The payoff balance amount as of the hardship plan start date</td>\n",
       "    </tr>\n",
       "    <tr>\n",
       "      <th>141</th>\n",
       "      <td>hardship_last_payment_amount</td>\n",
       "      <td>float64</td>\n",
       "      <td>The last payment amount as of the hardship plan start date</td>\n",
       "    </tr>\n",
       "    <tr>\n",
       "      <th>144</th>\n",
       "      <td>debt_settlement_flag_date</td>\n",
       "      <td>datetime64[ns]</td>\n",
       "      <td>The most recent date that the Debt_Settlement_Flag has been set</td>\n",
       "    </tr>\n",
       "    <tr>\n",
       "      <th>145</th>\n",
       "      <td>settlement_status</td>\n",
       "      <td>object</td>\n",
       "      <td>The status of the borrower’s settlement plan. Possible values are: COMPLETE, ACTIVE, BROKEN, CANCELLED, DENIED, DRAFT</td>\n",
       "    </tr>\n",
       "    <tr>\n",
       "      <th>146</th>\n",
       "      <td>settlement_date</td>\n",
       "      <td>datetime64[ns]</td>\n",
       "      <td>The date that the borrower agrees to the settlement plan</td>\n",
       "    </tr>\n",
       "    <tr>\n",
       "      <th>147</th>\n",
       "      <td>settlement_amount</td>\n",
       "      <td>float64</td>\n",
       "      <td>The loan amount that the borrower has agreed to settle for</td>\n",
       "    </tr>\n",
       "    <tr>\n",
       "      <th>148</th>\n",
       "      <td>settlement_percentage</td>\n",
       "      <td>float64</td>\n",
       "      <td>The settlement amount as a percentage of the payoff balance amount on the loan</td>\n",
       "    </tr>\n",
       "    <tr>\n",
       "      <th>149</th>\n",
       "      <td>settlement_term</td>\n",
       "      <td>float64</td>\n",
       "      <td>The number of months that the borrower will be on the settlement plan</td>\n",
       "    </tr>\n",
       "  </tbody>\n",
       "</table>\n",
       "</div>"
      ],
      "text/plain": [
       "                                    column_name            type  \\\n",
       "10                                    emp_title          object   \n",
       "11                                   emp_length          object   \n",
       "18                                         desc          object   \n",
       "29                       mths_since_last_delinq         float64   \n",
       "30                       mths_since_last_record         float64   \n",
       "34                                   revol_util         float64   \n",
       "46                                 last_pymnt_d  datetime64[ns]   \n",
       "48                                 next_pymnt_d  datetime64[ns]   \n",
       "49                           last_credit_pull_d          object   \n",
       "53                  mths_since_last_major_derog         float64   \n",
       "79                               bc_open_to_buy         float64   \n",
       "80                                      bc_util         float64   \n",
       "83                           mo_sin_old_il_acct         float64   \n",
       "88                         mths_since_recent_bc         float64   \n",
       "89                     mths_since_recent_bc_dlq         float64   \n",
       "90                        mths_since_recent_inq         float64   \n",
       "91               mths_since_recent_revol_delinq         float64   \n",
       "102                            num_tl_120dpd_2m         float64   \n",
       "107                            percent_bc_gt_75         float64   \n",
       "128                               hardship_type          object   \n",
       "129                             hardship_reason          object   \n",
       "130                             hardship_status          object   \n",
       "131                               deferral_term         float64   \n",
       "132                             hardship_amount         float64   \n",
       "133                         hardship_start_date  datetime64[ns]   \n",
       "134                           hardship_end_date  datetime64[ns]   \n",
       "135                     payment_plan_start_date  datetime64[ns]   \n",
       "136                             hardship_length         float64   \n",
       "137                                hardship_dpd         float64   \n",
       "138                        hardship_loan_status          object   \n",
       "139  orig_projected_additional_accrued_interest         float64   \n",
       "140              hardship_payoff_balance_amount         float64   \n",
       "141                hardship_last_payment_amount         float64   \n",
       "144                   debt_settlement_flag_date  datetime64[ns]   \n",
       "145                           settlement_status          object   \n",
       "146                             settlement_date  datetime64[ns]   \n",
       "147                           settlement_amount         float64   \n",
       "148                       settlement_percentage         float64   \n",
       "149                             settlement_term         float64   \n",
       "\n",
       "                                                                                                                                                         description  \n",
       "10                                                                                               The job title supplied by the Borrower when applying for the loan.*  \n",
       "11                                Employment length in years. Possible values are between 0 and 10 where 0 means less than one year and 10 means ten or more years.   \n",
       "18                                                                                                                         Loan description provided by the borrower  \n",
       "29                                                                                                       The number of months since the borrower's last delinquency.  \n",
       "30                                                                                                                The number of months since the last public record.  \n",
       "34                                        Revolving line utilization rate, or the amount of credit the borrower is using relative to all available revolving credit.  \n",
       "46                                                                                                                                   Last month payment was received  \n",
       "48                                                                                                                                       Next scheduled payment date  \n",
       "49                                                                                                              The most recent month LC pulled credit for this loan  \n",
       "53                                                                                                                   Months since most recent 90-day or worse rating  \n",
       "79                                                                                                                         Total open to buy on revolving bankcards.  \n",
       "80                                                                             Ratio of total current balance to high credit/credit limit for all bankcard accounts.  \n",
       "83                                                                                                               Months since oldest bank installment account opened  \n",
       "88                                                                                                                 Months since most recent bankcard account opened.  \n",
       "89                                                                                                                     Months since most recent bankcard delinquency  \n",
       "90                                                                                                                                 Months since most recent inquiry.  \n",
       "91                                                                                                                   Months since most recent revolving delinquency.  \n",
       "102                                                                                        Number of accounts currently 120 days past due (updated in past 2 months)  \n",
       "107                                                                                                              Percentage of all bankcard accounts > 75% of limit.  \n",
       "128                                                                                                                             Describes the hardship plan offering  \n",
       "129                                                                                                               Describes the reason the hardship plan was offered  \n",
       "130                                                                                Describes if the hardship plan is active, pending, canceled, completed, or broken  \n",
       "131                                    Amount of months that the borrower is expected to pay less than the contractual monthly payment amount due to a hardship plan  \n",
       "132                                                        The interest payment that the borrower has committed to make each month while they are on a hardship plan  \n",
       "133                                                                                                                       The start date of the hardship plan period  \n",
       "134                                                                                                                         The end date of the hardship plan period  \n",
       "135  The day the first hardship plan payment is due. For example, if a borrower has a hardship plan period of 3 months, the start date is the start of the three-...  \n",
       "136                                                      The number of months the borrower will make smaller payments than normally obligated due to a hardship plan  \n",
       "137                                                                                                         Account days past due as of the hardship plan start date  \n",
       "138                                                                                                                   Loan Status as of the hardship plan start date  \n",
       "139  The original projected additional interest amount that will accrue for the given hardship payment plan as of the Hardship Start Date. This field will be nul...  \n",
       "140                                                                                                     The payoff balance amount as of the hardship plan start date  \n",
       "141                                                                                                       The last payment amount as of the hardship plan start date  \n",
       "144                                                                                                The most recent date that the Debt_Settlement_Flag has been set    \n",
       "145                                            The status of the borrower’s settlement plan. Possible values are: COMPLETE, ACTIVE, BROKEN, CANCELLED, DENIED, DRAFT  \n",
       "146                                                                                                         The date that the borrower agrees to the settlement plan  \n",
       "147                                                                                                       The loan amount that the borrower has agreed to settle for  \n",
       "148                                                                                   The settlement amount as a percentage of the payoff balance amount on the loan  \n",
       "149                                                                                            The number of months that the borrower will be on the settlement plan  "
      ]
     },
     "execution_count": 137,
     "metadata": {},
     "output_type": "execute_result"
    }
   ],
   "source": [
    "types_description[types_description.column_name.isin(loans_any_nulls.values)]"
   ]
  },
  {
   "attachments": {},
   "cell_type": "markdown",
   "metadata": {},
   "source": [
    "Buscar los missing"
   ]
  },
  {
   "cell_type": "code",
   "execution_count": 138,
   "metadata": {},
   "outputs": [
    {
     "name": "stdout",
     "output_type": "stream",
     "text": [
      "False\n"
     ]
    }
   ],
   "source": [
    "print(loans.isin(['missing', 'Missing', 'MISSING']).any().any())"
   ]
  },
  {
   "attachments": {},
   "cell_type": "markdown",
   "metadata": {},
   "source": [
    "### **Imputacion**\n",
    " \n",
    "\n",
    "**Dejar las columnas llenas de NanS**\n",
    "\n",
    " - Aunque sean columnas llenas de Nan, deberían ser puros 0's, al ser el valor propio para expresar que no han habido casos. Es por eso que on vale borrar la columna. No vale la pena tirarlas. En NaN están bien, pues hace sentido que pronto sean modificadas. Pero teniendo entendido que pronto tendrán valores, sería muy raro tener en un contador de valores únicos: NaN, 1, 2, 3...\n",
    "    - delinq_2yrs\n",
    "    - inq_last_6ths\n",
    "    - open_acc_6m\n",
    "    - open_act_il\n",
    "    - open_il_12m\n",
    "    - open_il_24m\n",
    "    - open_rv_12m\n",
    "    - inq_last_12m\n",
    "    - open_rv_24m\n",
    "    - acc_open_past_24mths\n",
    "    - mo_sin_rcnt_tl: número de cuentas\n"
   ]
  },
  {
   "cell_type": "code",
   "execution_count": 139,
   "metadata": {},
   "outputs": [],
   "source": [
    "for i in ['delinq_2yrs', 'inq_last_6ths', 'open_acc_6m', 'open_act_il', 'open_il_12m', 'open_il_24m', 'open_rv_12m', 'open_rv_12m', 'inq_last_12m', 'open_rv_24m', 'acc_open_past_24mths', 'mo_sin_rcnt_tl']:\n",
    "    loans[i] = 0"
   ]
  },
  {
   "attachments": {},
   "cell_type": "markdown",
   "metadata": {},
   "source": [
    "**Columnas que deben ser eliminadas**\n",
    "\n",
    " - Columnas llenas de NaNs que no hace sentido que no tengan valores (pero deben ser ints).\n",
    "    - total_cu_tl: no hace sentido que no haya para ningún ID finance trades sin delimitación de periodos. \n",
    "    - inq_fi: nunca nadie de las observaciones tuvo ninguna queja. Suena, para todas las observaciones, sin tener límite de periodo, un caso muy particular (o inexistente). Además, columnas como mths_since_recent_inq indican que hubieron inquiries antes.\n",
    "    - member_id: valor único indispensable y nadie lo tiene\n",
    "    - verification_status_joint: al ser un caso booleano (uno u otro valor), haría sentido que en cada una de las observaciones tenga un valor.\n",
    "    - dti_joint: cifra no calculada en ningun momento para ninguna observación.\n",
    "    - il_util: haría sentido que al menos haya un tipo de esa cuenta si se toma en consideración\n",
    "    - all_util: misma lógica\n",
    "    - revol_bal_joint: adenás de ser una cifra muy rara, no se tiene cálculo para ninguna observación\n",
    "    - max_bal_bc: debería haber el tipo de cuenta\n",
    "    - Secondary aplicant: no hay datos de ningún seconary applicant por lo cual es un desperdicio de espacio tantas columnas para no tener una sola observación de dicho caso\n",
    "      - sec_app_fico_range_low\n",
    "      - sec_app_fico_range_high\n",
    "      - sec_app_earliest_cr_line\n",
    "      - sec_app_inq_last_6mths\n",
    "      - sec_app_mort_acc\n",
    "      - sec_app_open_acc\n",
    "      - sec_app_revol_util"
   ]
  },
  {
   "cell_type": "code",
   "execution_count": 140,
   "metadata": {},
   "outputs": [],
   "source": [
    "loans = loans.drop(columns=['total_cu_tl', 'inq_fi' , 'member_id', 'verification_status_joint', 'dti_joint', 'il_util', 'all_util', 'revol_bal_joint', 'max_bal_bc','sec_app_fico_range_low', 'sec_app_fico_range_high', 'sec_app_earliest_cr_line', 'sec_app_inq_last_6mths', 'sec_app_mort_acc', 'sec_app_mort_acc', 'sec_app_open_acc', 'sec_app_revol_util'])"
   ]
  },
  {
   "attachments": {},
   "cell_type": "markdown",
   "metadata": {},
   "source": [
    "### **Columnas que hay que reemplazar por la media**\n",
    "\n",
    "- revol_util: rate del cual tenemos que tener información completa para análiis.\n",
    "- bc_util: al ser un ratio, necesitamos poder trabajar la información propia para realizar análisis, y los NaNs podrían afectar las cuentas.\n",
    "- En el caso de percent_bc_gt_75 si necesitamos los Nans para filtrar los valores que sí pasan el filtro del 75%\n",
    "    - hardship_amount: lo mismo para este caso, los NaNs son observaciones que no aplican al filtro considrado\n",
    "    - hardship_length, igual\n",
    "    - En general, hardship y settlement son filtros que dan valor a los NaN para realizar la exlcusión dicha. "
   ]
  },
  {
   "cell_type": "code",
   "execution_count": 141,
   "metadata": {},
   "outputs": [],
   "source": [
    "for a in ['revol_util', 'bc_util']:\n",
    "    loans[a] = loans[a].fillna(loans[a].mean()) # Ya excluye a los NaNs del cálculo por default"
   ]
  },
  {
   "attachments": {},
   "cell_type": "markdown",
   "metadata": {},
   "source": [
    "### **Ausencia de valores en datos**\n",
    "\n",
    "Se espera sean de tipo NaT (Not a Time)"
   ]
  },
  {
   "cell_type": "code",
   "execution_count": 142,
   "metadata": {},
   "outputs": [
    {
     "data": {
      "text/plain": [
       "array(['2016-06-01T00:00:00.000000000', '2016-08-01T00:00:00.000000000',\n",
       "       '2016-05-01T00:00:00.000000000', '2017-12-01T00:00:00.000000000',\n",
       "       '2015-08-01T00:00:00.000000000', '2015-04-01T00:00:00.000000000',\n",
       "       '2015-06-01T00:00:00.000000000', '2016-09-01T00:00:00.000000000',\n",
       "       '2016-02-01T00:00:00.000000000', '2015-05-01T00:00:00.000000000',\n",
       "       '2016-10-01T00:00:00.000000000', '2016-03-01T00:00:00.000000000',\n",
       "       '2017-04-01T00:00:00.000000000', '2017-02-01T00:00:00.000000000',\n",
       "       '2017-10-01T00:00:00.000000000', '2016-07-01T00:00:00.000000000',\n",
       "       '2017-11-01T00:00:00.000000000', '2017-06-01T00:00:00.000000000',\n",
       "       '2015-12-01T00:00:00.000000000', '2017-01-01T00:00:00.000000000',\n",
       "       '2016-11-01T00:00:00.000000000', '2015-01-01T00:00:00.000000000',\n",
       "       '2015-09-01T00:00:00.000000000', '2017-09-01T00:00:00.000000000',\n",
       "       '2015-02-01T00:00:00.000000000', '2017-03-01T00:00:00.000000000',\n",
       "       '2016-01-01T00:00:00.000000000', '2016-12-01T00:00:00.000000000',\n",
       "       '2015-11-01T00:00:00.000000000', '2015-03-01T00:00:00.000000000',\n",
       "       '2017-07-01T00:00:00.000000000', '2016-04-01T00:00:00.000000000',\n",
       "       '2015-10-01T00:00:00.000000000', '2017-05-01T00:00:00.000000000',\n",
       "       '2015-07-01T00:00:00.000000000', '2017-08-01T00:00:00.000000000',\n",
       "       '2014-12-01T00:00:00.000000000',                           'NaT',\n",
       "       '2014-11-01T00:00:00.000000000', '2014-10-01T00:00:00.000000000',\n",
       "       '2014-09-01T00:00:00.000000000', '2014-08-01T00:00:00.000000000'],\n",
       "      dtype='datetime64[ns]')"
      ]
     },
     "execution_count": 142,
     "metadata": {},
     "output_type": "execute_result"
    }
   ],
   "source": [
    "loans.last_pymnt_d.unique()"
   ]
  },
  {
   "attachments": {},
   "cell_type": "markdown",
   "metadata": {},
   "source": [
    "Las demás, se dejarán como están porque se cree que los valores NaN están justificados, al ser la ausencia de información un dato real manejable que no estorba el análisis."
   ]
  },
  {
   "attachments": {},
   "cell_type": "markdown",
   "metadata": {},
   "source": [
    "### **Codigo para crear el JSON**"
   ]
  },
  {
   "attachments": {},
   "cell_type": "markdown",
   "metadata": {},
   "source": [
    "### Codigo para salvar y cargar JSONs"
   ]
  },
  {
   "cell_type": "code",
   "execution_count": 143,
   "metadata": {},
   "outputs": [],
   "source": [
    "aux = types_description.copy(deep= True)"
   ]
  },
  {
   "cell_type": "code",
   "execution_count": 144,
   "metadata": {},
   "outputs": [],
   "source": [
    "aux[\"imputation_method\"] = \"No changes\"\n",
    "aux[\"value\"] = \"NaN\""
   ]
  },
  {
   "cell_type": "code",
   "execution_count": 145,
   "metadata": {},
   "outputs": [],
   "source": [
    "# Mètodo para rellenar con 0\n",
    "\n",
    "for i in ['delinq_2yrs', 'inq_last_6ths', 'open_acc_6m', 'open_act_il', 'open_il_12m', 'open_il_24m', 'open_rv_12m', 'open_rv_12m', 'inq_last_12m', 'open_rv_24m', 'acc_open_past_24mths', 'mo_sin_rcnt_tl']:\n",
    "    aux['imputation_method'] = aux.apply(lambda row: \"Replace with 0\" if row['column_name'] == i else row['imputation_method'], axis=1)\n",
    "    aux['value'] = aux.apply(lambda row: 0 if row['column_name'] == i else row['value'], axis=1)"
   ]
  },
  {
   "cell_type": "code",
   "execution_count": 146,
   "metadata": {},
   "outputs": [],
   "source": [
    "# Mètodo para quitar columnas\n",
    "\n",
    "for i in ['total_cu_tl', 'inq_fi' , 'member_id', 'verification_status_joint', 'dti_joint', 'il_util', 'all_util', 'revol_bal_joint', 'max_bal_bc','sec_app_fico_range_low', 'sec_app_fico_range_high', 'sec_app_earliest_cr_line', 'sec_app_inq_last_6mths', 'sec_app_mort_acc', 'sec_app_mort_acc', 'sec_app_open_acc', 'sec_app_revol_util']:\n",
    "    aux['imputation_method'] = aux.apply(lambda row: \"Dropped columns\" if row['column_name'] == i else row['imputation_method'], axis=1)\n",
    "    aux['value'] = aux.apply(lambda row: \"No value\" if row['column_name'] == i else row['value'], axis=1)"
   ]
  },
  {
   "cell_type": "code",
   "execution_count": 147,
   "metadata": {},
   "outputs": [],
   "source": [
    "# Método de reemplazar por media\n",
    "\n",
    "for i in ['revol_util', 'bc_util']:\n",
    "    aux['imputation_method'] = aux.apply(lambda row: \"Mean\" if row['column_name'] == i else row['imputation_method'], axis=1)\n",
    "    aux['value'] = aux.apply(lambda row: loans[i].mean() if row['column_name'] == i else row['value'], axis=1)"
   ]
  },
  {
   "attachments": {},
   "cell_type": "markdown",
   "metadata": {},
   "source": [
    "Crear un dataframe para luego pasarlo a JSON"
   ]
  },
  {
   "cell_type": "code",
   "execution_count": 148,
   "metadata": {},
   "outputs": [
    {
     "data": {
      "text/plain": [
       "array(['No changes', 'Dropped columns', 'Replace with 0', 'Mean'],\n",
       "      dtype=object)"
      ]
     },
     "execution_count": 148,
     "metadata": {},
     "output_type": "execute_result"
    }
   ],
   "source": [
    "aux.imputation_method.unique()"
   ]
  },
  {
   "cell_type": "code",
   "execution_count": 149,
   "metadata": {},
   "outputs": [
    {
     "data": {
      "text/plain": [
       "array(['NaN', 'No value', 0, 55.43498459137117, 64.5600220643307],\n",
       "      dtype=object)"
      ]
     },
     "execution_count": 149,
     "metadata": {},
     "output_type": "execute_result"
    }
   ],
   "source": [
    "aux.value.unique()"
   ]
  },
  {
   "cell_type": "code",
   "execution_count": 150,
   "metadata": {},
   "outputs": [
    {
     "data": {
      "text/html": [
       "<div>\n",
       "<style scoped>\n",
       "    .dataframe tbody tr th:only-of-type {\n",
       "        vertical-align: middle;\n",
       "    }\n",
       "\n",
       "    .dataframe tbody tr th {\n",
       "        vertical-align: top;\n",
       "    }\n",
       "\n",
       "    .dataframe thead th {\n",
       "        text-align: right;\n",
       "    }\n",
       "</style>\n",
       "<table border=\"1\" class=\"dataframe\">\n",
       "  <thead>\n",
       "    <tr style=\"text-align: right;\">\n",
       "      <th></th>\n",
       "      <th>column_name</th>\n",
       "      <th>type</th>\n",
       "      <th>description</th>\n",
       "      <th>imputation_method</th>\n",
       "      <th>value</th>\n",
       "    </tr>\n",
       "  </thead>\n",
       "  <tbody>\n",
       "    <tr>\n",
       "      <th>0</th>\n",
       "      <td>id</td>\n",
       "      <td>int64</td>\n",
       "      <td>A unique LC assigned ID for the loan listing.</td>\n",
       "      <td>No changes</td>\n",
       "      <td>NaN</td>\n",
       "    </tr>\n",
       "    <tr>\n",
       "      <th>1</th>\n",
       "      <td>member_id</td>\n",
       "      <td>float64</td>\n",
       "      <td>A unique LC assigned Id for the borrower member.</td>\n",
       "      <td>Dropped columns</td>\n",
       "      <td>No value</td>\n",
       "    </tr>\n",
       "    <tr>\n",
       "      <th>2</th>\n",
       "      <td>loan_amnt</td>\n",
       "      <td>float64</td>\n",
       "      <td>The listed amount of the loan applied for by the borrower. If at some point in time, the credit department reduces the loan amount, then it will be reflecte...</td>\n",
       "      <td>No changes</td>\n",
       "      <td>NaN</td>\n",
       "    </tr>\n",
       "    <tr>\n",
       "      <th>3</th>\n",
       "      <td>funded_amnt</td>\n",
       "      <td>float64</td>\n",
       "      <td>The total amount committed to that loan at that point in time.</td>\n",
       "      <td>No changes</td>\n",
       "      <td>NaN</td>\n",
       "    </tr>\n",
       "    <tr>\n",
       "      <th>4</th>\n",
       "      <td>funded_amnt_inv</td>\n",
       "      <td>float64</td>\n",
       "      <td>The total amount committed by investors for that loan at that point in time.</td>\n",
       "      <td>No changes</td>\n",
       "      <td>NaN</td>\n",
       "    </tr>\n",
       "    <tr>\n",
       "      <th>...</th>\n",
       "      <td>...</td>\n",
       "      <td>...</td>\n",
       "      <td>...</td>\n",
       "      <td>...</td>\n",
       "      <td>...</td>\n",
       "    </tr>\n",
       "    <tr>\n",
       "      <th>145</th>\n",
       "      <td>settlement_status</td>\n",
       "      <td>object</td>\n",
       "      <td>The status of the borrower’s settlement plan. Possible values are: COMPLETE, ACTIVE, BROKEN, CANCELLED, DENIED, DRAFT</td>\n",
       "      <td>No changes</td>\n",
       "      <td>NaN</td>\n",
       "    </tr>\n",
       "    <tr>\n",
       "      <th>146</th>\n",
       "      <td>settlement_date</td>\n",
       "      <td>datetime64[ns]</td>\n",
       "      <td>The date that the borrower agrees to the settlement plan</td>\n",
       "      <td>No changes</td>\n",
       "      <td>NaN</td>\n",
       "    </tr>\n",
       "    <tr>\n",
       "      <th>147</th>\n",
       "      <td>settlement_amount</td>\n",
       "      <td>float64</td>\n",
       "      <td>The loan amount that the borrower has agreed to settle for</td>\n",
       "      <td>No changes</td>\n",
       "      <td>NaN</td>\n",
       "    </tr>\n",
       "    <tr>\n",
       "      <th>148</th>\n",
       "      <td>settlement_percentage</td>\n",
       "      <td>float64</td>\n",
       "      <td>The settlement amount as a percentage of the payoff balance amount on the loan</td>\n",
       "      <td>No changes</td>\n",
       "      <td>NaN</td>\n",
       "    </tr>\n",
       "    <tr>\n",
       "      <th>149</th>\n",
       "      <td>settlement_term</td>\n",
       "      <td>float64</td>\n",
       "      <td>The number of months that the borrower will be on the settlement plan</td>\n",
       "      <td>No changes</td>\n",
       "      <td>NaN</td>\n",
       "    </tr>\n",
       "  </tbody>\n",
       "</table>\n",
       "<p>150 rows × 5 columns</p>\n",
       "</div>"
      ],
      "text/plain": [
       "               column_name            type  \\\n",
       "0                       id           int64   \n",
       "1                member_id         float64   \n",
       "2                loan_amnt         float64   \n",
       "3              funded_amnt         float64   \n",
       "4          funded_amnt_inv         float64   \n",
       "..                     ...             ...   \n",
       "145      settlement_status          object   \n",
       "146        settlement_date  datetime64[ns]   \n",
       "147      settlement_amount         float64   \n",
       "148  settlement_percentage         float64   \n",
       "149        settlement_term         float64   \n",
       "\n",
       "                                                                                                                                                         description  \\\n",
       "0                                                                                                                      A unique LC assigned ID for the loan listing.   \n",
       "1                                                                                                                   A unique LC assigned Id for the borrower member.   \n",
       "2    The listed amount of the loan applied for by the borrower. If at some point in time, the credit department reduces the loan amount, then it will be reflecte...   \n",
       "3                                                                                                     The total amount committed to that loan at that point in time.   \n",
       "4                                                                                       The total amount committed by investors for that loan at that point in time.   \n",
       "..                                                                                                                                                               ...   \n",
       "145                                            The status of the borrower’s settlement plan. Possible values are: COMPLETE, ACTIVE, BROKEN, CANCELLED, DENIED, DRAFT   \n",
       "146                                                                                                         The date that the borrower agrees to the settlement plan   \n",
       "147                                                                                                       The loan amount that the borrower has agreed to settle for   \n",
       "148                                                                                   The settlement amount as a percentage of the payoff balance amount on the loan   \n",
       "149                                                                                            The number of months that the borrower will be on the settlement plan   \n",
       "\n",
       "    imputation_method     value  \n",
       "0          No changes       NaN  \n",
       "1     Dropped columns  No value  \n",
       "2          No changes       NaN  \n",
       "3          No changes       NaN  \n",
       "4          No changes       NaN  \n",
       "..                ...       ...  \n",
       "145        No changes       NaN  \n",
       "146        No changes       NaN  \n",
       "147        No changes       NaN  \n",
       "148        No changes       NaN  \n",
       "149        No changes       NaN  \n",
       "\n",
       "[150 rows x 5 columns]"
      ]
     },
     "execution_count": 150,
     "metadata": {},
     "output_type": "execute_result"
    }
   ],
   "source": [
    "aux"
   ]
  },
  {
   "cell_type": "code",
   "execution_count": 151,
   "metadata": {},
   "outputs": [],
   "source": [
    "json_df = aux.iloc[:, [0,3,4]]"
   ]
  },
  {
   "cell_type": "code",
   "execution_count": 152,
   "metadata": {},
   "outputs": [
    {
     "data": {
      "text/html": [
       "<div>\n",
       "<style scoped>\n",
       "    .dataframe tbody tr th:only-of-type {\n",
       "        vertical-align: middle;\n",
       "    }\n",
       "\n",
       "    .dataframe tbody tr th {\n",
       "        vertical-align: top;\n",
       "    }\n",
       "\n",
       "    .dataframe thead th {\n",
       "        text-align: right;\n",
       "    }\n",
       "</style>\n",
       "<table border=\"1\" class=\"dataframe\">\n",
       "  <thead>\n",
       "    <tr style=\"text-align: right;\">\n",
       "      <th></th>\n",
       "      <th>column_name</th>\n",
       "      <th>imputation_method</th>\n",
       "      <th>value</th>\n",
       "    </tr>\n",
       "  </thead>\n",
       "  <tbody>\n",
       "    <tr>\n",
       "      <th>0</th>\n",
       "      <td>id</td>\n",
       "      <td>No changes</td>\n",
       "      <td>NaN</td>\n",
       "    </tr>\n",
       "    <tr>\n",
       "      <th>1</th>\n",
       "      <td>member_id</td>\n",
       "      <td>Dropped columns</td>\n",
       "      <td>No value</td>\n",
       "    </tr>\n",
       "    <tr>\n",
       "      <th>2</th>\n",
       "      <td>loan_amnt</td>\n",
       "      <td>No changes</td>\n",
       "      <td>NaN</td>\n",
       "    </tr>\n",
       "    <tr>\n",
       "      <th>3</th>\n",
       "      <td>funded_amnt</td>\n",
       "      <td>No changes</td>\n",
       "      <td>NaN</td>\n",
       "    </tr>\n",
       "    <tr>\n",
       "      <th>4</th>\n",
       "      <td>funded_amnt_inv</td>\n",
       "      <td>No changes</td>\n",
       "      <td>NaN</td>\n",
       "    </tr>\n",
       "    <tr>\n",
       "      <th>...</th>\n",
       "      <td>...</td>\n",
       "      <td>...</td>\n",
       "      <td>...</td>\n",
       "    </tr>\n",
       "    <tr>\n",
       "      <th>145</th>\n",
       "      <td>settlement_status</td>\n",
       "      <td>No changes</td>\n",
       "      <td>NaN</td>\n",
       "    </tr>\n",
       "    <tr>\n",
       "      <th>146</th>\n",
       "      <td>settlement_date</td>\n",
       "      <td>No changes</td>\n",
       "      <td>NaN</td>\n",
       "    </tr>\n",
       "    <tr>\n",
       "      <th>147</th>\n",
       "      <td>settlement_amount</td>\n",
       "      <td>No changes</td>\n",
       "      <td>NaN</td>\n",
       "    </tr>\n",
       "    <tr>\n",
       "      <th>148</th>\n",
       "      <td>settlement_percentage</td>\n",
       "      <td>No changes</td>\n",
       "      <td>NaN</td>\n",
       "    </tr>\n",
       "    <tr>\n",
       "      <th>149</th>\n",
       "      <td>settlement_term</td>\n",
       "      <td>No changes</td>\n",
       "      <td>NaN</td>\n",
       "    </tr>\n",
       "  </tbody>\n",
       "</table>\n",
       "<p>150 rows × 3 columns</p>\n",
       "</div>"
      ],
      "text/plain": [
       "               column_name imputation_method     value\n",
       "0                       id        No changes       NaN\n",
       "1                member_id   Dropped columns  No value\n",
       "2                loan_amnt        No changes       NaN\n",
       "3              funded_amnt        No changes       NaN\n",
       "4          funded_amnt_inv        No changes       NaN\n",
       "..                     ...               ...       ...\n",
       "145      settlement_status        No changes       NaN\n",
       "146        settlement_date        No changes       NaN\n",
       "147      settlement_amount        No changes       NaN\n",
       "148  settlement_percentage        No changes       NaN\n",
       "149        settlement_term        No changes       NaN\n",
       "\n",
       "[150 rows x 3 columns]"
      ]
     },
     "execution_count": 152,
     "metadata": {},
     "output_type": "execute_result"
    }
   ],
   "source": [
    "json_df"
   ]
  },
  {
   "cell_type": "code",
   "execution_count": 154,
   "metadata": {},
   "outputs": [],
   "source": [
    "import json"
   ]
  },
  {
   "cell_type": "code",
   "execution_count": 156,
   "metadata": {},
   "outputs": [
    {
     "name": "stdout",
     "output_type": "stream",
     "text": [
      "{\"id\": {\"strategy\": \"No changes\", \"value\": \"NaN\"}, \"member_id\": {\"strategy\": \"Dropped columns\", \"value\": \"No value\"}, \"loan_amnt\": {\"strategy\": \"No changes\", \"value\": \"NaN\"}, \"funded_amnt\": {\"strategy\": \"No changes\", \"value\": \"NaN\"}, \"funded_amnt_inv\": {\"strategy\": \"No changes\", \"value\": \"NaN\"}, \"term\": {\"strategy\": \"No changes\", \"value\": \"NaN\"}, \"int_rate\": {\"strategy\": \"No changes\", \"value\": \"NaN\"}, \"installment\": {\"strategy\": \"No changes\", \"value\": \"NaN\"}, \"grade\": {\"strategy\": \"No changes\", \"value\": \"NaN\"}, \"sub_grade\": {\"strategy\": \"No changes\", \"value\": \"NaN\"}, \"emp_title\": {\"strategy\": \"No changes\", \"value\": \"NaN\"}, \"emp_length\": {\"strategy\": \"No changes\", \"value\": \"NaN\"}, \"home_ownership\": {\"strategy\": \"No changes\", \"value\": \"NaN\"}, \"annual_inc\": {\"strategy\": \"No changes\", \"value\": \"NaN\"}, \"verification_status\": {\"strategy\": \"No changes\", \"value\": \"NaN\"}, \"issue_d\": {\"strategy\": \"No changes\", \"value\": \"NaN\"}, \"loan_status\": {\"strategy\": \"No changes\", \"value\": \"NaN\"}, \"pymnt_plan\": {\"strategy\": \"No changes\", \"value\": \"NaN\"}, \"desc\": {\"strategy\": \"No changes\", \"value\": \"NaN\"}, \"purpose\": {\"strategy\": \"No changes\", \"value\": \"NaN\"}, \"title\": {\"strategy\": \"No changes\", \"value\": \"NaN\"}, \"zip_code\": {\"strategy\": \"No changes\", \"value\": \"NaN\"}, \"addr_state\": {\"strategy\": \"No changes\", \"value\": \"NaN\"}, \"dti\": {\"strategy\": \"No changes\", \"value\": \"NaN\"}, \"delinq_2yrs\": {\"strategy\": \"Replace with 0\", \"value\": 0}, \"earliest_cr_line\": {\"strategy\": \"No changes\", \"value\": \"NaN\"}, \"fico_range_low\": {\"strategy\": \"No changes\", \"value\": \"NaN\"}, \"fico_range_high\": {\"strategy\": \"No changes\", \"value\": \"NaN\"}, \"inq_last_6mths\": {\"strategy\": \"No changes\", \"value\": \"NaN\"}, \"mths_since_last_delinq\": {\"strategy\": \"No changes\", \"value\": \"NaN\"}, \"mths_since_last_record\": {\"strategy\": \"No changes\", \"value\": \"NaN\"}, \"open_acc\": {\"strategy\": \"No changes\", \"value\": \"NaN\"}, \"pub_rec\": {\"strategy\": \"No changes\", \"value\": \"NaN\"}, \"revol_bal\": {\"strategy\": \"No changes\", \"value\": \"NaN\"}, \"revol_util\": {\"strategy\": \"Mean\", \"value\": 55.43498459137117}, \"total_acc\": {\"strategy\": \"No changes\", \"value\": \"NaN\"}, \"initial_list_status\": {\"strategy\": \"No changes\", \"value\": \"NaN\"}, \"out_prncp\": {\"strategy\": \"No changes\", \"value\": \"NaN\"}, \"out_prncp_inv\": {\"strategy\": \"No changes\", \"value\": \"NaN\"}, \"total_pymnt\": {\"strategy\": \"No changes\", \"value\": \"NaN\"}, \"total_pymnt_inv\": {\"strategy\": \"No changes\", \"value\": \"NaN\"}, \"total_rec_prncp\": {\"strategy\": \"No changes\", \"value\": \"NaN\"}, \"total_rec_int\": {\"strategy\": \"No changes\", \"value\": \"NaN\"}, \"total_rec_late_fee\": {\"strategy\": \"No changes\", \"value\": \"NaN\"}, \"recoveries\": {\"strategy\": \"No changes\", \"value\": \"NaN\"}, \"collection_recovery_fee\": {\"strategy\": \"No changes\", \"value\": \"NaN\"}, \"last_pymnt_d\": {\"strategy\": \"No changes\", \"value\": \"NaN\"}, \"last_pymnt_amnt\": {\"strategy\": \"No changes\", \"value\": \"NaN\"}, \"next_pymnt_d\": {\"strategy\": \"No changes\", \"value\": \"NaN\"}, \"last_credit_pull_d\": {\"strategy\": \"No changes\", \"value\": \"NaN\"}, \"last_fico_range_high\": {\"strategy\": \"No changes\", \"value\": \"NaN\"}, \"last_fico_range_low\": {\"strategy\": \"No changes\", \"value\": \"NaN\"}, \"collections_12_mths_ex_med\": {\"strategy\": \"No changes\", \"value\": \"NaN\"}, \"mths_since_last_major_derog\": {\"strategy\": \"No changes\", \"value\": \"NaN\"}, \"policy_code\": {\"strategy\": \"No changes\", \"value\": \"NaN\"}, \"application_type\": {\"strategy\": \"No changes\", \"value\": \"NaN\"}, \"annual_inc_joint\": {\"strategy\": \"No changes\", \"value\": \"NaN\"}, \"dti_joint\": {\"strategy\": \"Dropped columns\", \"value\": \"No value\"}, \"verification_status_joint\": {\"strategy\": \"Dropped columns\", \"value\": \"No value\"}, \"acc_now_delinq\": {\"strategy\": \"No changes\", \"value\": \"NaN\"}, \"tot_coll_amt\": {\"strategy\": \"No changes\", \"value\": \"NaN\"}, \"tot_cur_bal\": {\"strategy\": \"No changes\", \"value\": \"NaN\"}, \"open_acc_6m\": {\"strategy\": \"Replace with 0\", \"value\": 0}, \"open_act_il\": {\"strategy\": \"Replace with 0\", \"value\": 0}, \"open_il_12m\": {\"strategy\": \"Replace with 0\", \"value\": 0}, \"open_il_24m\": {\"strategy\": \"Replace with 0\", \"value\": 0}, \"mths_since_rcnt_il\": {\"strategy\": \"No changes\", \"value\": \"NaN\"}, \"total_bal_il\": {\"strategy\": \"No changes\", \"value\": \"NaN\"}, \"il_util\": {\"strategy\": \"Dropped columns\", \"value\": \"No value\"}, \"open_rv_12m\": {\"strategy\": \"Replace with 0\", \"value\": 0}, \"open_rv_24m\": {\"strategy\": \"Replace with 0\", \"value\": 0}, \"max_bal_bc\": {\"strategy\": \"Dropped columns\", \"value\": \"No value\"}, \"all_util\": {\"strategy\": \"Dropped columns\", \"value\": \"No value\"}, \"total_rev_hi_lim\": {\"strategy\": \"No changes\", \"value\": \"NaN\"}, \"inq_fi\": {\"strategy\": \"Dropped columns\", \"value\": \"No value\"}, \"total_cu_tl\": {\"strategy\": \"Dropped columns\", \"value\": \"No value\"}, \"inq_last_12m\": {\"strategy\": \"Replace with 0\", \"value\": 0}, \"acc_open_past_24mths\": {\"strategy\": \"Replace with 0\", \"value\": 0}, \"avg_cur_bal\": {\"strategy\": \"No changes\", \"value\": \"NaN\"}, \"bc_open_to_buy\": {\"strategy\": \"No changes\", \"value\": \"NaN\"}, \"bc_util\": {\"strategy\": \"Mean\", \"value\": 64.5600220643307}, \"chargeoff_within_12_mths\": {\"strategy\": \"No changes\", \"value\": \"NaN\"}, \"delinq_amnt\": {\"strategy\": \"No changes\", \"value\": \"NaN\"}, \"mo_sin_old_il_acct\": {\"strategy\": \"No changes\", \"value\": \"NaN\"}, \"mo_sin_old_rev_tl_op\": {\"strategy\": \"No changes\", \"value\": \"NaN\"}, \"mo_sin_rcnt_rev_tl_op\": {\"strategy\": \"No changes\", \"value\": \"NaN\"}, \"mo_sin_rcnt_tl\": {\"strategy\": \"Replace with 0\", \"value\": 0}, \"mort_acc\": {\"strategy\": \"No changes\", \"value\": \"NaN\"}, \"mths_since_recent_bc\": {\"strategy\": \"No changes\", \"value\": \"NaN\"}, \"mths_since_recent_bc_dlq\": {\"strategy\": \"No changes\", \"value\": \"NaN\"}, \"mths_since_recent_inq\": {\"strategy\": \"No changes\", \"value\": \"NaN\"}, \"mths_since_recent_revol_delinq\": {\"strategy\": \"No changes\", \"value\": \"NaN\"}, \"num_accts_ever_120_pd\": {\"strategy\": \"No changes\", \"value\": \"NaN\"}, \"num_actv_bc_tl\": {\"strategy\": \"No changes\", \"value\": \"NaN\"}, \"num_actv_rev_tl\": {\"strategy\": \"No changes\", \"value\": \"NaN\"}, \"num_bc_sats\": {\"strategy\": \"No changes\", \"value\": \"NaN\"}, \"num_bc_tl\": {\"strategy\": \"No changes\", \"value\": \"NaN\"}, \"num_il_tl\": {\"strategy\": \"No changes\", \"value\": \"NaN\"}, \"num_op_rev_tl\": {\"strategy\": \"No changes\", \"value\": \"NaN\"}, \"num_rev_accts\": {\"strategy\": \"No changes\", \"value\": \"NaN\"}, \"num_rev_tl_bal_gt_0\": {\"strategy\": \"No changes\", \"value\": \"NaN\"}, \"num_sats\": {\"strategy\": \"No changes\", \"value\": \"NaN\"}, \"num_tl_120dpd_2m\": {\"strategy\": \"No changes\", \"value\": \"NaN\"}, \"num_tl_30dpd\": {\"strategy\": \"No changes\", \"value\": \"NaN\"}, \"num_tl_90g_dpd_24m\": {\"strategy\": \"No changes\", \"value\": \"NaN\"}, \"num_tl_op_past_12m\": {\"strategy\": \"No changes\", \"value\": \"NaN\"}, \"pct_tl_nvr_dlq\": {\"strategy\": \"No changes\", \"value\": \"NaN\"}, \"percent_bc_gt_75\": {\"strategy\": \"No changes\", \"value\": \"NaN\"}, \"pub_rec_bankruptcies\": {\"strategy\": \"No changes\", \"value\": \"NaN\"}, \"tax_liens\": {\"strategy\": \"No changes\", \"value\": \"NaN\"}, \"tot_hi_cred_lim\": {\"strategy\": \"No changes\", \"value\": \"NaN\"}, \"total_bal_ex_mort\": {\"strategy\": \"No changes\", \"value\": \"NaN\"}, \"total_bc_limit\": {\"strategy\": \"No changes\", \"value\": \"NaN\"}, \"total_il_high_credit_limit\": {\"strategy\": \"No changes\", \"value\": \"NaN\"}, \"revol_bal_joint\": {\"strategy\": \"Dropped columns\", \"value\": \"No value\"}, \"sec_app_fico_range_low\": {\"strategy\": \"Dropped columns\", \"value\": \"No value\"}, \"sec_app_fico_range_high\": {\"strategy\": \"Dropped columns\", \"value\": \"No value\"}, \"sec_app_earliest_cr_line\": {\"strategy\": \"Dropped columns\", \"value\": \"No value\"}, \"sec_app_inq_last_6mths\": {\"strategy\": \"Dropped columns\", \"value\": \"No value\"}, \"sec_app_mort_acc\": {\"strategy\": \"Dropped columns\", \"value\": \"No value\"}, \"sec_app_open_acc\": {\"strategy\": \"Dropped columns\", \"value\": \"No value\"}, \"sec_app_revol_util\": {\"strategy\": \"Dropped columns\", \"value\": \"No value\"}, \"sec_app_open_act_il\": {\"strategy\": \"No changes\", \"value\": \"NaN\"}, \"sec_app_num_rev_accts\": {\"strategy\": \"No changes\", \"value\": \"NaN\"}, \"sec_app_chargeoff_within_12_mths\": {\"strategy\": \"No changes\", \"value\": \"NaN\"}, \"sec_app_collections_12_mths_ex_med\": {\"strategy\": \"No changes\", \"value\": \"NaN\"}, \"sec_app_mths_since_last_major_derog\": {\"strategy\": \"No changes\", \"value\": \"NaN\"}, \"hardship_flag\": {\"strategy\": \"No changes\", \"value\": \"NaN\"}, \"hardship_type\": {\"strategy\": \"No changes\", \"value\": \"NaN\"}, \"hardship_reason\": {\"strategy\": \"No changes\", \"value\": \"NaN\"}, \"hardship_status\": {\"strategy\": \"No changes\", \"value\": \"NaN\"}, \"deferral_term\": {\"strategy\": \"No changes\", \"value\": \"NaN\"}, \"hardship_amount\": {\"strategy\": \"No changes\", \"value\": \"NaN\"}, \"hardship_start_date\": {\"strategy\": \"No changes\", \"value\": \"NaN\"}, \"hardship_end_date\": {\"strategy\": \"No changes\", \"value\": \"NaN\"}, \"payment_plan_start_date\": {\"strategy\": \"No changes\", \"value\": \"NaN\"}, \"hardship_length\": {\"strategy\": \"No changes\", \"value\": \"NaN\"}, \"hardship_dpd\": {\"strategy\": \"No changes\", \"value\": \"NaN\"}, \"hardship_loan_status\": {\"strategy\": \"No changes\", \"value\": \"NaN\"}, \"orig_projected_additional_accrued_interest\": {\"strategy\": \"No changes\", \"value\": \"NaN\"}, \"hardship_payoff_balance_amount\": {\"strategy\": \"No changes\", \"value\": \"NaN\"}, \"hardship_last_payment_amount\": {\"strategy\": \"No changes\", \"value\": \"NaN\"}, \"disbursement_method\": {\"strategy\": \"No changes\", \"value\": \"NaN\"}, \"debt_settlement_flag\": {\"strategy\": \"No changes\", \"value\": \"NaN\"}, \"debt_settlement_flag_date\": {\"strategy\": \"No changes\", \"value\": \"NaN\"}, \"settlement_status\": {\"strategy\": \"No changes\", \"value\": \"NaN\"}, \"settlement_date\": {\"strategy\": \"No changes\", \"value\": \"NaN\"}, \"settlement_amount\": {\"strategy\": \"No changes\", \"value\": \"NaN\"}, \"settlement_percentage\": {\"strategy\": \"No changes\", \"value\": \"NaN\"}, \"settlement_term\": {\"strategy\": \"No changes\", \"value\": \"NaN\"}}\n"
     ]
    }
   ],
   "source": [
    "column_names = json_df.column_name.values\n",
    "strategy = json_df.imputation_method.values\n",
    "value_arr = json_df.value.values\n",
    "\n",
    "json_dict = {}\n",
    "\n",
    "for i in range(len(column_names)):\n",
    "    json_dict[column_names[i]] = {'strategy': strategy[i], 'value': value_arr[i]}\n",
    "\n",
    "json_str = json.dumps(json_dict)\n",
    "\n",
    "print(json_str)"
   ]
  }
 ],
 "metadata": {
  "kernelspec": {
   "display_name": "Python 3",
   "language": "python",
   "name": "python3"
  },
  "language_info": {
   "codemirror_mode": {
    "name": "ipython",
    "version": 3
   },
   "file_extension": ".py",
   "mimetype": "text/x-python",
   "name": "python",
   "nbconvert_exporter": "python",
   "pygments_lexer": "ipython3",
   "version": "3.10.8"
  },
  "orig_nbformat": 4,
  "vscode": {
   "interpreter": {
    "hash": "e7370f93d1d0cde622a1f8e1c04877d8463912d04d973331ad4851f04de6915a"
   }
  }
 },
 "nbformat": 4,
 "nbformat_minor": 2
}
