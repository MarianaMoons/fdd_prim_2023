{
  "cells": [
    {
      "cell_type": "markdown",
      "metadata": {
        "id": "l4cdSmWcLHsQ"
      },
      "source": [
        "# Prediccion de Default en Prestamos\n"
      ]
    },
    {
      "cell_type": "markdown",
      "metadata": {
        "id": "OBKMgKMtLHsW"
      },
      "source": [
        "Para este proyecto utilizaremos un sample de los datos de Lending Club. La idea es predecir si cierto usuario cometera Default basado en informacion que la plataforma recolecta. Esto nos ayudara a mejorar la metodologia/pipeline de prestamo.\n"
      ]
    },
    {
      "cell_type": "markdown",
      "metadata": {
        "id": "cI7z15pcLHsX"
      },
      "source": [
        "# Descripcion"
      ]
    },
    {
      "cell_type": "markdown",
      "metadata": {
        "id": "7eN1woeELHsX"
      },
      "source": [
        "\n",
        "\n",
        "Contiene los prestamos de esta plataforma:\n",
        "\n",
        "    periodo 2007-2017Q3.\n",
        "    887mil observaciones, sample de 100mil\n",
        "    150 variables\n",
        "    Target: loan status\n",
        "\n"
      ]
    },
    {
      "cell_type": "markdown",
      "metadata": {
        "id": "AysfuN-ZLHsY"
      },
      "source": [
        "# Objetivo"
      ]
    },
    {
      "cell_type": "markdown",
      "metadata": {
        "id": "dE3aO083LHsY"
      },
      "source": [
        "Realizar un ETL y un EDA"
      ]
    },
    {
      "cell_type": "markdown",
      "metadata": {
        "id": "iIxbDktrLHsZ"
      },
      "source": [
        "## ETL"
      ]
    },
    {
      "cell_type": "markdown",
      "metadata": {
        "id": "owdSqHRnLHsZ"
      },
      "source": [
        "0. Limpia los datos de tal manera que al final del ETL queden en formato `tidy`.\n",
        "1. Asegurate de cargar y leer los datos\n",
        "2. Crea una tabla donde se guarde el nombre de la columna y el tipo de dato: (`column_name`,   `type`).\n",
        "3. Asegurate de pensar cual es el tipo de dato correcto. Porque elejiste strig/object o float o int?. No hay respuestas incorrectas como tal, pero tienes que justificar tu decision.\n",
        "4. Maneja missings o nans de la manera adecuada. Justifica cada decision\n",
        "\n",
        "\n",
        "\n",
        "\n",
        "\n"
      ]
    },
    {
      "cell_type": "markdown",
      "metadata": {
        "id": "2rV2WcIQLHsa"
      },
      "source": [
        "## EDA"
      ]
    },
    {
      "cell_type": "markdown",
      "metadata": {
        "id": "JIYgz6QcLHsa"
      },
      "source": [
        "0. Preparar lo datos para un pipeline de datos\n",
        "1. Quitar columnas inservibles \n",
        "2. Imputar valores\n",
        "3. Mantener replicabildiad y reproducibilidad"
      ]
    },
    {
      "cell_type": "markdown",
      "metadata": {
        "id": "wGv4SGzoLHsa"
      },
      "source": [
        "**No olvides anotar tus justificaciones en celdas para recordar cuando te toque explicarlo.** Puedes agregar el numero de celdas que necesites para poner tu explicacion y el codigo, solo manten la estructura."
      ]
    },
    {
      "cell_type": "markdown",
      "metadata": {
        "id": "zsdMv58NLHsb"
      },
      "source": [
        "# ETL"
      ]
    },
    {
      "cell_type": "code",
      "execution_count": null,
      "metadata": {
        "id": "ABrOhUDnLHsb"
      },
      "outputs": [],
      "source": [
        "import pandas as pd\n",
        "import numpy as np"
      ]
    },
    {
      "cell_type": "markdown",
      "metadata": {
        "id": "PcLzeSdILHsd"
      },
      "source": [
        "Vas a obtener 2 errores, solucionalo con los visto en clase.  \n",
        "Tip: Se arreglan con argumentos adicionales de la funcion `read_csv`  \n",
        "Documentacion: https://pandas.pydata.org/docs/reference/api/pandas.read_csv.html "
      ]
    },
    {
      "cell_type": "code",
      "execution_count": null,
      "metadata": {
        "id": "P_wS8XS-LHse",
        "outputId": "d8374b14-81d6-4cb9-950a-362dc490b269"
      },
      "outputs": [
        {
          "name": "stderr",
          "output_type": "stream",
          "text": [
            "/tmp/ipykernel_614/555863327.py:1: DtypeWarning: Columns (19) have mixed types. Specify dtype option on import or set low_memory=False.\n",
            "  loans = pd.read_csv('https://github.com/sonder-art/fdd_prim_2023/blob/main/codigo/pandas/LoansData_sample.csv.gz?raw=true',compression='gzip')\n"
          ]
        },
        {
          "data": {
            "text/html": [
              "<div>\n",
              "<style scoped>\n",
              "    .dataframe tbody tr th:only-of-type {\n",
              "        vertical-align: middle;\n",
              "    }\n",
              "\n",
              "    .dataframe tbody tr th {\n",
              "        vertical-align: top;\n",
              "    }\n",
              "\n",
              "    .dataframe thead th {\n",
              "        text-align: right;\n",
              "    }\n",
              "</style>\n",
              "<table border=\"1\" class=\"dataframe\">\n",
              "  <thead>\n",
              "    <tr style=\"text-align: right;\">\n",
              "      <th></th>\n",
              "      <th>Unnamed: 0</th>\n",
              "      <th>id</th>\n",
              "      <th>member_id</th>\n",
              "      <th>loan_amnt</th>\n",
              "      <th>funded_amnt</th>\n",
              "      <th>funded_amnt_inv</th>\n",
              "      <th>term</th>\n",
              "      <th>int_rate</th>\n",
              "      <th>installment</th>\n",
              "      <th>grade</th>\n",
              "      <th>...</th>\n",
              "      <th>hardship_payoff_balance_amount</th>\n",
              "      <th>hardship_last_payment_amount</th>\n",
              "      <th>disbursement_method</th>\n",
              "      <th>debt_settlement_flag</th>\n",
              "      <th>debt_settlement_flag_date</th>\n",
              "      <th>settlement_status</th>\n",
              "      <th>settlement_date</th>\n",
              "      <th>settlement_amount</th>\n",
              "      <th>settlement_percentage</th>\n",
              "      <th>settlement_term</th>\n",
              "    </tr>\n",
              "  </thead>\n",
              "  <tbody>\n",
              "    <tr>\n",
              "      <th>0</th>\n",
              "      <td>0</td>\n",
              "      <td>38098114</td>\n",
              "      <td>NaN</td>\n",
              "      <td>15000.0</td>\n",
              "      <td>15000.0</td>\n",
              "      <td>15000.0</td>\n",
              "      <td>60 months</td>\n",
              "      <td>12.39</td>\n",
              "      <td>336.64</td>\n",
              "      <td>C</td>\n",
              "      <td>...</td>\n",
              "      <td>NaN</td>\n",
              "      <td>NaN</td>\n",
              "      <td>Cash</td>\n",
              "      <td>N</td>\n",
              "      <td>NaN</td>\n",
              "      <td>NaN</td>\n",
              "      <td>NaN</td>\n",
              "      <td>NaN</td>\n",
              "      <td>NaN</td>\n",
              "      <td>NaN</td>\n",
              "    </tr>\n",
              "    <tr>\n",
              "      <th>1</th>\n",
              "      <td>1</td>\n",
              "      <td>36805548</td>\n",
              "      <td>NaN</td>\n",
              "      <td>10400.0</td>\n",
              "      <td>10400.0</td>\n",
              "      <td>10400.0</td>\n",
              "      <td>36 months</td>\n",
              "      <td>6.99</td>\n",
              "      <td>321.08</td>\n",
              "      <td>A</td>\n",
              "      <td>...</td>\n",
              "      <td>NaN</td>\n",
              "      <td>NaN</td>\n",
              "      <td>Cash</td>\n",
              "      <td>N</td>\n",
              "      <td>NaN</td>\n",
              "      <td>NaN</td>\n",
              "      <td>NaN</td>\n",
              "      <td>NaN</td>\n",
              "      <td>NaN</td>\n",
              "      <td>NaN</td>\n",
              "    </tr>\n",
              "    <tr>\n",
              "      <th>2</th>\n",
              "      <td>2</td>\n",
              "      <td>37842129</td>\n",
              "      <td>NaN</td>\n",
              "      <td>21425.0</td>\n",
              "      <td>21425.0</td>\n",
              "      <td>21425.0</td>\n",
              "      <td>60 months</td>\n",
              "      <td>15.59</td>\n",
              "      <td>516.36</td>\n",
              "      <td>D</td>\n",
              "      <td>...</td>\n",
              "      <td>NaN</td>\n",
              "      <td>NaN</td>\n",
              "      <td>Cash</td>\n",
              "      <td>N</td>\n",
              "      <td>NaN</td>\n",
              "      <td>NaN</td>\n",
              "      <td>NaN</td>\n",
              "      <td>NaN</td>\n",
              "      <td>NaN</td>\n",
              "      <td>NaN</td>\n",
              "    </tr>\n",
              "    <tr>\n",
              "      <th>3</th>\n",
              "      <td>3</td>\n",
              "      <td>37612354</td>\n",
              "      <td>NaN</td>\n",
              "      <td>12800.0</td>\n",
              "      <td>12800.0</td>\n",
              "      <td>12800.0</td>\n",
              "      <td>60 months</td>\n",
              "      <td>17.14</td>\n",
              "      <td>319.08</td>\n",
              "      <td>D</td>\n",
              "      <td>...</td>\n",
              "      <td>NaN</td>\n",
              "      <td>NaN</td>\n",
              "      <td>Cash</td>\n",
              "      <td>N</td>\n",
              "      <td>NaN</td>\n",
              "      <td>NaN</td>\n",
              "      <td>NaN</td>\n",
              "      <td>NaN</td>\n",
              "      <td>NaN</td>\n",
              "      <td>NaN</td>\n",
              "    </tr>\n",
              "    <tr>\n",
              "      <th>4</th>\n",
              "      <td>4</td>\n",
              "      <td>37662224</td>\n",
              "      <td>NaN</td>\n",
              "      <td>7650.0</td>\n",
              "      <td>7650.0</td>\n",
              "      <td>7650.0</td>\n",
              "      <td>36 months</td>\n",
              "      <td>13.66</td>\n",
              "      <td>260.20</td>\n",
              "      <td>C</td>\n",
              "      <td>...</td>\n",
              "      <td>NaN</td>\n",
              "      <td>NaN</td>\n",
              "      <td>Cash</td>\n",
              "      <td>N</td>\n",
              "      <td>NaN</td>\n",
              "      <td>NaN</td>\n",
              "      <td>NaN</td>\n",
              "      <td>NaN</td>\n",
              "      <td>NaN</td>\n",
              "      <td>NaN</td>\n",
              "    </tr>\n",
              "    <tr>\n",
              "      <th>...</th>\n",
              "      <td>...</td>\n",
              "      <td>...</td>\n",
              "      <td>...</td>\n",
              "      <td>...</td>\n",
              "      <td>...</td>\n",
              "      <td>...</td>\n",
              "      <td>...</td>\n",
              "      <td>...</td>\n",
              "      <td>...</td>\n",
              "      <td>...</td>\n",
              "      <td>...</td>\n",
              "      <td>...</td>\n",
              "      <td>...</td>\n",
              "      <td>...</td>\n",
              "      <td>...</td>\n",
              "      <td>...</td>\n",
              "      <td>...</td>\n",
              "      <td>...</td>\n",
              "      <td>...</td>\n",
              "      <td>...</td>\n",
              "      <td>...</td>\n",
              "    </tr>\n",
              "    <tr>\n",
              "      <th>99995</th>\n",
              "      <td>99995</td>\n",
              "      <td>22454240</td>\n",
              "      <td>NaN</td>\n",
              "      <td>8400.0</td>\n",
              "      <td>8400.0</td>\n",
              "      <td>8400.0</td>\n",
              "      <td>36 months</td>\n",
              "      <td>9.17</td>\n",
              "      <td>267.79</td>\n",
              "      <td>B</td>\n",
              "      <td>...</td>\n",
              "      <td>NaN</td>\n",
              "      <td>NaN</td>\n",
              "      <td>Cash</td>\n",
              "      <td>N</td>\n",
              "      <td>NaN</td>\n",
              "      <td>NaN</td>\n",
              "      <td>NaN</td>\n",
              "      <td>NaN</td>\n",
              "      <td>NaN</td>\n",
              "      <td>NaN</td>\n",
              "    </tr>\n",
              "    <tr>\n",
              "      <th>99996</th>\n",
              "      <td>99996</td>\n",
              "      <td>11396920</td>\n",
              "      <td>NaN</td>\n",
              "      <td>10000.0</td>\n",
              "      <td>10000.0</td>\n",
              "      <td>10000.0</td>\n",
              "      <td>36 months</td>\n",
              "      <td>12.99</td>\n",
              "      <td>336.90</td>\n",
              "      <td>C</td>\n",
              "      <td>...</td>\n",
              "      <td>NaN</td>\n",
              "      <td>NaN</td>\n",
              "      <td>Cash</td>\n",
              "      <td>N</td>\n",
              "      <td>NaN</td>\n",
              "      <td>NaN</td>\n",
              "      <td>NaN</td>\n",
              "      <td>NaN</td>\n",
              "      <td>NaN</td>\n",
              "      <td>NaN</td>\n",
              "    </tr>\n",
              "    <tr>\n",
              "      <th>99997</th>\n",
              "      <td>99997</td>\n",
              "      <td>8556176</td>\n",
              "      <td>NaN</td>\n",
              "      <td>30000.0</td>\n",
              "      <td>30000.0</td>\n",
              "      <td>30000.0</td>\n",
              "      <td>60 months</td>\n",
              "      <td>20.99</td>\n",
              "      <td>811.44</td>\n",
              "      <td>E</td>\n",
              "      <td>...</td>\n",
              "      <td>NaN</td>\n",
              "      <td>NaN</td>\n",
              "      <td>Cash</td>\n",
              "      <td>N</td>\n",
              "      <td>NaN</td>\n",
              "      <td>NaN</td>\n",
              "      <td>NaN</td>\n",
              "      <td>NaN</td>\n",
              "      <td>NaN</td>\n",
              "      <td>NaN</td>\n",
              "    </tr>\n",
              "    <tr>\n",
              "      <th>99998</th>\n",
              "      <td>99998</td>\n",
              "      <td>24023408</td>\n",
              "      <td>NaN</td>\n",
              "      <td>8475.0</td>\n",
              "      <td>8475.0</td>\n",
              "      <td>8475.0</td>\n",
              "      <td>36 months</td>\n",
              "      <td>24.99</td>\n",
              "      <td>336.92</td>\n",
              "      <td>F</td>\n",
              "      <td>...</td>\n",
              "      <td>NaN</td>\n",
              "      <td>NaN</td>\n",
              "      <td>Cash</td>\n",
              "      <td>N</td>\n",
              "      <td>NaN</td>\n",
              "      <td>NaN</td>\n",
              "      <td>NaN</td>\n",
              "      <td>NaN</td>\n",
              "      <td>NaN</td>\n",
              "      <td>NaN</td>\n",
              "    </tr>\n",
              "    <tr>\n",
              "      <th>99999</th>\n",
              "      <td>99999</td>\n",
              "      <td>24023398</td>\n",
              "      <td>NaN</td>\n",
              "      <td>25000.0</td>\n",
              "      <td>25000.0</td>\n",
              "      <td>25000.0</td>\n",
              "      <td>36 months</td>\n",
              "      <td>10.15</td>\n",
              "      <td>808.45</td>\n",
              "      <td>B</td>\n",
              "      <td>...</td>\n",
              "      <td>NaN</td>\n",
              "      <td>NaN</td>\n",
              "      <td>Cash</td>\n",
              "      <td>N</td>\n",
              "      <td>NaN</td>\n",
              "      <td>NaN</td>\n",
              "      <td>NaN</td>\n",
              "      <td>NaN</td>\n",
              "      <td>NaN</td>\n",
              "      <td>NaN</td>\n",
              "    </tr>\n",
              "  </tbody>\n",
              "</table>\n",
              "<p>100000 rows × 151 columns</p>\n",
              "</div>"
            ],
            "text/plain": [
              "       Unnamed: 0        id  member_id  loan_amnt  funded_amnt  \\\n",
              "0               0  38098114        NaN    15000.0      15000.0   \n",
              "1               1  36805548        NaN    10400.0      10400.0   \n",
              "2               2  37842129        NaN    21425.0      21425.0   \n",
              "3               3  37612354        NaN    12800.0      12800.0   \n",
              "4               4  37662224        NaN     7650.0       7650.0   \n",
              "...           ...       ...        ...        ...          ...   \n",
              "99995       99995  22454240        NaN     8400.0       8400.0   \n",
              "99996       99996  11396920        NaN    10000.0      10000.0   \n",
              "99997       99997   8556176        NaN    30000.0      30000.0   \n",
              "99998       99998  24023408        NaN     8475.0       8475.0   \n",
              "99999       99999  24023398        NaN    25000.0      25000.0   \n",
              "\n",
              "       funded_amnt_inv        term  int_rate  installment grade  ...  \\\n",
              "0              15000.0   60 months     12.39       336.64     C  ...   \n",
              "1              10400.0   36 months      6.99       321.08     A  ...   \n",
              "2              21425.0   60 months     15.59       516.36     D  ...   \n",
              "3              12800.0   60 months     17.14       319.08     D  ...   \n",
              "4               7650.0   36 months     13.66       260.20     C  ...   \n",
              "...                ...         ...       ...          ...   ...  ...   \n",
              "99995           8400.0   36 months      9.17       267.79     B  ...   \n",
              "99996          10000.0   36 months     12.99       336.90     C  ...   \n",
              "99997          30000.0   60 months     20.99       811.44     E  ...   \n",
              "99998           8475.0   36 months     24.99       336.92     F  ...   \n",
              "99999          25000.0   36 months     10.15       808.45     B  ...   \n",
              "\n",
              "      hardship_payoff_balance_amount hardship_last_payment_amount  \\\n",
              "0                                NaN                          NaN   \n",
              "1                                NaN                          NaN   \n",
              "2                                NaN                          NaN   \n",
              "3                                NaN                          NaN   \n",
              "4                                NaN                          NaN   \n",
              "...                              ...                          ...   \n",
              "99995                            NaN                          NaN   \n",
              "99996                            NaN                          NaN   \n",
              "99997                            NaN                          NaN   \n",
              "99998                            NaN                          NaN   \n",
              "99999                            NaN                          NaN   \n",
              "\n",
              "      disbursement_method debt_settlement_flag  debt_settlement_flag_date  \\\n",
              "0                    Cash                    N                        NaN   \n",
              "1                    Cash                    N                        NaN   \n",
              "2                    Cash                    N                        NaN   \n",
              "3                    Cash                    N                        NaN   \n",
              "4                    Cash                    N                        NaN   \n",
              "...                   ...                  ...                        ...   \n",
              "99995                Cash                    N                        NaN   \n",
              "99996                Cash                    N                        NaN   \n",
              "99997                Cash                    N                        NaN   \n",
              "99998                Cash                    N                        NaN   \n",
              "99999                Cash                    N                        NaN   \n",
              "\n",
              "      settlement_status settlement_date settlement_amount  \\\n",
              "0                   NaN             NaN               NaN   \n",
              "1                   NaN             NaN               NaN   \n",
              "2                   NaN             NaN               NaN   \n",
              "3                   NaN             NaN               NaN   \n",
              "4                   NaN             NaN               NaN   \n",
              "...                 ...             ...               ...   \n",
              "99995               NaN             NaN               NaN   \n",
              "99996               NaN             NaN               NaN   \n",
              "99997               NaN             NaN               NaN   \n",
              "99998               NaN             NaN               NaN   \n",
              "99999               NaN             NaN               NaN   \n",
              "\n",
              "      settlement_percentage settlement_term  \n",
              "0                       NaN             NaN  \n",
              "1                       NaN             NaN  \n",
              "2                       NaN             NaN  \n",
              "3                       NaN             NaN  \n",
              "4                       NaN             NaN  \n",
              "...                     ...             ...  \n",
              "99995                   NaN             NaN  \n",
              "99996                   NaN             NaN  \n",
              "99997                   NaN             NaN  \n",
              "99998                   NaN             NaN  \n",
              "99999                   NaN             NaN  \n",
              "\n",
              "[100000 rows x 151 columns]"
            ]
          },
          "execution_count": 5,
          "metadata": {},
          "output_type": "execute_result"
        }
      ],
      "source": [
        "## la extension gz del url nos dice que esta comprimido en gzip, por lo que al agregar \"compression='gzip'\" funciona\n",
        "loans = pd.read_csv('https://github.com/sonder-art/fdd_prim_2023/blob/main/codigo/pandas/LoansData_sample.csv.gz?raw=true',compression='gzip')\n",
        "\n",
        "loans\n"
      ]
    },
    {
      "cell_type": "markdown",
      "metadata": {
        "id": "lT1cVeifLHsf"
      },
      "source": [
        "## Tabla (column_name, type)"
      ]
    },
    {
      "cell_type": "markdown",
      "metadata": {
        "id": "-mOo_I26LHsf"
      },
      "source": [
        "Revisa el metodo pd.DataFrame.dtypes. https://pandas.pydata.org/docs/reference/api/pandas.DataFrame.dtypes.html "
      ]
    },
    {
      "cell_type": "code",
      "execution_count": null,
      "metadata": {
        "id": "Cvf8Bn49LHsg",
        "outputId": "77ed8e88-3f96-4752-d705-cd86444ad25a"
      },
      "outputs": [
        {
          "data": {
            "text/plain": [
              "Unnamed: 0                 int64\n",
              "id                         int64\n",
              "member_id                float64\n",
              "loan_amnt                float64\n",
              "funded_amnt              float64\n",
              "                          ...   \n",
              "settlement_status         object\n",
              "settlement_date           object\n",
              "settlement_amount        float64\n",
              "settlement_percentage    float64\n",
              "settlement_term          float64\n",
              "Length: 151, dtype: object"
            ]
          },
          "execution_count": 7,
          "metadata": {},
          "output_type": "execute_result"
        }
      ],
      "source": [
        "column_types = loans.dtypes ## nos da de que es cada columna.\n",
        "column_types"
      ]
    },
    {
      "cell_type": "markdown",
      "metadata": {
        "id": "sGCeHa72LHsg"
      },
      "source": [
        "## Cargar descripcion de columnas"
      ]
    },
    {
      "cell_type": "markdown",
      "metadata": {
        "id": "N9VgLl5HLHsh"
      },
      "source": [
        "La siguiente tabla tiene una descripcion del significado de cada columna"
      ]
    },
    {
      "cell_type": "code",
      "execution_count": null,
      "metadata": {
        "id": "GJRtkN0dLHsh"
      },
      "outputs": [],
      "source": [
        "datos_dict = pd.read_excel('https://resources.lendingclub.com/LCDataDictionary.xlsx')\n",
        "datos_dict.columns = ['feature', 'description']\n"
      ]
    },
    {
      "cell_type": "code",
      "execution_count": null,
      "metadata": {
        "id": "jza1VfMNLHsh",
        "outputId": "c5f1d290-2bcb-453c-891b-2ed81305981c"
      },
      "outputs": [
        {
          "data": {
            "text/html": [
              "<div>\n",
              "<style scoped>\n",
              "    .dataframe tbody tr th:only-of-type {\n",
              "        vertical-align: middle;\n",
              "    }\n",
              "\n",
              "    .dataframe tbody tr th {\n",
              "        vertical-align: top;\n",
              "    }\n",
              "\n",
              "    .dataframe thead th {\n",
              "        text-align: right;\n",
              "    }\n",
              "</style>\n",
              "<table border=\"1\" class=\"dataframe\">\n",
              "  <thead>\n",
              "    <tr style=\"text-align: right;\">\n",
              "      <th></th>\n",
              "      <th>feature</th>\n",
              "      <th>description</th>\n",
              "    </tr>\n",
              "  </thead>\n",
              "  <tbody>\n",
              "    <tr>\n",
              "      <th>0</th>\n",
              "      <td>acc_now_delinq</td>\n",
              "      <td>The number of accounts on which the borrower i...</td>\n",
              "    </tr>\n",
              "    <tr>\n",
              "      <th>1</th>\n",
              "      <td>acc_open_past_24mths</td>\n",
              "      <td>Number of trades opened in past 24 months.</td>\n",
              "    </tr>\n",
              "    <tr>\n",
              "      <th>2</th>\n",
              "      <td>addr_state</td>\n",
              "      <td>The state provided by the borrower in the loan...</td>\n",
              "    </tr>\n",
              "    <tr>\n",
              "      <th>3</th>\n",
              "      <td>all_util</td>\n",
              "      <td>Balance to credit limit on all trades</td>\n",
              "    </tr>\n",
              "    <tr>\n",
              "      <th>4</th>\n",
              "      <td>annual_inc</td>\n",
              "      <td>The self-reported annual income provided by th...</td>\n",
              "    </tr>\n",
              "    <tr>\n",
              "      <th>...</th>\n",
              "      <td>...</td>\n",
              "      <td>...</td>\n",
              "    </tr>\n",
              "    <tr>\n",
              "      <th>148</th>\n",
              "      <td>settlement_amount</td>\n",
              "      <td>The loan amount that the borrower has agreed t...</td>\n",
              "    </tr>\n",
              "    <tr>\n",
              "      <th>149</th>\n",
              "      <td>settlement_percentage</td>\n",
              "      <td>The settlement amount as a percentage of the p...</td>\n",
              "    </tr>\n",
              "    <tr>\n",
              "      <th>150</th>\n",
              "      <td>settlement_term</td>\n",
              "      <td>The number of months that the borrower will be...</td>\n",
              "    </tr>\n",
              "    <tr>\n",
              "      <th>151</th>\n",
              "      <td>NaN</td>\n",
              "      <td>NaN</td>\n",
              "    </tr>\n",
              "    <tr>\n",
              "      <th>152</th>\n",
              "      <td>NaN</td>\n",
              "      <td>* Employer Title replaces Employer Name for al...</td>\n",
              "    </tr>\n",
              "  </tbody>\n",
              "</table>\n",
              "<p>153 rows × 2 columns</p>\n",
              "</div>"
            ],
            "text/plain": [
              "                   feature                                        description\n",
              "0           acc_now_delinq  The number of accounts on which the borrower i...\n",
              "1     acc_open_past_24mths         Number of trades opened in past 24 months.\n",
              "2               addr_state  The state provided by the borrower in the loan...\n",
              "3                 all_util              Balance to credit limit on all trades\n",
              "4               annual_inc  The self-reported annual income provided by th...\n",
              "..                     ...                                                ...\n",
              "148      settlement_amount  The loan amount that the borrower has agreed t...\n",
              "149  settlement_percentage  The settlement amount as a percentage of the p...\n",
              "150        settlement_term  The number of months that the borrower will be...\n",
              "151                    NaN                                                NaN\n",
              "152                    NaN  * Employer Title replaces Employer Name for al...\n",
              "\n",
              "[153 rows x 2 columns]"
            ]
          },
          "execution_count": 16,
          "metadata": {},
          "output_type": "execute_result"
        }
      ],
      "source": [
        "datos_dict"
      ]
    },
    {
      "cell_type": "markdown",
      "metadata": {
        "id": "x7Fc5y3PLHsi"
      },
      "source": [
        "### Pickle"
      ]
    },
    {
      "cell_type": "markdown",
      "metadata": {
        "id": "ZTZBTFc6LHsi"
      },
      "source": [
        "Crea codigo para **guardar** y **cargar** el DataFrame de `datos_dict` creada en las celdas anteriores en formato **pickle**"
      ]
    },
    {
      "cell_type": "code",
      "execution_count": null,
      "metadata": {
        "id": "SpnGzMCoLHsi"
      },
      "outputs": [],
      "source": [
        "# Df solo con las columnas no vacias\n",
        "df = datos_dict.dropna(subset='feature')"
      ]
    },
    {
      "cell_type": "code",
      "execution_count": null,
      "metadata": {
        "id": "Buk78J4ZLHsj"
      },
      "outputs": [],
      "source": [
        "# COdigo guardar\n",
        "df.to_pickle(\"df.pkl\")"
      ]
    },
    {
      "cell_type": "code",
      "execution_count": null,
      "metadata": {
        "id": "cCfMpPhmLHsj",
        "outputId": "7418dcf6-5ec8-4965-8b09-03df91562369"
      },
      "outputs": [
        {
          "data": {
            "text/html": [
              "<div>\n",
              "<style scoped>\n",
              "    .dataframe tbody tr th:only-of-type {\n",
              "        vertical-align: middle;\n",
              "    }\n",
              "\n",
              "    .dataframe tbody tr th {\n",
              "        vertical-align: top;\n",
              "    }\n",
              "\n",
              "    .dataframe thead th {\n",
              "        text-align: right;\n",
              "    }\n",
              "</style>\n",
              "<table border=\"1\" class=\"dataframe\">\n",
              "  <thead>\n",
              "    <tr style=\"text-align: right;\">\n",
              "      <th></th>\n",
              "      <th>feature</th>\n",
              "      <th>description</th>\n",
              "    </tr>\n",
              "  </thead>\n",
              "  <tbody>\n",
              "    <tr>\n",
              "      <th>0</th>\n",
              "      <td>acc_now_delinq</td>\n",
              "      <td>The number of accounts on which the borrower i...</td>\n",
              "    </tr>\n",
              "    <tr>\n",
              "      <th>1</th>\n",
              "      <td>acc_open_past_24mths</td>\n",
              "      <td>Number of trades opened in past 24 months.</td>\n",
              "    </tr>\n",
              "    <tr>\n",
              "      <th>2</th>\n",
              "      <td>addr_state</td>\n",
              "      <td>The state provided by the borrower in the loan...</td>\n",
              "    </tr>\n",
              "    <tr>\n",
              "      <th>3</th>\n",
              "      <td>all_util</td>\n",
              "      <td>Balance to credit limit on all trades</td>\n",
              "    </tr>\n",
              "    <tr>\n",
              "      <th>4</th>\n",
              "      <td>annual_inc</td>\n",
              "      <td>The self-reported annual income provided by th...</td>\n",
              "    </tr>\n",
              "    <tr>\n",
              "      <th>...</th>\n",
              "      <td>...</td>\n",
              "      <td>...</td>\n",
              "    </tr>\n",
              "    <tr>\n",
              "      <th>146</th>\n",
              "      <td>settlement_status</td>\n",
              "      <td>The status of the borrower’s settlement plan. ...</td>\n",
              "    </tr>\n",
              "    <tr>\n",
              "      <th>147</th>\n",
              "      <td>settlement_date</td>\n",
              "      <td>The date that the borrower agrees to the settl...</td>\n",
              "    </tr>\n",
              "    <tr>\n",
              "      <th>148</th>\n",
              "      <td>settlement_amount</td>\n",
              "      <td>The loan amount that the borrower has agreed t...</td>\n",
              "    </tr>\n",
              "    <tr>\n",
              "      <th>149</th>\n",
              "      <td>settlement_percentage</td>\n",
              "      <td>The settlement amount as a percentage of the p...</td>\n",
              "    </tr>\n",
              "    <tr>\n",
              "      <th>150</th>\n",
              "      <td>settlement_term</td>\n",
              "      <td>The number of months that the borrower will be...</td>\n",
              "    </tr>\n",
              "  </tbody>\n",
              "</table>\n",
              "<p>151 rows × 2 columns</p>\n",
              "</div>"
            ],
            "text/plain": [
              "                   feature                                        description\n",
              "0           acc_now_delinq  The number of accounts on which the borrower i...\n",
              "1     acc_open_past_24mths         Number of trades opened in past 24 months.\n",
              "2               addr_state  The state provided by the borrower in the loan...\n",
              "3                 all_util              Balance to credit limit on all trades\n",
              "4               annual_inc  The self-reported annual income provided by th...\n",
              "..                     ...                                                ...\n",
              "146      settlement_status  The status of the borrower’s settlement plan. ...\n",
              "147        settlement_date  The date that the borrower agrees to the settl...\n",
              "148      settlement_amount  The loan amount that the borrower has agreed t...\n",
              "149  settlement_percentage  The settlement amount as a percentage of the p...\n",
              "150        settlement_term  The number of months that the borrower will be...\n",
              "\n",
              "[151 rows x 2 columns]"
            ]
          },
          "execution_count": 26,
          "metadata": {},
          "output_type": "execute_result"
        }
      ],
      "source": [
        "# Codigo para cargar\n",
        "lp = pd.read_pickle(\"df.pkl\")\n",
        "lp"
      ]
    },
    {
      "cell_type": "markdown",
      "metadata": {
        "id": "P9BMubUeLHsk"
      },
      "source": [
        "## Tipos de Datos"
      ]
    },
    {
      "cell_type": "markdown",
      "metadata": {
        "id": "wfo8g-wZLHsk"
      },
      "source": [
        "Realiza las transformaciones o casteos (casting) que creas necesarios a tus datos de tal manera que el typo de dato sea adecuado. Al terminar recrea la tabla `column_types` con los nuevos tipos."
      ]
    },
    {
      "cell_type": "markdown",
      "metadata": {
        "id": "PtN_8OliLHsk"
      },
      "source": [
        "No olvides anotar tus justificaciones para recordar cuando te toque explicarlo."
      ]
    },
    {
      "cell_type": "code",
      "execution_count": null,
      "metadata": {
        "id": "zv4jPHN7LHsl",
        "outputId": "8f0e3f87-677b-4a6b-f3f9-d8505c5d551c"
      },
      "outputs": [
        {
          "data": {
            "text/plain": [
              "Unnamed: 0                 Int64\n",
              "id                         Int64\n",
              "member_id                  Int64\n",
              "loan_amnt                  Int64\n",
              "funded_amnt                Int64\n",
              "                          ...   \n",
              "settlement_status         string\n",
              "settlement_date           string\n",
              "settlement_amount        Float64\n",
              "settlement_percentage    Float64\n",
              "settlement_term            Int64\n",
              "Length: 151, dtype: object"
            ]
          },
          "execution_count": 31,
          "metadata": {},
          "output_type": "execute_result"
        }
      ],
      "source": [
        "loans2=loans.convert_dtypes() ## convierte por columna al mejor tipo posible\n",
        "loans2.dtypes"
      ]
    },
    {
      "cell_type": "code",
      "execution_count": null,
      "metadata": {
        "id": "ChtAKpTyLHsl",
        "outputId": "994de701-85fc-46e4-b56a-83d3fc37e8e7"
      },
      "outputs": [
        {
          "data": {
            "text/html": [
              "<div>\n",
              "<style scoped>\n",
              "    .dataframe tbody tr th:only-of-type {\n",
              "        vertical-align: middle;\n",
              "    }\n",
              "\n",
              "    .dataframe tbody tr th {\n",
              "        vertical-align: top;\n",
              "    }\n",
              "\n",
              "    .dataframe thead th {\n",
              "        text-align: right;\n",
              "    }\n",
              "</style>\n",
              "<table border=\"1\" class=\"dataframe\">\n",
              "  <thead>\n",
              "    <tr style=\"text-align: right;\">\n",
              "      <th></th>\n",
              "      <th>Unnamed: 0</th>\n",
              "      <th>id</th>\n",
              "      <th>loan_amnt</th>\n",
              "      <th>funded_amnt</th>\n",
              "      <th>funded_amnt_inv</th>\n",
              "      <th>term</th>\n",
              "      <th>int_rate</th>\n",
              "      <th>installment</th>\n",
              "      <th>grade</th>\n",
              "      <th>sub_grade</th>\n",
              "      <th>...</th>\n",
              "      <th>pct_tl_nvr_dlq</th>\n",
              "      <th>pub_rec_bankruptcies</th>\n",
              "      <th>tax_liens</th>\n",
              "      <th>tot_hi_cred_lim</th>\n",
              "      <th>total_bal_ex_mort</th>\n",
              "      <th>total_bc_limit</th>\n",
              "      <th>total_il_high_credit_limit</th>\n",
              "      <th>hardship_flag</th>\n",
              "      <th>disbursement_method</th>\n",
              "      <th>debt_settlement_flag</th>\n",
              "    </tr>\n",
              "  </thead>\n",
              "  <tbody>\n",
              "    <tr>\n",
              "      <th>0</th>\n",
              "      <td>0</td>\n",
              "      <td>38098114</td>\n",
              "      <td>15000</td>\n",
              "      <td>15000</td>\n",
              "      <td>15000</td>\n",
              "      <td>60 months</td>\n",
              "      <td>12.39</td>\n",
              "      <td>336.64</td>\n",
              "      <td>C</td>\n",
              "      <td>C1</td>\n",
              "      <td>...</td>\n",
              "      <td>100.0</td>\n",
              "      <td>0</td>\n",
              "      <td>0</td>\n",
              "      <td>196500</td>\n",
              "      <td>149140</td>\n",
              "      <td>10000</td>\n",
              "      <td>12000</td>\n",
              "      <td>N</td>\n",
              "      <td>Cash</td>\n",
              "      <td>N</td>\n",
              "    </tr>\n",
              "    <tr>\n",
              "      <th>1</th>\n",
              "      <td>1</td>\n",
              "      <td>36805548</td>\n",
              "      <td>10400</td>\n",
              "      <td>10400</td>\n",
              "      <td>10400</td>\n",
              "      <td>36 months</td>\n",
              "      <td>6.99</td>\n",
              "      <td>321.08</td>\n",
              "      <td>A</td>\n",
              "      <td>A3</td>\n",
              "      <td>...</td>\n",
              "      <td>83.3</td>\n",
              "      <td>0</td>\n",
              "      <td>0</td>\n",
              "      <td>179407</td>\n",
              "      <td>15030</td>\n",
              "      <td>13000</td>\n",
              "      <td>11325</td>\n",
              "      <td>N</td>\n",
              "      <td>Cash</td>\n",
              "      <td>N</td>\n",
              "    </tr>\n",
              "    <tr>\n",
              "      <th>2</th>\n",
              "      <td>2</td>\n",
              "      <td>37842129</td>\n",
              "      <td>21425</td>\n",
              "      <td>21425</td>\n",
              "      <td>21425</td>\n",
              "      <td>60 months</td>\n",
              "      <td>15.59</td>\n",
              "      <td>516.36</td>\n",
              "      <td>D</td>\n",
              "      <td>D1</td>\n",
              "      <td>...</td>\n",
              "      <td>91.4</td>\n",
              "      <td>0</td>\n",
              "      <td>0</td>\n",
              "      <td>57073</td>\n",
              "      <td>42315</td>\n",
              "      <td>15000</td>\n",
              "      <td>35573</td>\n",
              "      <td>N</td>\n",
              "      <td>Cash</td>\n",
              "      <td>N</td>\n",
              "    </tr>\n",
              "    <tr>\n",
              "      <th>3</th>\n",
              "      <td>3</td>\n",
              "      <td>37612354</td>\n",
              "      <td>12800</td>\n",
              "      <td>12800</td>\n",
              "      <td>12800</td>\n",
              "      <td>60 months</td>\n",
              "      <td>17.14</td>\n",
              "      <td>319.08</td>\n",
              "      <td>D</td>\n",
              "      <td>D4</td>\n",
              "      <td>...</td>\n",
              "      <td>76.9</td>\n",
              "      <td>0</td>\n",
              "      <td>0</td>\n",
              "      <td>368700</td>\n",
              "      <td>18007</td>\n",
              "      <td>4400</td>\n",
              "      <td>18000</td>\n",
              "      <td>N</td>\n",
              "      <td>Cash</td>\n",
              "      <td>N</td>\n",
              "    </tr>\n",
              "    <tr>\n",
              "      <th>4</th>\n",
              "      <td>4</td>\n",
              "      <td>37662224</td>\n",
              "      <td>7650</td>\n",
              "      <td>7650</td>\n",
              "      <td>7650</td>\n",
              "      <td>36 months</td>\n",
              "      <td>13.66</td>\n",
              "      <td>260.2</td>\n",
              "      <td>C</td>\n",
              "      <td>C3</td>\n",
              "      <td>...</td>\n",
              "      <td>100.0</td>\n",
              "      <td>0</td>\n",
              "      <td>0</td>\n",
              "      <td>82331</td>\n",
              "      <td>64426</td>\n",
              "      <td>4900</td>\n",
              "      <td>64031</td>\n",
              "      <td>N</td>\n",
              "      <td>Cash</td>\n",
              "      <td>N</td>\n",
              "    </tr>\n",
              "    <tr>\n",
              "      <th>...</th>\n",
              "      <td>...</td>\n",
              "      <td>...</td>\n",
              "      <td>...</td>\n",
              "      <td>...</td>\n",
              "      <td>...</td>\n",
              "      <td>...</td>\n",
              "      <td>...</td>\n",
              "      <td>...</td>\n",
              "      <td>...</td>\n",
              "      <td>...</td>\n",
              "      <td>...</td>\n",
              "      <td>...</td>\n",
              "      <td>...</td>\n",
              "      <td>...</td>\n",
              "      <td>...</td>\n",
              "      <td>...</td>\n",
              "      <td>...</td>\n",
              "      <td>...</td>\n",
              "      <td>...</td>\n",
              "      <td>...</td>\n",
              "      <td>...</td>\n",
              "    </tr>\n",
              "    <tr>\n",
              "      <th>99995</th>\n",
              "      <td>99995</td>\n",
              "      <td>22454240</td>\n",
              "      <td>8400</td>\n",
              "      <td>8400</td>\n",
              "      <td>8400</td>\n",
              "      <td>36 months</td>\n",
              "      <td>9.17</td>\n",
              "      <td>267.79</td>\n",
              "      <td>B</td>\n",
              "      <td>B1</td>\n",
              "      <td>...</td>\n",
              "      <td>93.7</td>\n",
              "      <td>0</td>\n",
              "      <td>0</td>\n",
              "      <td>209557</td>\n",
              "      <td>20872</td>\n",
              "      <td>11000</td>\n",
              "      <td>15473</td>\n",
              "      <td>N</td>\n",
              "      <td>Cash</td>\n",
              "      <td>N</td>\n",
              "    </tr>\n",
              "    <tr>\n",
              "      <th>99996</th>\n",
              "      <td>99996</td>\n",
              "      <td>11396920</td>\n",
              "      <td>10000</td>\n",
              "      <td>10000</td>\n",
              "      <td>10000</td>\n",
              "      <td>36 months</td>\n",
              "      <td>12.99</td>\n",
              "      <td>336.9</td>\n",
              "      <td>C</td>\n",
              "      <td>C1</td>\n",
              "      <td>...</td>\n",
              "      <td>100.0</td>\n",
              "      <td>0</td>\n",
              "      <td>0</td>\n",
              "      <td>64149</td>\n",
              "      <td>46413</td>\n",
              "      <td>24300</td>\n",
              "      <td>39849</td>\n",
              "      <td>N</td>\n",
              "      <td>Cash</td>\n",
              "      <td>N</td>\n",
              "    </tr>\n",
              "    <tr>\n",
              "      <th>99997</th>\n",
              "      <td>99997</td>\n",
              "      <td>8556176</td>\n",
              "      <td>30000</td>\n",
              "      <td>30000</td>\n",
              "      <td>30000</td>\n",
              "      <td>60 months</td>\n",
              "      <td>20.99</td>\n",
              "      <td>811.44</td>\n",
              "      <td>E</td>\n",
              "      <td>E4</td>\n",
              "      <td>...</td>\n",
              "      <td>93.3</td>\n",
              "      <td>0</td>\n",
              "      <td>0</td>\n",
              "      <td>371088</td>\n",
              "      <td>45447</td>\n",
              "      <td>22300</td>\n",
              "      <td>25212</td>\n",
              "      <td>N</td>\n",
              "      <td>Cash</td>\n",
              "      <td>N</td>\n",
              "    </tr>\n",
              "    <tr>\n",
              "      <th>99998</th>\n",
              "      <td>99998</td>\n",
              "      <td>24023408</td>\n",
              "      <td>8475</td>\n",
              "      <td>8475</td>\n",
              "      <td>8475</td>\n",
              "      <td>36 months</td>\n",
              "      <td>24.99</td>\n",
              "      <td>336.92</td>\n",
              "      <td>F</td>\n",
              "      <td>F4</td>\n",
              "      <td>...</td>\n",
              "      <td>86.4</td>\n",
              "      <td>1</td>\n",
              "      <td>0</td>\n",
              "      <td>43686</td>\n",
              "      <td>31247</td>\n",
              "      <td>2700</td>\n",
              "      <td>35386</td>\n",
              "      <td>N</td>\n",
              "      <td>Cash</td>\n",
              "      <td>N</td>\n",
              "    </tr>\n",
              "    <tr>\n",
              "      <th>99999</th>\n",
              "      <td>99999</td>\n",
              "      <td>24023398</td>\n",
              "      <td>25000</td>\n",
              "      <td>25000</td>\n",
              "      <td>25000</td>\n",
              "      <td>36 months</td>\n",
              "      <td>10.15</td>\n",
              "      <td>808.45</td>\n",
              "      <td>B</td>\n",
              "      <td>B2</td>\n",
              "      <td>...</td>\n",
              "      <td>100.0</td>\n",
              "      <td>0</td>\n",
              "      <td>0</td>\n",
              "      <td>290888</td>\n",
              "      <td>71301</td>\n",
              "      <td>40300</td>\n",
              "      <td>64888</td>\n",
              "      <td>N</td>\n",
              "      <td>Cash</td>\n",
              "      <td>N</td>\n",
              "    </tr>\n",
              "  </tbody>\n",
              "</table>\n",
              "<p>100000 rows × 81 columns</p>\n",
              "</div>"
            ],
            "text/plain": [
              "       Unnamed: 0        id  loan_amnt  funded_amnt  funded_amnt_inv  \\\n",
              "0               0  38098114      15000        15000            15000   \n",
              "1               1  36805548      10400        10400            10400   \n",
              "2               2  37842129      21425        21425            21425   \n",
              "3               3  37612354      12800        12800            12800   \n",
              "4               4  37662224       7650         7650             7650   \n",
              "...           ...       ...        ...          ...              ...   \n",
              "99995       99995  22454240       8400         8400             8400   \n",
              "99996       99996  11396920      10000        10000            10000   \n",
              "99997       99997   8556176      30000        30000            30000   \n",
              "99998       99998  24023408       8475         8475             8475   \n",
              "99999       99999  24023398      25000        25000            25000   \n",
              "\n",
              "             term  int_rate  installment grade sub_grade  ... pct_tl_nvr_dlq  \\\n",
              "0       60 months     12.39       336.64     C        C1  ...          100.0   \n",
              "1       36 months      6.99       321.08     A        A3  ...           83.3   \n",
              "2       60 months     15.59       516.36     D        D1  ...           91.4   \n",
              "3       60 months     17.14       319.08     D        D4  ...           76.9   \n",
              "4       36 months     13.66        260.2     C        C3  ...          100.0   \n",
              "...           ...       ...          ...   ...       ...  ...            ...   \n",
              "99995   36 months      9.17       267.79     B        B1  ...           93.7   \n",
              "99996   36 months     12.99        336.9     C        C1  ...          100.0   \n",
              "99997   60 months     20.99       811.44     E        E4  ...           93.3   \n",
              "99998   36 months     24.99       336.92     F        F4  ...           86.4   \n",
              "99999   36 months     10.15       808.45     B        B2  ...          100.0   \n",
              "\n",
              "       pub_rec_bankruptcies tax_liens tot_hi_cred_lim total_bal_ex_mort  \\\n",
              "0                         0         0          196500            149140   \n",
              "1                         0         0          179407             15030   \n",
              "2                         0         0           57073             42315   \n",
              "3                         0         0          368700             18007   \n",
              "4                         0         0           82331             64426   \n",
              "...                     ...       ...             ...               ...   \n",
              "99995                     0         0          209557             20872   \n",
              "99996                     0         0           64149             46413   \n",
              "99997                     0         0          371088             45447   \n",
              "99998                     1         0           43686             31247   \n",
              "99999                     0         0          290888             71301   \n",
              "\n",
              "      total_bc_limit total_il_high_credit_limit hardship_flag  \\\n",
              "0              10000                      12000             N   \n",
              "1              13000                      11325             N   \n",
              "2              15000                      35573             N   \n",
              "3               4400                      18000             N   \n",
              "4               4900                      64031             N   \n",
              "...              ...                        ...           ...   \n",
              "99995          11000                      15473             N   \n",
              "99996          24300                      39849             N   \n",
              "99997          22300                      25212             N   \n",
              "99998           2700                      35386             N   \n",
              "99999          40300                      64888             N   \n",
              "\n",
              "      disbursement_method debt_settlement_flag  \n",
              "0                    Cash                    N  \n",
              "1                    Cash                    N  \n",
              "2                    Cash                    N  \n",
              "3                    Cash                    N  \n",
              "4                    Cash                    N  \n",
              "...                   ...                  ...  \n",
              "99995                Cash                    N  \n",
              "99996                Cash                    N  \n",
              "99997                Cash                    N  \n",
              "99998                Cash                    N  \n",
              "99999                Cash                    N  \n",
              "\n",
              "[100000 rows x 81 columns]"
            ]
          },
          "execution_count": 39,
          "metadata": {},
          "output_type": "execute_result"
        }
      ],
      "source": [
        "##borramos las columnas que son del tipo NA\n",
        "newLoans=loans2.dropna(axis=1)\n",
        "newLoans"
      ]
    },
    {
      "cell_type": "markdown",
      "metadata": {
        "id": "FjgykjYvLHsm"
      },
      "source": [
        "## Manejo de NaNs o missings"
      ]
    },
    {
      "cell_type": "markdown",
      "metadata": {
        "id": "TjjM2oWFLHsm"
      },
      "source": [
        "Maneja los datos de tipos missing. Elije una estrategia adecuada dependiendo del tipo de dato que le asignaste a la columna.\n"
      ]
    },
    {
      "cell_type": "markdown",
      "metadata": {
        "id": "o2RJz7ZOLHsm"
      },
      "source": [
        "Crea codigo para **guardar** y **cargar** un archivo JSON en el que se guarde la `estrategia` y `valor` que utilizaste para **imputar**. Por ejemplo: Si hay una columna que se llama `columna 3` y utilizaste la estrategia de imputacion de media, y existe otra llamada `columna 4` y  elegiste la palabra 'missing' el JSON debera contener:  \n",
        "  \n",
        " `{'columna 3':{'estrategia':'mean', 'valor':3.4}, 'columna 4':{'estrategia':'identificador', 'valor':'missing'}}`  \n",
        "\n",
        " De tal manera que para cada columna que tenga un metodo de imputacion apunte a otro diccionario donde el **key** `estrategia` describa de manera sencilla el metodo, y el **key** `valor` el valor usado. En general:   \n",
        " `{'nombre de la columna':{'estrategia':'descripcion de estrategia', 'valor':'valor utilizado'}}`. \n",
        " \n",
        "\n",
        "De utilizar mas de un metodo puedes anidarlos en una lista  \n",
        "  `[{...},{...}]`.  \n",
        "\n",
        "Incluso si la columna utilizada no sufrio imputacion, es necesario que la agregues al JSON.\n",
        "\n",
        "La idea es que cualquier otra persona pueda cargar el el archivo JSON con tu funcion, entender que hiciste y replicarlo facilmente. No existe solo una respuesta correcta, pero tendras que justificar y explicar tus deciciones."
      ]
    },
    {
      "cell_type": "markdown",
      "metadata": {
        "id": "hcgByKzELHso"
      },
      "source": [
        "### Imputacion"
      ]
    },
    {
      "cell_type": "code",
      "execution_count": null,
      "metadata": {
        "id": "e3L8wZFwLHsp"
      },
      "outputs": [],
      "source": [
        "# Tu codigo aqui"
      ]
    },
    {
      "cell_type": "code",
      "execution_count": null,
      "metadata": {
        "id": "Ty95EnJZLHsp"
      },
      "outputs": [],
      "source": [
        "# TUcodigo aqui"
      ]
    },
    {
      "cell_type": "markdown",
      "metadata": {
        "id": "A4zVvYymLHsq"
      },
      "source": [
        "### Codigo para salvar y cargar JSONs"
      ]
    },
    {
      "cell_type": "code",
      "execution_count": null,
      "metadata": {
        "id": "axbpUbd1LHsq"
      },
      "outputs": [],
      "source": [
        "dic={}"
      ]
    },
    {
      "cell_type": "code",
      "execution_count": null,
      "metadata": {
        "id": "gHMBTh-YLHsq"
      },
      "outputs": [],
      "source": [
        "##abrir jsons\n",
        "import json\n",
        "with open('estrategias.json', 'w') as js:\n",
        "    json.dump(dic, js)"
      ]
    },
    {
      "cell_type": "code",
      "execution_count": null,
      "metadata": {
        "id": "gOmVt9paLHsr"
      },
      "outputs": [],
      "source": [
        "# cargar jsons\n",
        "with open('estrategias.json', 'r') as json_file:\n",
        "    prueba_dic = json.load(json_file)"
      ]
    },
    {
      "cell_type": "markdown",
      "source": [
        "# Anotaciones por Emiliano Bobadilla\n",
        "\n"
      ],
      "metadata": {
        "id": "8d2_C8GUL-b4"
      }
    },
    {
      "cell_type": "markdown",
      "source": [
        "READ CSV: Bien, soluciono los dos problemas al agregar \"compression='gzip'"
      ],
      "metadata": {
        "id": "V9vOGco3ODca"
      }
    },
    {
      "cell_type": "markdown",
      "source": [
        "COLUMN TYPES: Bien"
      ],
      "metadata": {
        "id": "8Dfg2vl5ODm9"
      }
    },
    {
      "cell_type": "markdown",
      "source": [
        "PICKLE: Hace bien ambas partes, cargar y guardar\n"
      ],
      "metadata": {
        "id": "FdDN3DhQODve"
      }
    },
    {
      "cell_type": "markdown",
      "source": [
        "CASTING: Utiliza el metodo pandas.DataFrame.convert_dtypes, sin embargo, pudo realizar un trabajo más especifico con algunas columnas que tienen combinación de números y letras, castear las fechas a números, convertir a booleanos las respuestas binarias, etc."
      ],
      "metadata": {
        "id": "sY6sDI3POMeg"
      }
    },
    {
      "cell_type": "markdown",
      "source": [
        "Manejo de NaNs o missings: Borra las columnas con NaN\n",
        "JSON: Bien"
      ],
      "metadata": {
        "id": "azQW2y_OOVdJ"
      }
    }
  ],
  "metadata": {
    "kernelspec": {
      "display_name": "Python 3",
      "language": "python",
      "name": "python3"
    },
    "language_info": {
      "codemirror_mode": {
        "name": "ipython",
        "version": 3
      },
      "file_extension": ".py",
      "mimetype": "text/x-python",
      "name": "python",
      "nbconvert_exporter": "python",
      "pygments_lexer": "ipython3",
      "version": "3.10.9"
    },
    "orig_nbformat": 4,
    "vscode": {
      "interpreter": {
        "hash": "e7370f93d1d0cde622a1f8e1c04877d8463912d04d973331ad4851f04de6915a"
      }
    },
    "colab": {
      "provenance": []
    }
  },
  "nbformat": 4,
  "nbformat_minor": 0
}